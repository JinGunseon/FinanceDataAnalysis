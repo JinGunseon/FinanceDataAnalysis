{
  "cells": [
    {
      "cell_type": "markdown",
      "metadata": {
        "id": "view-in-github",
        "colab_type": "text"
      },
      "source": [
        "<a href=\"https://colab.research.google.com/github/JinGunseon/FinanceDataAnalysis/blob/main/%EC%8B%A4%EC%8A%B5_Linear_Regression%EC%9D%84_%EC%9D%B4%EC%9A%A9%ED%95%9C_%EC%B1%84%EA%B6%8C_%EC%88%98%EC%9D%B5%EB%A5%A0_%EC%98%88%EC%B8%A1.ipynb\" target=\"_parent\"><img src=\"https://colab.research.google.com/assets/colab-badge.svg\" alt=\"Open In Colab\"/></a>"
      ]
    },
    {
      "cell_type": "markdown",
      "id": "2b603b48-7ee7-4cc3-9489-01c284b89795",
      "metadata": {
        "id": "2b603b48-7ee7-4cc3-9489-01c284b89795"
      },
      "source": [
        "# 채권 수익률 예측 Machine Learning Model\n",
        "\n",
        "채권 가격을 예측하는 머신 러닝 모델을 작성하려면 먼저 채권 가격에 영향을 미치는 변수들을 수집하고, 이를 기반으로 모델을 학습시켜야 합니다. 일반적으로 채권 가격은 **이자율**, **만기 기간**, **신용 등급**, **쿠폰 금리**, **유동성** 등 다양한 요인에 의해 결정됩니다. 이 예제에서는 간단하게 경제 지표와 소비자 물가 지수를 이용하여 채권 수익률을 예측하는 회귀 모델을 구축하겠습니다.\n",
        "\n",
        "아래 예제에서는 머신 러닝 회귀 모델 중 하나인 `RandomForestRegressor`를 사용하겠습니다. 또한, Python의 `scikit-learn`과 `pandas` 라이브러리를 사용하여 데이터를 전처리하고 모델을 학습시킵니다.\n",
        "\n",
        "### 예제 코드: 미국 10년 만기 국채 수익률 예측\n",
        "\n",
        "1. **데이터 수집**:\n",
        "   - 미국 10년 만기 국채 수익률 (10Y Treasury Yield)을 가져옵니다.\n",
        "   - S&P 500 지수와 소비자 물가지수(CPI) 데이터를 가져와 경제 지표로 활용합니다.\n",
        "   - 여기서 `10Y_Treasury_Yield`는 금리에 해당하며, `SP500`와 `CPI`는 경기를 반영하는 추가 변수로 사용됩니다.\n",
        "<br>\n",
        "<br>\n",
        "3. **모델 학습**:\n",
        "   - 예측 변수(`X`)로 S&P 500 지수, CPI를 사용하고, 타깃 변수(`y`)로 채권 수익률을 설정합니다."
      ]
    },
    {
      "cell_type": "code",
      "execution_count": 1,
      "id": "a3bb72e2",
      "metadata": {
        "id": "a3bb72e2"
      },
      "outputs": [],
      "source": [
        "import pandas as pd\n",
        "import numpy as np\n",
        "from pandas_datareader import data as pdr\n",
        "import yfinance as yf\n",
        "from sklearn.model_selection import train_test_split\n",
        "from sklearn.ensemble import RandomForestRegressor\n",
        "from sklearn.metrics import mean_squared_error, r2_score\n",
        "import datetime"
      ]
    },
    {
      "cell_type": "code",
      "execution_count": 2,
      "id": "aef45c8f",
      "metadata": {
        "id": "aef45c8f",
        "colab": {
          "base_uri": "https://localhost:8080/",
          "height": 290
        },
        "outputId": "17f58c28-964e-477a-de5a-92b61f1c5c7c"
      },
      "outputs": [
        {
          "output_type": "stream",
          "name": "stdout",
          "text": [
            "(4009,)\n"
          ]
        },
        {
          "output_type": "execute_result",
          "data": {
            "text/plain": [
              "DATE\n",
              "2010-01-01     NaN\n",
              "2010-01-04    3.85\n",
              "2010-01-05    3.77\n",
              "2010-01-06    3.85\n",
              "2010-01-07    3.85\n",
              "Name: DGS10, dtype: float64"
            ],
            "text/html": [
              "<div>\n",
              "<style scoped>\n",
              "    .dataframe tbody tr th:only-of-type {\n",
              "        vertical-align: middle;\n",
              "    }\n",
              "\n",
              "    .dataframe tbody tr th {\n",
              "        vertical-align: top;\n",
              "    }\n",
              "\n",
              "    .dataframe thead th {\n",
              "        text-align: right;\n",
              "    }\n",
              "</style>\n",
              "<table border=\"1\" class=\"dataframe\">\n",
              "  <thead>\n",
              "    <tr style=\"text-align: right;\">\n",
              "      <th></th>\n",
              "      <th>DGS10</th>\n",
              "    </tr>\n",
              "    <tr>\n",
              "      <th>DATE</th>\n",
              "      <th></th>\n",
              "    </tr>\n",
              "  </thead>\n",
              "  <tbody>\n",
              "    <tr>\n",
              "      <th>2010-01-01</th>\n",
              "      <td>NaN</td>\n",
              "    </tr>\n",
              "    <tr>\n",
              "      <th>2010-01-04</th>\n",
              "      <td>3.85</td>\n",
              "    </tr>\n",
              "    <tr>\n",
              "      <th>2010-01-05</th>\n",
              "      <td>3.77</td>\n",
              "    </tr>\n",
              "    <tr>\n",
              "      <th>2010-01-06</th>\n",
              "      <td>3.85</td>\n",
              "    </tr>\n",
              "    <tr>\n",
              "      <th>2010-01-07</th>\n",
              "      <td>3.85</td>\n",
              "    </tr>\n",
              "  </tbody>\n",
              "</table>\n",
              "</div><br><label><b>dtype:</b> float64</label>"
            ]
          },
          "metadata": {},
          "execution_count": 2
        }
      ],
      "source": [
        "# 데이터 수집 기간 설정\n",
        "start_date = \"2010-01-01\"\n",
        "end_date = datetime.datetime.today().strftime(\"%Y-%m-%d\")  # 현재 날짜를 YYYY-MM-DD 형식으로 설정\n",
        "\n",
        "\n",
        "# 미국 10년 만기 국채 수익률 데이터 가져오기 (FRED 데이터)\n",
        "treasury_yield = pdr.get_data_fred(\"DGS10\", start=start_date, end=end_date)['DGS10']\n",
        "print(treasury_yield.shape)\n",
        "treasury_yield.head()"
      ]
    },
    {
      "cell_type": "code",
      "execution_count": 3,
      "id": "9362fb5d",
      "metadata": {
        "id": "9362fb5d",
        "colab": {
          "base_uri": "https://localhost:8080/",
          "height": 327
        },
        "outputId": "4df85fc8-a23e-47e0-ccc1-680df59fe47d"
      },
      "outputs": [
        {
          "output_type": "stream",
          "name": "stdout",
          "text": [
            "YF.download() has changed argument auto_adjust default to True\n"
          ]
        },
        {
          "output_type": "stream",
          "name": "stderr",
          "text": [
            "\r[*********************100%***********************]  1 of 1 completed"
          ]
        },
        {
          "output_type": "stream",
          "name": "stdout",
          "text": [
            "(3866,)\n"
          ]
        },
        {
          "output_type": "stream",
          "name": "stderr",
          "text": [
            "\n"
          ]
        },
        {
          "output_type": "execute_result",
          "data": {
            "text/plain": [
              "Date\n",
              "2010-01-04    1132.989990\n",
              "2010-01-05    1136.520020\n",
              "2010-01-06    1137.140015\n",
              "2010-01-07    1141.689941\n",
              "2010-01-08    1144.979980\n",
              "Name: Close, dtype: float64"
            ],
            "text/html": [
              "<div>\n",
              "<style scoped>\n",
              "    .dataframe tbody tr th:only-of-type {\n",
              "        vertical-align: middle;\n",
              "    }\n",
              "\n",
              "    .dataframe tbody tr th {\n",
              "        vertical-align: top;\n",
              "    }\n",
              "\n",
              "    .dataframe thead th {\n",
              "        text-align: right;\n",
              "    }\n",
              "</style>\n",
              "<table border=\"1\" class=\"dataframe\">\n",
              "  <thead>\n",
              "    <tr style=\"text-align: right;\">\n",
              "      <th></th>\n",
              "      <th>Close</th>\n",
              "    </tr>\n",
              "    <tr>\n",
              "      <th>Date</th>\n",
              "      <th></th>\n",
              "    </tr>\n",
              "  </thead>\n",
              "  <tbody>\n",
              "    <tr>\n",
              "      <th>2010-01-04</th>\n",
              "      <td>1132.989990</td>\n",
              "    </tr>\n",
              "    <tr>\n",
              "      <th>2010-01-05</th>\n",
              "      <td>1136.520020</td>\n",
              "    </tr>\n",
              "    <tr>\n",
              "      <th>2010-01-06</th>\n",
              "      <td>1137.140015</td>\n",
              "    </tr>\n",
              "    <tr>\n",
              "      <th>2010-01-07</th>\n",
              "      <td>1141.689941</td>\n",
              "    </tr>\n",
              "    <tr>\n",
              "      <th>2010-01-08</th>\n",
              "      <td>1144.979980</td>\n",
              "    </tr>\n",
              "  </tbody>\n",
              "</table>\n",
              "</div><br><label><b>dtype:</b> float64</label>"
            ]
          },
          "metadata": {},
          "execution_count": 3
        }
      ],
      "source": [
        "# S&P 500 데이터 가져오기 (경기 지표로 사용)\n",
        "sp500 = yf.download(\"^GSPC\", start=start_date, end=end_date, multi_level_index=False)['Close']\n",
        "print(sp500.shape)\n",
        "sp500.head()"
      ]
    },
    {
      "cell_type": "code",
      "execution_count": 4,
      "id": "e8e353a1",
      "metadata": {
        "id": "e8e353a1",
        "colab": {
          "base_uri": "https://localhost:8080/",
          "height": 290
        },
        "outputId": "aafee493-c093-4f6c-fc0b-0928ce78c6fa"
      },
      "outputs": [
        {
          "output_type": "stream",
          "name": "stdout",
          "text": [
            "(5570,)\n"
          ]
        },
        {
          "output_type": "execute_result",
          "data": {
            "text/plain": [
              "DATE\n",
              "2010-01-01    217.488000\n",
              "2010-01-02    217.481323\n",
              "2010-01-03    217.474645\n",
              "2010-01-04    217.467968\n",
              "2010-01-05    217.461290\n",
              "Freq: D, Name: CPIAUCSL, dtype: float64"
            ],
            "text/html": [
              "<div>\n",
              "<style scoped>\n",
              "    .dataframe tbody tr th:only-of-type {\n",
              "        vertical-align: middle;\n",
              "    }\n",
              "\n",
              "    .dataframe tbody tr th {\n",
              "        vertical-align: top;\n",
              "    }\n",
              "\n",
              "    .dataframe thead th {\n",
              "        text-align: right;\n",
              "    }\n",
              "</style>\n",
              "<table border=\"1\" class=\"dataframe\">\n",
              "  <thead>\n",
              "    <tr style=\"text-align: right;\">\n",
              "      <th></th>\n",
              "      <th>CPIAUCSL</th>\n",
              "    </tr>\n",
              "    <tr>\n",
              "      <th>DATE</th>\n",
              "      <th></th>\n",
              "    </tr>\n",
              "  </thead>\n",
              "  <tbody>\n",
              "    <tr>\n",
              "      <th>2010-01-01</th>\n",
              "      <td>217.488000</td>\n",
              "    </tr>\n",
              "    <tr>\n",
              "      <th>2010-01-02</th>\n",
              "      <td>217.481323</td>\n",
              "    </tr>\n",
              "    <tr>\n",
              "      <th>2010-01-03</th>\n",
              "      <td>217.474645</td>\n",
              "    </tr>\n",
              "    <tr>\n",
              "      <th>2010-01-04</th>\n",
              "      <td>217.467968</td>\n",
              "    </tr>\n",
              "    <tr>\n",
              "      <th>2010-01-05</th>\n",
              "      <td>217.461290</td>\n",
              "    </tr>\n",
              "  </tbody>\n",
              "</table>\n",
              "</div><br><label><b>dtype:</b> float64</label>"
            ]
          },
          "metadata": {},
          "execution_count": 4
        }
      ],
      "source": [
        "# 기타 경제 지표 예시로 소비자 물가지수 (CPI) 가져오기\n",
        "cpi = pdr.get_data_fred(\"CPIAUCSL\", start=start_date, end=end_date)['CPIAUCSL']\n",
        "\n",
        "cpi = cpi.resample('D').interpolate(method='linear')\n",
        "\n",
        "print(cpi.shape)\n",
        "cpi.head()"
      ]
    },
    {
      "cell_type": "code",
      "execution_count": 5,
      "id": "2b3e7c77",
      "metadata": {
        "id": "2b3e7c77",
        "colab": {
          "base_uri": "https://localhost:8080/",
          "height": 224
        },
        "outputId": "54b39f03-00ae-4c3c-b351-9d6b1eb26049"
      },
      "outputs": [
        {
          "output_type": "stream",
          "name": "stdout",
          "text": [
            "(3807, 3)\n"
          ]
        },
        {
          "output_type": "execute_result",
          "data": {
            "text/plain": [
              "            10Y_Treasury_Yield        SP500         CPI\n",
              "2010-01-04                3.85  1132.989990  217.467968\n",
              "2010-01-05                3.77  1136.520020  217.461290\n",
              "2010-01-06                3.85  1137.140015  217.454613\n",
              "2010-01-07                3.85  1141.689941  217.447935\n",
              "2010-01-08                3.83  1144.979980  217.441258"
            ],
            "text/html": [
              "\n",
              "  <div id=\"df-f8127a43-16ff-4152-94de-cd89201a98c8\" class=\"colab-df-container\">\n",
              "    <div>\n",
              "<style scoped>\n",
              "    .dataframe tbody tr th:only-of-type {\n",
              "        vertical-align: middle;\n",
              "    }\n",
              "\n",
              "    .dataframe tbody tr th {\n",
              "        vertical-align: top;\n",
              "    }\n",
              "\n",
              "    .dataframe thead th {\n",
              "        text-align: right;\n",
              "    }\n",
              "</style>\n",
              "<table border=\"1\" class=\"dataframe\">\n",
              "  <thead>\n",
              "    <tr style=\"text-align: right;\">\n",
              "      <th></th>\n",
              "      <th>10Y_Treasury_Yield</th>\n",
              "      <th>SP500</th>\n",
              "      <th>CPI</th>\n",
              "    </tr>\n",
              "  </thead>\n",
              "  <tbody>\n",
              "    <tr>\n",
              "      <th>2010-01-04</th>\n",
              "      <td>3.85</td>\n",
              "      <td>1132.989990</td>\n",
              "      <td>217.467968</td>\n",
              "    </tr>\n",
              "    <tr>\n",
              "      <th>2010-01-05</th>\n",
              "      <td>3.77</td>\n",
              "      <td>1136.520020</td>\n",
              "      <td>217.461290</td>\n",
              "    </tr>\n",
              "    <tr>\n",
              "      <th>2010-01-06</th>\n",
              "      <td>3.85</td>\n",
              "      <td>1137.140015</td>\n",
              "      <td>217.454613</td>\n",
              "    </tr>\n",
              "    <tr>\n",
              "      <th>2010-01-07</th>\n",
              "      <td>3.85</td>\n",
              "      <td>1141.689941</td>\n",
              "      <td>217.447935</td>\n",
              "    </tr>\n",
              "    <tr>\n",
              "      <th>2010-01-08</th>\n",
              "      <td>3.83</td>\n",
              "      <td>1144.979980</td>\n",
              "      <td>217.441258</td>\n",
              "    </tr>\n",
              "  </tbody>\n",
              "</table>\n",
              "</div>\n",
              "    <div class=\"colab-df-buttons\">\n",
              "\n",
              "  <div class=\"colab-df-container\">\n",
              "    <button class=\"colab-df-convert\" onclick=\"convertToInteractive('df-f8127a43-16ff-4152-94de-cd89201a98c8')\"\n",
              "            title=\"Convert this dataframe to an interactive table.\"\n",
              "            style=\"display:none;\">\n",
              "\n",
              "  <svg xmlns=\"http://www.w3.org/2000/svg\" height=\"24px\" viewBox=\"0 -960 960 960\">\n",
              "    <path d=\"M120-120v-720h720v720H120Zm60-500h600v-160H180v160Zm220 220h160v-160H400v160Zm0 220h160v-160H400v160ZM180-400h160v-160H180v160Zm440 0h160v-160H620v160ZM180-180h160v-160H180v160Zm440 0h160v-160H620v160Z\"/>\n",
              "  </svg>\n",
              "    </button>\n",
              "\n",
              "  <style>\n",
              "    .colab-df-container {\n",
              "      display:flex;\n",
              "      gap: 12px;\n",
              "    }\n",
              "\n",
              "    .colab-df-convert {\n",
              "      background-color: #E8F0FE;\n",
              "      border: none;\n",
              "      border-radius: 50%;\n",
              "      cursor: pointer;\n",
              "      display: none;\n",
              "      fill: #1967D2;\n",
              "      height: 32px;\n",
              "      padding: 0 0 0 0;\n",
              "      width: 32px;\n",
              "    }\n",
              "\n",
              "    .colab-df-convert:hover {\n",
              "      background-color: #E2EBFA;\n",
              "      box-shadow: 0px 1px 2px rgba(60, 64, 67, 0.3), 0px 1px 3px 1px rgba(60, 64, 67, 0.15);\n",
              "      fill: #174EA6;\n",
              "    }\n",
              "\n",
              "    .colab-df-buttons div {\n",
              "      margin-bottom: 4px;\n",
              "    }\n",
              "\n",
              "    [theme=dark] .colab-df-convert {\n",
              "      background-color: #3B4455;\n",
              "      fill: #D2E3FC;\n",
              "    }\n",
              "\n",
              "    [theme=dark] .colab-df-convert:hover {\n",
              "      background-color: #434B5C;\n",
              "      box-shadow: 0px 1px 3px 1px rgba(0, 0, 0, 0.15);\n",
              "      filter: drop-shadow(0px 1px 2px rgba(0, 0, 0, 0.3));\n",
              "      fill: #FFFFFF;\n",
              "    }\n",
              "  </style>\n",
              "\n",
              "    <script>\n",
              "      const buttonEl =\n",
              "        document.querySelector('#df-f8127a43-16ff-4152-94de-cd89201a98c8 button.colab-df-convert');\n",
              "      buttonEl.style.display =\n",
              "        google.colab.kernel.accessAllowed ? 'block' : 'none';\n",
              "\n",
              "      async function convertToInteractive(key) {\n",
              "        const element = document.querySelector('#df-f8127a43-16ff-4152-94de-cd89201a98c8');\n",
              "        const dataTable =\n",
              "          await google.colab.kernel.invokeFunction('convertToInteractive',\n",
              "                                                    [key], {});\n",
              "        if (!dataTable) return;\n",
              "\n",
              "        const docLinkHtml = 'Like what you see? Visit the ' +\n",
              "          '<a target=\"_blank\" href=https://colab.research.google.com/notebooks/data_table.ipynb>data table notebook</a>'\n",
              "          + ' to learn more about interactive tables.';\n",
              "        element.innerHTML = '';\n",
              "        dataTable['output_type'] = 'display_data';\n",
              "        await google.colab.output.renderOutput(dataTable, element);\n",
              "        const docLink = document.createElement('div');\n",
              "        docLink.innerHTML = docLinkHtml;\n",
              "        element.appendChild(docLink);\n",
              "      }\n",
              "    </script>\n",
              "  </div>\n",
              "\n",
              "\n",
              "    <div id=\"df-6964a8d2-a06a-49d3-9c39-4e263680e4ec\">\n",
              "      <button class=\"colab-df-quickchart\" onclick=\"quickchart('df-6964a8d2-a06a-49d3-9c39-4e263680e4ec')\"\n",
              "                title=\"Suggest charts\"\n",
              "                style=\"display:none;\">\n",
              "\n",
              "<svg xmlns=\"http://www.w3.org/2000/svg\" height=\"24px\"viewBox=\"0 0 24 24\"\n",
              "     width=\"24px\">\n",
              "    <g>\n",
              "        <path d=\"M19 3H5c-1.1 0-2 .9-2 2v14c0 1.1.9 2 2 2h14c1.1 0 2-.9 2-2V5c0-1.1-.9-2-2-2zM9 17H7v-7h2v7zm4 0h-2V7h2v10zm4 0h-2v-4h2v4z\"/>\n",
              "    </g>\n",
              "</svg>\n",
              "      </button>\n",
              "\n",
              "<style>\n",
              "  .colab-df-quickchart {\n",
              "      --bg-color: #E8F0FE;\n",
              "      --fill-color: #1967D2;\n",
              "      --hover-bg-color: #E2EBFA;\n",
              "      --hover-fill-color: #174EA6;\n",
              "      --disabled-fill-color: #AAA;\n",
              "      --disabled-bg-color: #DDD;\n",
              "  }\n",
              "\n",
              "  [theme=dark] .colab-df-quickchart {\n",
              "      --bg-color: #3B4455;\n",
              "      --fill-color: #D2E3FC;\n",
              "      --hover-bg-color: #434B5C;\n",
              "      --hover-fill-color: #FFFFFF;\n",
              "      --disabled-bg-color: #3B4455;\n",
              "      --disabled-fill-color: #666;\n",
              "  }\n",
              "\n",
              "  .colab-df-quickchart {\n",
              "    background-color: var(--bg-color);\n",
              "    border: none;\n",
              "    border-radius: 50%;\n",
              "    cursor: pointer;\n",
              "    display: none;\n",
              "    fill: var(--fill-color);\n",
              "    height: 32px;\n",
              "    padding: 0;\n",
              "    width: 32px;\n",
              "  }\n",
              "\n",
              "  .colab-df-quickchart:hover {\n",
              "    background-color: var(--hover-bg-color);\n",
              "    box-shadow: 0 1px 2px rgba(60, 64, 67, 0.3), 0 1px 3px 1px rgba(60, 64, 67, 0.15);\n",
              "    fill: var(--button-hover-fill-color);\n",
              "  }\n",
              "\n",
              "  .colab-df-quickchart-complete:disabled,\n",
              "  .colab-df-quickchart-complete:disabled:hover {\n",
              "    background-color: var(--disabled-bg-color);\n",
              "    fill: var(--disabled-fill-color);\n",
              "    box-shadow: none;\n",
              "  }\n",
              "\n",
              "  .colab-df-spinner {\n",
              "    border: 2px solid var(--fill-color);\n",
              "    border-color: transparent;\n",
              "    border-bottom-color: var(--fill-color);\n",
              "    animation:\n",
              "      spin 1s steps(1) infinite;\n",
              "  }\n",
              "\n",
              "  @keyframes spin {\n",
              "    0% {\n",
              "      border-color: transparent;\n",
              "      border-bottom-color: var(--fill-color);\n",
              "      border-left-color: var(--fill-color);\n",
              "    }\n",
              "    20% {\n",
              "      border-color: transparent;\n",
              "      border-left-color: var(--fill-color);\n",
              "      border-top-color: var(--fill-color);\n",
              "    }\n",
              "    30% {\n",
              "      border-color: transparent;\n",
              "      border-left-color: var(--fill-color);\n",
              "      border-top-color: var(--fill-color);\n",
              "      border-right-color: var(--fill-color);\n",
              "    }\n",
              "    40% {\n",
              "      border-color: transparent;\n",
              "      border-right-color: var(--fill-color);\n",
              "      border-top-color: var(--fill-color);\n",
              "    }\n",
              "    60% {\n",
              "      border-color: transparent;\n",
              "      border-right-color: var(--fill-color);\n",
              "    }\n",
              "    80% {\n",
              "      border-color: transparent;\n",
              "      border-right-color: var(--fill-color);\n",
              "      border-bottom-color: var(--fill-color);\n",
              "    }\n",
              "    90% {\n",
              "      border-color: transparent;\n",
              "      border-bottom-color: var(--fill-color);\n",
              "    }\n",
              "  }\n",
              "</style>\n",
              "\n",
              "      <script>\n",
              "        async function quickchart(key) {\n",
              "          const quickchartButtonEl =\n",
              "            document.querySelector('#' + key + ' button');\n",
              "          quickchartButtonEl.disabled = true;  // To prevent multiple clicks.\n",
              "          quickchartButtonEl.classList.add('colab-df-spinner');\n",
              "          try {\n",
              "            const charts = await google.colab.kernel.invokeFunction(\n",
              "                'suggestCharts', [key], {});\n",
              "          } catch (error) {\n",
              "            console.error('Error during call to suggestCharts:', error);\n",
              "          }\n",
              "          quickchartButtonEl.classList.remove('colab-df-spinner');\n",
              "          quickchartButtonEl.classList.add('colab-df-quickchart-complete');\n",
              "        }\n",
              "        (() => {\n",
              "          let quickchartButtonEl =\n",
              "            document.querySelector('#df-6964a8d2-a06a-49d3-9c39-4e263680e4ec button');\n",
              "          quickchartButtonEl.style.display =\n",
              "            google.colab.kernel.accessAllowed ? 'block' : 'none';\n",
              "        })();\n",
              "      </script>\n",
              "    </div>\n",
              "\n",
              "    </div>\n",
              "  </div>\n"
            ],
            "application/vnd.google.colaboratory.intrinsic+json": {
              "type": "dataframe",
              "variable_name": "data",
              "summary": "{\n  \"name\": \"data\",\n  \"rows\": 3807,\n  \"fields\": [\n    {\n      \"column\": \"10Y_Treasury_Yield\",\n      \"properties\": {\n        \"dtype\": \"number\",\n        \"std\": 0.9569212407630213,\n        \"min\": 0.52,\n        \"max\": 4.98,\n        \"num_unique_values\": 421,\n        \"samples\": [\n          2.07,\n          4.1,\n          2.04\n        ],\n        \"semantic_type\": \"\",\n        \"description\": \"\"\n      }\n    },\n    {\n      \"column\": \"SP500\",\n      \"properties\": {\n        \"dtype\": \"number\",\n        \"std\": 1315.758174014608,\n        \"min\": 1022.5800170898438,\n        \"max\": 6144.14990234375,\n        \"num_unique_values\": 3789,\n        \"samples\": [\n          2046.6099853515625,\n          2706.050048828125,\n          1296.6300048828125\n        ],\n        \"semantic_type\": \"\",\n        \"description\": \"\"\n      }\n    },\n    {\n      \"column\": \"CPI\",\n      \"properties\": {\n        \"dtype\": \"number\",\n        \"std\": 29.44614451534773,\n        \"min\": 217.199,\n        \"max\": 320.321,\n        \"num_unique_values\": 3784,\n        \"samples\": [\n          240.20054838709677,\n          291.90754838709677,\n          239.51933333333332\n        ],\n        \"semantic_type\": \"\",\n        \"description\": \"\"\n      }\n    }\n  ]\n}"
            }
          },
          "metadata": {},
          "execution_count": 5
        }
      ],
      "source": [
        "# 데이터 합치기\n",
        "data = pd.concat([treasury_yield, sp500, cpi], axis=1)\n",
        "data.columns = ['10Y_Treasury_Yield', 'SP500', 'CPI']\n",
        "data.dropna(inplace=True)  # 결측치 제거\n",
        "\n",
        "print(data.shape)\n",
        "data.head()"
      ]
    },
    {
      "cell_type": "code",
      "execution_count": 6,
      "id": "896829bd",
      "metadata": {
        "id": "896829bd",
        "colab": {
          "base_uri": "https://localhost:8080/"
        },
        "outputId": "1ec8daa3-8343-43f3-b753-eb831a4ad107"
      },
      "outputs": [
        {
          "output_type": "execute_result",
          "data": {
            "text/plain": [
              "((3045, 2), (762, 2), (3045,), (762,))"
            ]
          },
          "metadata": {},
          "execution_count": 6
        }
      ],
      "source": [
        "# 타겟 변수 설정: 10년 만기 국채 수익률 (10Y Treasury Yield)\n",
        "y = data['10Y_Treasury_Yield']\n",
        "\n",
        "# 예측 변수로 '10Y_Treasury_Yield'를 제외한 다른 경제 지표들 사용\n",
        "X = data[['SP500', 'CPI']]\n",
        "\n",
        "# 학습 데이터와 테스트 데이터로 분리\n",
        "X_train, X_test, y_train, y_test = train_test_split(X, y, test_size=0.2, random_state=42)\n",
        "X_train.shape, X_test.shape, y_train.shape, y_test.shape"
      ]
    },
    {
      "cell_type": "code",
      "execution_count": 8,
      "id": "a3c4a327",
      "metadata": {
        "id": "a3c4a327",
        "colab": {
          "base_uri": "https://localhost:8080/"
        },
        "outputId": "83c764e3-1f15-4fcf-bc6d-186ec6dd9f20"
      },
      "outputs": [
        {
          "output_type": "execute_result",
          "data": {
            "text/plain": [
              "(762,)"
            ]
          },
          "metadata": {},
          "execution_count": 8
        }
      ],
      "source": [
        "import warnings\n",
        "warnings.filterwarnings('ignore')\n",
        "\n",
        "# 랜덤 포레스트 회귀 모델 학습\n",
        "model = RandomForestRegressor(n_estimators=100, random_state=42)\n",
        "model.fit(X_train, y_train)\n",
        "\n",
        "# 예측\n",
        "y_pred = model.predict(X_test)\n",
        "y_pred.shape"
      ]
    },
    {
      "cell_type": "code",
      "execution_count": 9,
      "id": "0759d17f",
      "metadata": {
        "id": "0759d17f",
        "colab": {
          "base_uri": "https://localhost:8080/"
        },
        "outputId": "88a01803-0c03-47ff-bc2c-b5ae074019fa"
      },
      "outputs": [
        {
          "output_type": "stream",
          "name": "stdout",
          "text": [
            "Mean Squared Error: 0.018357481246719185\n",
            "R^2 Score: 0.9776117948430888\n",
            "            Actual  Predicted\n",
            "2014-01-22    2.87     2.8278\n",
            "2022-09-27    3.97     3.8190\n",
            "2023-06-01    3.61     3.7202\n",
            "2013-08-06    2.67     2.5911\n",
            "2019-03-11    2.64     2.5857\n"
          ]
        }
      ],
      "source": [
        "# 모델 평가\n",
        "mse = mean_squared_error(y_test, y_pred)\n",
        "r2 = r2_score(y_test, y_pred)\n",
        "\n",
        "print(f\"Mean Squared Error: {mse}\")\n",
        "print(f\"R^2 Score: {r2}\")\n",
        "\n",
        "# 예측 결과 일부 출력\n",
        "results = pd.DataFrame({\"Actual\": y_test, \"Predicted\": y_pred})\n",
        "print(results.head())"
      ]
    },
    {
      "cell_type": "code",
      "execution_count": 10,
      "id": "89546617",
      "metadata": {
        "id": "89546617",
        "colab": {
          "base_uri": "https://localhost:8080/",
          "height": 449
        },
        "outputId": "0b4988b1-1401-4dc2-882a-debcd19ad3da"
      },
      "outputs": [
        {
          "output_type": "display_data",
          "data": {
            "text/plain": [
              "<Figure size 640x480 with 1 Axes>"
            ],
            "image/png": "[encoded data removed]"
          },
          "metadata": {}
        }
      ],
      "source": [
        "import matplotlib.pyplot as plt\n",
        "\n",
        "plt.scatter(y_test, y_pred, label='Yield Prediction')\n",
        "plt.plot(y_test, y_test, 'r', label='True Yield')\n",
        "plt.xlabel('True yield')\n",
        "plt.ylabel('Predicted yield')\n",
        "plt.legend()\n",
        "plt.show()"
      ]
    },
    {
      "cell_type": "code",
      "execution_count": 11,
      "id": "0da66674",
      "metadata": {
        "id": "0da66674",
        "colab": {
          "base_uri": "https://localhost:8080/"
        },
        "outputId": "8660affb-a802-44d4-a7c3-32775ad4a59c"
      },
      "outputs": [
        {
          "output_type": "stream",
          "name": "stdout",
          "text": [
            "Predicted 10-Year Treasury Yield for 2025-05-16: 4.40%\n"
          ]
        }
      ],
      "source": [
        "# 오늘 날짜 데이터 수집\n",
        "today = datetime.datetime.today().strftime(\"%Y-%m-%d\")\n",
        "sp500_today = yf.download(\"^GSPC\", period=\"1d\", progress=False, multi_level_index=False)['Close'].iloc[-1]\n",
        "cpi_latest = cpi.iloc[-1]  # 가장 최근의 CPI 데이터 사용\n",
        "\n",
        "# 오늘 데이터로 예측\n",
        "today_data = pd.DataFrame({'SP500': [sp500_today], 'CPI': [cpi_latest]})\n",
        "predicted_yield = model.predict(today_data)[0]\n",
        "\n",
        "print(f\"Predicted 10-Year Treasury Yield for {today}: {predicted_yield:.2f}%\")"
      ]
    },
    {
      "cell_type": "code",
      "execution_count": 12,
      "id": "8e665831",
      "metadata": {
        "id": "8e665831",
        "colab": {
          "base_uri": "https://localhost:8080/",
          "height": 272
        },
        "outputId": "7ed9f1e4-bfa0-43bb-fb53-454d31f7acc7"
      },
      "outputs": [
        {
          "output_type": "execute_result",
          "data": {
            "text/plain": [
              "DATE\n",
              "2025-05-08    4.37\n",
              "2025-05-09    4.37\n",
              "2025-05-12    4.45\n",
              "2025-05-13    4.49\n",
              "2025-05-14    4.53\n",
              "Name: DGS10, dtype: float64"
            ],
            "text/html": [
              "<div>\n",
              "<style scoped>\n",
              "    .dataframe tbody tr th:only-of-type {\n",
              "        vertical-align: middle;\n",
              "    }\n",
              "\n",
              "    .dataframe tbody tr th {\n",
              "        vertical-align: top;\n",
              "    }\n",
              "\n",
              "    .dataframe thead th {\n",
              "        text-align: right;\n",
              "    }\n",
              "</style>\n",
              "<table border=\"1\" class=\"dataframe\">\n",
              "  <thead>\n",
              "    <tr style=\"text-align: right;\">\n",
              "      <th></th>\n",
              "      <th>DGS10</th>\n",
              "    </tr>\n",
              "    <tr>\n",
              "      <th>DATE</th>\n",
              "      <th></th>\n",
              "    </tr>\n",
              "  </thead>\n",
              "  <tbody>\n",
              "    <tr>\n",
              "      <th>2025-05-08</th>\n",
              "      <td>4.37</td>\n",
              "    </tr>\n",
              "    <tr>\n",
              "      <th>2025-05-09</th>\n",
              "      <td>4.37</td>\n",
              "    </tr>\n",
              "    <tr>\n",
              "      <th>2025-05-12</th>\n",
              "      <td>4.45</td>\n",
              "    </tr>\n",
              "    <tr>\n",
              "      <th>2025-05-13</th>\n",
              "      <td>4.49</td>\n",
              "    </tr>\n",
              "    <tr>\n",
              "      <th>2025-05-14</th>\n",
              "      <td>4.53</td>\n",
              "    </tr>\n",
              "  </tbody>\n",
              "</table>\n",
              "</div><br><label><b>dtype:</b> float64</label>"
            ]
          },
          "metadata": {},
          "execution_count": 12
        }
      ],
      "source": [
        "treasury_yield.tail()"
      ]
    },
    {
      "cell_type": "markdown",
      "id": "335641cb-32c2-4e55-8708-4b29a5d23ac6",
      "metadata": {
        "id": "335641cb-32c2-4e55-8708-4b29a5d23ac6"
      },
      "source": [
        "\n",
        "### 해석 방법:\n",
        "\n",
        "1. **오늘의 실제 시장 수익률이 모델 예측 수익률보다 높을 때**:\n",
        "   - 채권 수익률이 **고평가**되었다고 볼 수 있습니다.\n",
        "   - 이는 시장이 채권의 위험을 더 크게 평가하고 있다는 뜻으로 해석될 수 있습니다.\n",
        "   - 이 경우, 채권 가격은 상대적으로 낮게 거래되고 있을 가능성이 있습니다.\n",
        "\n",
        "2. **오늘의 실제 시장 수익률이 모델 예측 수익률보다 낮을 때**:\n",
        "   - 채권 수익률이 **저평가**되었다고 볼 수 있습니다.\n",
        "   - 이는 시장이 채권의 위험을 더 낮게 평가하고 있다는 뜻으로 해석될 수 있습니다.\n",
        "   - 이 경우, 채권 가격은 상대적으로 높게 거래되고 있을 가능성이 있습니다.\n",
        "\n",
        "---\n",
        "\n",
        "### 왜 이런 해석이 가능한가?\n",
        "\n",
        "- **채권 가격과 수익률의 관계**: 채권 가격과 수익률은 반비례 관계에 있습니다. 시장 수익률이 높다면 채권 가격은 낮아지고, 수익률이 낮다면 채권 가격은 높아집니다.\n",
        "- **모델의 역할**: 모델은 과거 데이터와 경제 지표를 기반으로 \"합리적인 수익률\"을 예측합니다. 따라서 실제 시장 수익률이 모델 수익률보다 높다면, 시장이 그만큼 위험을 더 반영하고 있는 것으로 볼 수 있습니다.\n",
        "\n",
        "---\n",
        "\n",
        "### 예제 시나리오:\n",
        "- **모델 예측 수익률**: 3.5%\n",
        "- **오늘의 시장 수익률**: 4.0%\n",
        "  - 실제 시장 수익률이 더 높으므로, **채권 수익률이 고평가**되었음을 의미합니다.\n",
        "  - 이 경우, 투자자들은 채권을 저평가된 것으로 간주하고 매수 기회를 찾을 수 있습니다.\n",
        "\n",
        "반대로, 시장 수익률이 3.0%라면 채권은 **저평가**된 것으로 간주할 수 있습니다.\n",
        "\n",
        "---\n",
        "\n",
        "### 결론:\n",
        "- **모델 예측 vs 실제 시장 수익률** 비교는 투자 판단에 중요한 참고 지표가 됩니다.\n",
        "- 다만, 시장 수익률이 높거나 낮은 이유에는 금리 변화, 유동성, 위험 선호도 등 다양한 요인이 포함되므로, 이러한 외부 요인도 함께 고려해야 합니다."
      ]
    },
    {
      "cell_type": "code",
      "execution_count": null,
      "id": "3c2e7240",
      "metadata": {
        "id": "3c2e7240"
      },
      "outputs": [],
      "source": []
    }
  ],
  "metadata": {
    "kernelspec": {
      "display_name": "Python 3 (ipykernel)",
      "language": "python",
      "name": "python3"
    },
    "language_info": {
      "codemirror_mode": {
        "name": "ipython",
        "version": 3
      },
      "file_extension": ".py",
      "mimetype": "text/x-python",
      "name": "python",
      "nbconvert_exporter": "python",
      "pygments_lexer": "ipython3",
      "version": "3.9.16"
    },
    "colab": {
      "provenance": [],
      "include_colab_link": true
    }
  },
  "nbformat": 4,
  "nbformat_minor": 5
}