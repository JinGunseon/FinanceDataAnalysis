{
  "cells": [
    {
      "cell_type": "markdown",
      "metadata": {
        "id": "view-in-github",
        "colab_type": "text"
      },
      "source": [
        "<a href=\"https://colab.research.google.com/github/JinGunseon/FinanceDataAnalysis/blob/main/%EC%8B%A4%EC%8A%B5_%EB%B3%80%EB%8F%99%EC%84%B1%EA%B3%BC_%EC%9C%84%ED%97%98_(Volatility_and_Risk)%2C_Sharpe_Ratio.ipynb\" target=\"_parent\"><img src=\"https://colab.research.google.com/assets/colab-badge.svg\" alt=\"Open In Colab\"/></a>"
      ]
    },
    {
      "cell_type": "markdown",
      "id": "234e50fc",
      "metadata": {
        "id": "234e50fc"
      },
      "source": [
        "# 변동성과 위험 (Volatility and Risk), Sharpe Ratio\n",
        "### 변동성\n",
        "변동성(Volatility)은 투자자산의 가격 변동을 나타내는 측정치입니다. 주식, 채권, 상품 등 다양한 자산의 가격은 시간에 따라 변동하며, 이 변동의 크기와 빈도를 측정하는 것이 변동성입니다. 변동성이 높다는 것은 가격 변동의 크기가 크거나 빈도가 높아 불확실성이 높은 상태를 의미하며, 이는 고위험이라고 볼 수 있습니다.\n",
        "\n",
        "변동성을 측정하는 일반적인 방법 중 하나는 표준편차를 사용하는 것입니다. 표준편차는 관찰값들이 평균으로부터 얼마나 떨어져 있는지를 측정하는 통계학적인 개념입니다. 변동성을 계산할 때, 일반적으로 각 관찰치(예: 일일 수익률)과 평균 관찰치간의 차이를 제곱하여 평균을 낸 후, 그 결과값의 제곱근을 구합니다. 이렇게 계산된 값이 표준편차이며, 이를 변동성이라고 부릅니다.\n",
        "\n",
        "### Sharpe Ratio\n",
        "Sharpe Ratio는 위험 대비 수익률을 측정하는 지표로, 투자의 성과를 평가하는 데 사용됩니다. Sharpe Ratio는 예상 수익률(무위험 상품)을 초과하는 수익률(초과수익률)을 투자의 위험(표준편차 또는 변동성)으로 나눈 것입니다. Sharpe Ratio가 높을수록 동일한 위험 수준에서 더 많은 초과 수익을 얻을 수 있다는 것을 의미합니다. 따라서 Sharpe Ratio는 투자 선택지를 비교할 때 효율적인 도구로 활용될 수 있습니다."
      ]
    },
    {
      "cell_type": "code",
      "source": [
        "!sudo apt-get install -y fonts-nanum\n",
        "!sudo fc-cache -fv\n",
        "!rm ~/.cache/matplotlib -rf"
      ],
      "metadata": {
        "colab": {
          "base_uri": "https://localhost:8080/"
        },
        "id": "gBK2sGq2Bl1g",
        "outputId": "415e37f8-9bab-41f6-d35d-c54b7953e07c"
      },
      "id": "gBK2sGq2Bl1g",
      "execution_count": 1,
      "outputs": [
        {
          "output_type": "stream",
          "name": "stdout",
          "text": [
            "Reading package lists... Done\n",
            "Building dependency tree... Done\n",
            "Reading state information... Done\n",
            "fonts-nanum is already the newest version (20200506-1).\n",
            "0 upgraded, 0 newly installed, 0 to remove and 34 not upgraded.\n",
            "/usr/share/fonts: caching, new cache contents: 0 fonts, 1 dirs\n",
            "/usr/share/fonts/truetype: caching, new cache contents: 0 fonts, 3 dirs\n",
            "/usr/share/fonts/truetype/humor-sans: caching, new cache contents: 1 fonts, 0 dirs\n",
            "/usr/share/fonts/truetype/liberation: caching, new cache contents: 16 fonts, 0 dirs\n",
            "/usr/share/fonts/truetype/nanum: caching, new cache contents: 12 fonts, 0 dirs\n",
            "/usr/local/share/fonts: caching, new cache contents: 0 fonts, 0 dirs\n",
            "/root/.local/share/fonts: skipping, no such directory\n",
            "/root/.fonts: skipping, no such directory\n",
            "/usr/share/fonts/truetype: skipping, looped directory detected\n",
            "/usr/share/fonts/truetype/humor-sans: skipping, looped directory detected\n",
            "/usr/share/fonts/truetype/liberation: skipping, looped directory detected\n",
            "/usr/share/fonts/truetype/nanum: skipping, looped directory detected\n",
            "/var/cache/fontconfig: cleaning cache directory\n",
            "/root/.cache/fontconfig: not cleaning non-existent cache directory\n",
            "/root/.fontconfig: not cleaning non-existent cache directory\n",
            "fc-cache: succeeded\n"
          ]
        }
      ]
    },
    {
      "cell_type": "code",
      "execution_count": 18,
      "id": "8969e428",
      "metadata": {
        "id": "8969e428"
      },
      "outputs": [],
      "source": [
        "import pandas as pd\n",
        "import numpy as np\n",
        "import matplotlib.pyplot as plt\n",
        "import matplotlib.font_manager as fm\n",
        "\n",
        "# Nanum 폰트 경로 찾기\n",
        "font_path = fm.findfont('NanumBarunGothic')\n",
        "\n",
        "# 폰트 추가\n",
        "fm.fontManager.addfont(font_path)\n",
        "\n",
        "# 폰트 설정\n",
        "plt.rc('font', family='NanumBarunGothic')\n",
        "plt.rcParams['axes.unicode_minus'] = False\n",
        "\n",
        "# fallback 폰트 지정 (예: DejaVu Sans)\n",
        "plt.rcParams['font.sans-serif'] = ['NanumBarunGothic', 'DejaVu Sans']"
      ]
    },
    {
      "cell_type": "code",
      "execution_count": 3,
      "id": "eda15663",
      "metadata": {
        "id": "eda15663"
      },
      "outputs": [],
      "source": [
        "# CSV 파일로부터 주가 데이터를 불러옵니다.\n",
        "prices = pd.read_csv(\"sample_data/sample_prices.csv\")\n",
        "\n",
        "# 주가 데이터에서 월 수익률을 계산합니다.\n",
        "# pct_change() 함수는 이전 행과 비교하여 퍼센트 변동(수익률)을 계산합니다.\n",
        "returns = prices.pct_change()\n",
        "returns = returns.dropna()"
      ]
    },
    {
      "cell_type": "markdown",
      "id": "e7438467",
      "metadata": {
        "id": "e7438467"
      },
      "source": [
        "표준 편차를 계산합니다.  \n",
        "$$(편차) = (각 변량) - (전체 평균)$$  \n",
        "$$(분산) = \\frac{편차의 제곱의 합}{총 변량의 갯수}$$\n",
        "$$(표준편차) = 분산의 제곱근 (\\sqrt{분산})$$"
      ]
    },
    {
      "cell_type": "code",
      "execution_count": 4,
      "id": "cd1d044e",
      "metadata": {
        "id": "cd1d044e",
        "colab": {
          "base_uri": "https://localhost:8080/",
          "height": 147
        },
        "outputId": "5a989005-7211-4802-c1dd-05df8271324d"
      },
      "outputs": [
        {
          "output_type": "execute_result",
          "data": {
            "text/plain": [
              "BLUE      0.022957\n",
              "ORANGE    0.076212\n",
              "dtype: float64"
            ],
            "text/html": [
              "<div>\n",
              "<style scoped>\n",
              "    .dataframe tbody tr th:only-of-type {\n",
              "        vertical-align: middle;\n",
              "    }\n",
              "\n",
              "    .dataframe tbody tr th {\n",
              "        vertical-align: top;\n",
              "    }\n",
              "\n",
              "    .dataframe thead th {\n",
              "        text-align: right;\n",
              "    }\n",
              "</style>\n",
              "<table border=\"1\" class=\"dataframe\">\n",
              "  <thead>\n",
              "    <tr style=\"text-align: right;\">\n",
              "      <th></th>\n",
              "      <th>0</th>\n",
              "    </tr>\n",
              "  </thead>\n",
              "  <tbody>\n",
              "    <tr>\n",
              "      <th>BLUE</th>\n",
              "      <td>0.022957</td>\n",
              "    </tr>\n",
              "    <tr>\n",
              "      <th>ORANGE</th>\n",
              "      <td>0.076212</td>\n",
              "    </tr>\n",
              "  </tbody>\n",
              "</table>\n",
              "</div><br><label><b>dtype:</b> float64</label>"
            ]
          },
          "metadata": {},
          "execution_count": 4
        }
      ],
      "source": [
        "#편차\n",
        "deviations = returns - returns.mean()\n",
        "\n",
        "#편차의 제곱\n",
        "squared_deviations = deviations ** 2\n",
        "\n",
        "#분산 = 편차의 제곱의 평균\n",
        "variance = squared_deviations.mean()\n",
        "\n",
        "# 표준편차 (변동성)\n",
        "volatility = np.sqrt(variance)\n",
        "volatility"
      ]
    },
    {
      "cell_type": "markdown",
      "id": "643b53de",
      "metadata": {
        "id": "643b53de"
      },
      "source": [
        "내장된 `.std()` 메소드를 사용할 때도 같은 답이 나와야 하는데 약간의 차이가 납니다.  \n",
        "\n",
        "ddof 인자는 \"Delta Degrees of Freedom\"의 약자로, 표준편차나 분산을 계산할 때 사용하는 분모의 조정값을 의미합니다. 기본값은 1로 설정되어 있으며, 이는 공식에서 N-1을 의미합니다. N은 데이터의 개수입니다. 이렇게 N-1을 사용하는 이유는 표본의 분산이나 표준편차를 계산할 때 편향되지 않은(unbiased) 추정값을 얻기 위함입니다.\n",
        "\n",
        "그러나 ddof=0을 설정하면 분모는 N으로 설정되며, 이는 전체 데이터셋의 표준편차를 계산할 때 사용됩니다. 이는 표본이 아닌 모집단의 표준편차를 계산하는 것으로 볼 수 있습니다.\n",
        "\n",
        "따라서, returns.std(ddof=0)은 'returns' 데이터셋의 모집단 표준편차를 계산합니다."
      ]
    },
    {
      "cell_type": "code",
      "execution_count": 5,
      "id": "9678c91a",
      "metadata": {
        "id": "9678c91a",
        "colab": {
          "base_uri": "https://localhost:8080/",
          "height": 147
        },
        "outputId": "a9dd43e3-1790-4d58-ac9f-65f894f287b6"
      },
      "outputs": [
        {
          "output_type": "execute_result",
          "data": {
            "text/plain": [
              "BLUE      0.022957\n",
              "ORANGE    0.076212\n",
              "dtype: float64"
            ],
            "text/html": [
              "<div>\n",
              "<style scoped>\n",
              "    .dataframe tbody tr th:only-of-type {\n",
              "        vertical-align: middle;\n",
              "    }\n",
              "\n",
              "    .dataframe tbody tr th {\n",
              "        vertical-align: top;\n",
              "    }\n",
              "\n",
              "    .dataframe thead th {\n",
              "        text-align: right;\n",
              "    }\n",
              "</style>\n",
              "<table border=\"1\" class=\"dataframe\">\n",
              "  <thead>\n",
              "    <tr style=\"text-align: right;\">\n",
              "      <th></th>\n",
              "      <th>0</th>\n",
              "    </tr>\n",
              "  </thead>\n",
              "  <tbody>\n",
              "    <tr>\n",
              "      <th>BLUE</th>\n",
              "      <td>0.022957</td>\n",
              "    </tr>\n",
              "    <tr>\n",
              "      <th>ORANGE</th>\n",
              "      <td>0.076212</td>\n",
              "    </tr>\n",
              "  </tbody>\n",
              "</table>\n",
              "</div><br><label><b>dtype:</b> float64</label>"
            ]
          },
          "metadata": {},
          "execution_count": 5
        }
      ],
      "source": [
        "returns.std(ddof=0)"
      ]
    },
    {
      "cell_type": "code",
      "execution_count": 6,
      "id": "6733421b",
      "metadata": {
        "id": "6733421b",
        "colab": {
          "base_uri": "https://localhost:8080/",
          "height": 147
        },
        "outputId": "ec0dad6c-ffa7-4e71-87be-e0e2c3cfb3fc"
      },
      "outputs": [
        {
          "output_type": "execute_result",
          "data": {
            "text/plain": [
              "BLUE      0.023977\n",
              "ORANGE    0.079601\n",
              "dtype: float64"
            ],
            "text/html": [
              "<div>\n",
              "<style scoped>\n",
              "    .dataframe tbody tr th:only-of-type {\n",
              "        vertical-align: middle;\n",
              "    }\n",
              "\n",
              "    .dataframe tbody tr th {\n",
              "        vertical-align: top;\n",
              "    }\n",
              "\n",
              "    .dataframe thead th {\n",
              "        text-align: right;\n",
              "    }\n",
              "</style>\n",
              "<table border=\"1\" class=\"dataframe\">\n",
              "  <thead>\n",
              "    <tr style=\"text-align: right;\">\n",
              "      <th></th>\n",
              "      <th>0</th>\n",
              "    </tr>\n",
              "  </thead>\n",
              "  <tbody>\n",
              "    <tr>\n",
              "      <th>BLUE</th>\n",
              "      <td>0.023977</td>\n",
              "    </tr>\n",
              "    <tr>\n",
              "      <th>ORANGE</th>\n",
              "      <td>0.079601</td>\n",
              "    </tr>\n",
              "  </tbody>\n",
              "</table>\n",
              "</div><br><label><b>dtype:</b> float64</label>"
            ]
          },
          "metadata": {},
          "execution_count": 6
        }
      ],
      "source": [
        "returns.std(ddof=1)"
      ]
    },
    {
      "cell_type": "code",
      "execution_count": 7,
      "id": "40f75106",
      "metadata": {
        "id": "40f75106",
        "colab": {
          "base_uri": "https://localhost:8080/"
        },
        "outputId": "1bac4801-c067-4801-90e0-95261744ba2e"
      },
      "outputs": [
        {
          "output_type": "stream",
          "name": "stdout",
          "text": [
            "두 자산의 변동성\n",
            " BLUE      0.023977\n",
            "ORANGE    0.079601\n",
            "dtype: float64\n"
          ]
        }
      ],
      "source": [
        "volatility = returns.std()\n",
        "\n",
        "print('두 자산의 변동성\\n', volatility)"
      ]
    },
    {
      "cell_type": "markdown",
      "id": "c00e2351",
      "metadata": {
        "id": "c00e2351"
      },
      "source": [
        "# 연간 변동성 (Annualizing Volatility)\n",
        "\n",
        "월간 수익률을 기반으로 한 변동성을 연간 변동성으로 변환하려면, 월간 표준편차를 월 수의 제곱근(예를 들어 연간으로 변환할 경우 12의 제곱근)으로 곱해야 합니다. 이렇게 하면 시간 스케일에 따른 변동성을 비교할 수 있습니다.\n",
        "\n",
        "`np.sqrt()`를 사용하는 대신 $0.5$의 거듭제곱으로 올릴 수도 있습니다.  \n",
        "\n",
        "이런 방식으로 환산하는 이유는, 변동성이 랜덤 워크(random walk)와 같은 확률 과정에 의해 주도된다고 가정하기 때문입니다. 랜덤 워크의 경우, 시간 경과에 따른 변동(즉, 위험 또는 변동성)은 시간의 제곱근에 비례하게 됩니다. 이는 통계학과 확률 이론에서 자주 등장하는 개념으로, 주가의 움직임을 묘사하는데 자주 사용됩니다."
      ]
    },
    {
      "cell_type": "code",
      "execution_count": 8,
      "id": "52f98fcf",
      "metadata": {
        "id": "52f98fcf",
        "colab": {
          "base_uri": "https://localhost:8080/",
          "height": 147
        },
        "outputId": "c7da342a-982c-456f-dcad-4a36e158f3a1"
      },
      "outputs": [
        {
          "output_type": "execute_result",
          "data": {
            "text/plain": [
              "BLUE      0.083060\n",
              "ORANGE    0.275747\n",
              "dtype: float64"
            ],
            "text/html": [
              "<div>\n",
              "<style scoped>\n",
              "    .dataframe tbody tr th:only-of-type {\n",
              "        vertical-align: middle;\n",
              "    }\n",
              "\n",
              "    .dataframe tbody tr th {\n",
              "        vertical-align: top;\n",
              "    }\n",
              "\n",
              "    .dataframe thead th {\n",
              "        text-align: right;\n",
              "    }\n",
              "</style>\n",
              "<table border=\"1\" class=\"dataframe\">\n",
              "  <thead>\n",
              "    <tr style=\"text-align: right;\">\n",
              "      <th></th>\n",
              "      <th>0</th>\n",
              "    </tr>\n",
              "  </thead>\n",
              "  <tbody>\n",
              "    <tr>\n",
              "      <th>BLUE</th>\n",
              "      <td>0.083060</td>\n",
              "    </tr>\n",
              "    <tr>\n",
              "      <th>ORANGE</th>\n",
              "      <td>0.275747</td>\n",
              "    </tr>\n",
              "  </tbody>\n",
              "</table>\n",
              "</div><br><label><b>dtype:</b> float64</label>"
            ]
          },
          "metadata": {},
          "execution_count": 8
        }
      ],
      "source": [
        "# 월별 수익률의 표준편차(변동성)를 계산한 후 연간 변동성으로 변환합니다.\n",
        "# returns.std()는 월별 수익률의 표준편차(월별 변동성)를 계산합니다.\n",
        "# 여기에 √12를 곱해 연간 변동성(Annualized Volatility)을 계산합니다.\n",
        "# √12를 곱하는 이유는 1년이 12개월이므로, 월별 변동성을 연간 변동성으로 변환하기 위해서입니다.\n",
        "annualized_vol = returns.std() * np.sqrt(12)\n",
        "annualized_vol\n"
      ]
    },
    {
      "cell_type": "code",
      "execution_count": 9,
      "id": "b955acde",
      "metadata": {
        "id": "b955acde"
      },
      "outputs": [],
      "source": [
        "# np.sqrt(12) == 12**0.5"
      ]
    },
    {
      "cell_type": "markdown",
      "id": "a73c41d3",
      "metadata": {
        "id": "a73c41d3"
      },
      "source": [
        "## 위험 조정 수익 (Risk Adjusted Returns)\n",
        "\n",
        "위험 조정 수익이란 투자 수익(investment returns)을 단순히 투입 대비 산출로만 계산하는 것이 아니라, 수익이 나타나는 과정에서 포함된 위험들을 고려했을 때의 수익을 의미한다.\n",
        "\n",
        "예를 들어 시장에 기본적이고 공통적으로 존재하는 위험이 있어서 이에 대한 보상으로 투자 활동에 3%의 수익률이 있어야 할 때, 한 투자 활동으로부터 5%의 수익을 얻었다면 시장 위험을 조정한 수익으로 볼때는 그 투자활동은 2%의 수익을 얻은 것이다.\n",
        "\n",
        "### Sharpe Ratio - 대표적인 위험 조정 수익률 지수  \n",
        "\n",
        "- Sharpe Ratio 계산\n",
        "\n",
        "$$\\frac{초과 수익}{변동성} \\rightarrow 변동성(위험) \\  한\\ 단위 당 \\ 초과 \\ 수익$$\n",
        "\n",
        "$$SR=\\frac{R_p-R_f}{\\sigma_p}, \\ p: portfolio, f: risk free$$"
      ]
    },
    {
      "cell_type": "code",
      "execution_count": 10,
      "id": "c33013c2",
      "metadata": {
        "id": "c33013c2"
      },
      "outputs": [],
      "source": [
        "rf = 0.025"
      ]
    },
    {
      "cell_type": "code",
      "execution_count": 11,
      "id": "0d783fd8",
      "metadata": {
        "id": "0d783fd8",
        "colab": {
          "base_uri": "https://localhost:8080/"
        },
        "outputId": "f718d569-b31d-4d10-f28b-8586e32c7e60"
      },
      "outputs": [
        {
          "output_type": "stream",
          "name": "stdout",
          "text": [
            "BLUE 자산의 연간 수익률 : 0.12331034482758652\n",
            "BLUE 자산의 연간 변동성 : 0.08306021186963347\n",
            "BLUE 자산의 위험 조정 수익률 : 1.1836033476761265\n"
          ]
        }
      ],
      "source": [
        "# BLUE 연간 수익률\n",
        "BLUE_annualized_return = (1+returns['BLUE']).prod() - 1\n",
        "\n",
        "# BLUE 연간 변동성\n",
        "BLUE_annualized_vol = returns['BLUE'].std() * np.sqrt(12)\n",
        "\n",
        "# BLUE Sharpe Ratio\n",
        "BLUE_SR = (BLUE_annualized_return - rf) / BLUE_annualized_vol\n",
        "\n",
        "print(\"BLUE 자산의 연간 수익률 :\", BLUE_annualized_return)\n",
        "print(\"BLUE 자산의 연간 변동성 :\", BLUE_annualized_vol)\n",
        "print(\"BLUE 자산의 위험 조정 수익률 :\", BLUE_SR)"
      ]
    },
    {
      "cell_type": "code",
      "execution_count": 12,
      "id": "683000b0",
      "metadata": {
        "id": "683000b0",
        "colab": {
          "base_uri": "https://localhost:8080/"
        },
        "outputId": "2d7f2018-bcc2-402d-d559-e67ffd1c8dba"
      },
      "outputs": [
        {
          "output_type": "stream",
          "name": "stdout",
          "text": [
            "ORANGE 자산의 연간 수익률 : 0.08716697936210194\n",
            "ORANGE 자산의 연간 변동성 : 0.27574688095412925\n",
            "ORANGE 자산의 위험 조정 수익률 : 0.22544943807521606\n"
          ]
        }
      ],
      "source": [
        "# ORANGE 연간 수익률\n",
        "ORANGE_annualized_return = (1+returns['ORANGE']).prod() - 1\n",
        "# ORANGE 연간 변동성\n",
        "ORANGE_annualized_vol = returns['ORANGE'].std() * np.sqrt(12)\n",
        "# ORANGE Sharpe Ratio\n",
        "ORANGE_SR = (ORANGE_annualized_return - rf) / ORANGE_annualized_vol\n",
        "\n",
        "print(\"ORANGE 자산의 연간 수익률 :\", ORANGE_annualized_return)\n",
        "print(\"ORANGE 자산의 연간 변동성 :\", ORANGE_annualized_vol)\n",
        "print(\"ORANGE 자산의 위험 조정 수익률 :\", ORANGE_SR)"
      ]
    },
    {
      "cell_type": "markdown",
      "id": "7ef99b77",
      "metadata": {
        "id": "7ef99b77"
      },
      "source": [
        "### 실제 주식의 Sharpe Ratio 계산\n",
        "- 1 년간 주식에 투자하여 얻은 수익률 계산"
      ]
    },
    {
      "cell_type": "code",
      "source": [
        "!pip install --upgrade finance-datareader"
      ],
      "metadata": {
        "colab": {
          "base_uri": "https://localhost:8080/"
        },
        "id": "LKgHnsKC_Ts3",
        "outputId": "bd510248-304e-4427-9201-7adab7f8c44d"
      },
      "id": "LKgHnsKC_Ts3",
      "execution_count": 13,
      "outputs": [
        {
          "output_type": "stream",
          "name": "stdout",
          "text": [
            "Requirement already satisfied: finance-datareader in /usr/local/lib/python3.11/dist-packages (0.9.96)\n",
            "Requirement already satisfied: beautifulsoup4 in /usr/local/lib/python3.11/dist-packages (from finance-datareader) (4.13.4)\n",
            "Requirement already satisfied: lxml in /usr/local/lib/python3.11/dist-packages (from finance-datareader) (5.4.0)\n",
            "Requirement already satisfied: pandas>=1.1.0 in /usr/local/lib/python3.11/dist-packages (from finance-datareader) (2.2.2)\n",
            "Requirement already satisfied: plotly in /usr/local/lib/python3.11/dist-packages (from finance-datareader) (5.24.1)\n",
            "Requirement already satisfied: requests-file in /usr/local/lib/python3.11/dist-packages (from finance-datareader) (2.1.0)\n",
            "Requirement already satisfied: requests>=2.3.0 in /usr/local/lib/python3.11/dist-packages (from finance-datareader) (2.32.3)\n",
            "Requirement already satisfied: tqdm in /usr/local/lib/python3.11/dist-packages (from finance-datareader) (4.67.1)\n",
            "Requirement already satisfied: numpy>=1.23.2 in /usr/local/lib/python3.11/dist-packages (from pandas>=1.1.0->finance-datareader) (2.0.2)\n",
            "Requirement already satisfied: python-dateutil>=2.8.2 in /usr/local/lib/python3.11/dist-packages (from pandas>=1.1.0->finance-datareader) (2.9.0.post0)\n",
            "Requirement already satisfied: pytz>=2020.1 in /usr/local/lib/python3.11/dist-packages (from pandas>=1.1.0->finance-datareader) (2025.2)\n",
            "Requirement already satisfied: tzdata>=2022.7 in /usr/local/lib/python3.11/dist-packages (from pandas>=1.1.0->finance-datareader) (2025.2)\n",
            "Requirement already satisfied: charset-normalizer<4,>=2 in /usr/local/lib/python3.11/dist-packages (from requests>=2.3.0->finance-datareader) (3.4.2)\n",
            "Requirement already satisfied: idna<4,>=2.5 in /usr/local/lib/python3.11/dist-packages (from requests>=2.3.0->finance-datareader) (3.10)\n",
            "Requirement already satisfied: urllib3<3,>=1.21.1 in /usr/local/lib/python3.11/dist-packages (from requests>=2.3.0->finance-datareader) (2.4.0)\n",
            "Requirement already satisfied: certifi>=2017.4.17 in /usr/local/lib/python3.11/dist-packages (from requests>=2.3.0->finance-datareader) (2025.4.26)\n",
            "Requirement already satisfied: soupsieve>1.2 in /usr/local/lib/python3.11/dist-packages (from beautifulsoup4->finance-datareader) (2.7)\n",
            "Requirement already satisfied: typing-extensions>=4.0.0 in /usr/local/lib/python3.11/dist-packages (from beautifulsoup4->finance-datareader) (4.13.2)\n",
            "Requirement already satisfied: tenacity>=6.2.0 in /usr/local/lib/python3.11/dist-packages (from plotly->finance-datareader) (9.1.2)\n",
            "Requirement already satisfied: packaging in /usr/local/lib/python3.11/dist-packages (from plotly->finance-datareader) (24.2)\n",
            "Requirement already satisfied: six>=1.5 in /usr/local/lib/python3.11/dist-packages (from python-dateutil>=2.8.2->pandas>=1.1.0->finance-datareader) (1.17.0)\n"
          ]
        }
      ]
    },
    {
      "cell_type": "code",
      "execution_count": 14,
      "id": "a84d683f",
      "metadata": {
        "id": "a84d683f",
        "colab": {
          "base_uri": "https://localhost:8080/",
          "height": 455
        },
        "outputId": "c1ede8e0-43b3-4440-a3ff-6a0da2903efc"
      },
      "outputs": [
        {
          "output_type": "execute_result",
          "data": {
            "text/plain": [
              "                삼성전자       카카오      셀트리온      KT&G\n",
              "Date                                              \n",
              "2020-01-03  0.005435  0.000000 -0.013890  0.000000\n",
              "2020-01-06  0.000000  0.013101 -0.025357  0.002162\n",
              "2020-01-07  0.005405  0.035601  0.028904  0.003236\n",
              "2020-01-08  0.017921 -0.003114 -0.028092 -0.012903\n",
              "2020-01-09  0.031690  0.028206  0.023122  0.009804\n",
              "...              ...       ...       ...       ...\n",
              "2024-12-23  0.009434 -0.026961  0.007272  0.023234\n",
              "2024-12-24  0.016822 -0.005038  0.002576 -0.000908\n",
              "2024-12-26 -0.014706 -0.024051 -0.014914 -0.006364\n",
              "2024-12-27  0.001866  0.007782 -0.013669 -0.015554\n",
              "2024-12-30 -0.009311 -0.016731  0.039357 -0.004647\n",
              "\n",
              "[1230 rows x 4 columns]"
            ],
            "text/html": [
              "\n",
              "  <div id=\"df-e7ef9e1b-fb9b-4b71-be62-60b14c38a175\" class=\"colab-df-container\">\n",
              "    <div>\n",
              "<style scoped>\n",
              "    .dataframe tbody tr th:only-of-type {\n",
              "        vertical-align: middle;\n",
              "    }\n",
              "\n",
              "    .dataframe tbody tr th {\n",
              "        vertical-align: top;\n",
              "    }\n",
              "\n",
              "    .dataframe thead th {\n",
              "        text-align: right;\n",
              "    }\n",
              "</style>\n",
              "<table border=\"1\" class=\"dataframe\">\n",
              "  <thead>\n",
              "    <tr style=\"text-align: right;\">\n",
              "      <th></th>\n",
              "      <th>삼성전자</th>\n",
              "      <th>카카오</th>\n",
              "      <th>셀트리온</th>\n",
              "      <th>KT&amp;G</th>\n",
              "    </tr>\n",
              "    <tr>\n",
              "      <th>Date</th>\n",
              "      <th></th>\n",
              "      <th></th>\n",
              "      <th></th>\n",
              "      <th></th>\n",
              "    </tr>\n",
              "  </thead>\n",
              "  <tbody>\n",
              "    <tr>\n",
              "      <th>2020-01-03</th>\n",
              "      <td>0.005435</td>\n",
              "      <td>0.000000</td>\n",
              "      <td>-0.013890</td>\n",
              "      <td>0.000000</td>\n",
              "    </tr>\n",
              "    <tr>\n",
              "      <th>2020-01-06</th>\n",
              "      <td>0.000000</td>\n",
              "      <td>0.013101</td>\n",
              "      <td>-0.025357</td>\n",
              "      <td>0.002162</td>\n",
              "    </tr>\n",
              "    <tr>\n",
              "      <th>2020-01-07</th>\n",
              "      <td>0.005405</td>\n",
              "      <td>0.035601</td>\n",
              "      <td>0.028904</td>\n",
              "      <td>0.003236</td>\n",
              "    </tr>\n",
              "    <tr>\n",
              "      <th>2020-01-08</th>\n",
              "      <td>0.017921</td>\n",
              "      <td>-0.003114</td>\n",
              "      <td>-0.028092</td>\n",
              "      <td>-0.012903</td>\n",
              "    </tr>\n",
              "    <tr>\n",
              "      <th>2020-01-09</th>\n",
              "      <td>0.031690</td>\n",
              "      <td>0.028206</td>\n",
              "      <td>0.023122</td>\n",
              "      <td>0.009804</td>\n",
              "    </tr>\n",
              "    <tr>\n",
              "      <th>...</th>\n",
              "      <td>...</td>\n",
              "      <td>...</td>\n",
              "      <td>...</td>\n",
              "      <td>...</td>\n",
              "    </tr>\n",
              "    <tr>\n",
              "      <th>2024-12-23</th>\n",
              "      <td>0.009434</td>\n",
              "      <td>-0.026961</td>\n",
              "      <td>0.007272</td>\n",
              "      <td>0.023234</td>\n",
              "    </tr>\n",
              "    <tr>\n",
              "      <th>2024-12-24</th>\n",
              "      <td>0.016822</td>\n",
              "      <td>-0.005038</td>\n",
              "      <td>0.002576</td>\n",
              "      <td>-0.000908</td>\n",
              "    </tr>\n",
              "    <tr>\n",
              "      <th>2024-12-26</th>\n",
              "      <td>-0.014706</td>\n",
              "      <td>-0.024051</td>\n",
              "      <td>-0.014914</td>\n",
              "      <td>-0.006364</td>\n",
              "    </tr>\n",
              "    <tr>\n",
              "      <th>2024-12-27</th>\n",
              "      <td>0.001866</td>\n",
              "      <td>0.007782</td>\n",
              "      <td>-0.013669</td>\n",
              "      <td>-0.015554</td>\n",
              "    </tr>\n",
              "    <tr>\n",
              "      <th>2024-12-30</th>\n",
              "      <td>-0.009311</td>\n",
              "      <td>-0.016731</td>\n",
              "      <td>0.039357</td>\n",
              "      <td>-0.004647</td>\n",
              "    </tr>\n",
              "  </tbody>\n",
              "</table>\n",
              "<p>1230 rows × 4 columns</p>\n",
              "</div>\n",
              "    <div class=\"colab-df-buttons\">\n",
              "\n",
              "  <div class=\"colab-df-container\">\n",
              "    <button class=\"colab-df-convert\" onclick=\"convertToInteractive('df-e7ef9e1b-fb9b-4b71-be62-60b14c38a175')\"\n",
              "            title=\"Convert this dataframe to an interactive table.\"\n",
              "            style=\"display:none;\">\n",
              "\n",
              "  <svg xmlns=\"http://www.w3.org/2000/svg\" height=\"24px\" viewBox=\"0 -960 960 960\">\n",
              "    <path d=\"M120-120v-720h720v720H120Zm60-500h600v-160H180v160Zm220 220h160v-160H400v160Zm0 220h160v-160H400v160ZM180-400h160v-160H180v160Zm440 0h160v-160H620v160ZM180-180h160v-160H180v160Zm440 0h160v-160H620v160Z\"/>\n",
              "  </svg>\n",
              "    </button>\n",
              "\n",
              "  <style>\n",
              "    .colab-df-container {\n",
              "      display:flex;\n",
              "      gap: 12px;\n",
              "    }\n",
              "\n",
              "    .colab-df-convert {\n",
              "      background-color: #E8F0FE;\n",
              "      border: none;\n",
              "      border-radius: 50%;\n",
              "      cursor: pointer;\n",
              "      display: none;\n",
              "      fill: #1967D2;\n",
              "      height: 32px;\n",
              "      padding: 0 0 0 0;\n",
              "      width: 32px;\n",
              "    }\n",
              "\n",
              "    .colab-df-convert:hover {\n",
              "      background-color: #E2EBFA;\n",
              "      box-shadow: 0px 1px 2px rgba(60, 64, 67, 0.3), 0px 1px 3px 1px rgba(60, 64, 67, 0.15);\n",
              "      fill: #174EA6;\n",
              "    }\n",
              "\n",
              "    .colab-df-buttons div {\n",
              "      margin-bottom: 4px;\n",
              "    }\n",
              "\n",
              "    [theme=dark] .colab-df-convert {\n",
              "      background-color: #3B4455;\n",
              "      fill: #D2E3FC;\n",
              "    }\n",
              "\n",
              "    [theme=dark] .colab-df-convert:hover {\n",
              "      background-color: #434B5C;\n",
              "      box-shadow: 0px 1px 3px 1px rgba(0, 0, 0, 0.15);\n",
              "      filter: drop-shadow(0px 1px 2px rgba(0, 0, 0, 0.3));\n",
              "      fill: #FFFFFF;\n",
              "    }\n",
              "  </style>\n",
              "\n",
              "    <script>\n",
              "      const buttonEl =\n",
              "        document.querySelector('#df-e7ef9e1b-fb9b-4b71-be62-60b14c38a175 button.colab-df-convert');\n",
              "      buttonEl.style.display =\n",
              "        google.colab.kernel.accessAllowed ? 'block' : 'none';\n",
              "\n",
              "      async function convertToInteractive(key) {\n",
              "        const element = document.querySelector('#df-e7ef9e1b-fb9b-4b71-be62-60b14c38a175');\n",
              "        const dataTable =\n",
              "          await google.colab.kernel.invokeFunction('convertToInteractive',\n",
              "                                                    [key], {});\n",
              "        if (!dataTable) return;\n",
              "\n",
              "        const docLinkHtml = 'Like what you see? Visit the ' +\n",
              "          '<a target=\"_blank\" href=https://colab.research.google.com/notebooks/data_table.ipynb>data table notebook</a>'\n",
              "          + ' to learn more about interactive tables.';\n",
              "        element.innerHTML = '';\n",
              "        dataTable['output_type'] = 'display_data';\n",
              "        await google.colab.output.renderOutput(dataTable, element);\n",
              "        const docLink = document.createElement('div');\n",
              "        docLink.innerHTML = docLinkHtml;\n",
              "        element.appendChild(docLink);\n",
              "      }\n",
              "    </script>\n",
              "  </div>\n",
              "\n",
              "\n",
              "    <div id=\"df-831acd7c-4a6c-4b84-9728-340b09c6c756\">\n",
              "      <button class=\"colab-df-quickchart\" onclick=\"quickchart('df-831acd7c-4a6c-4b84-9728-340b09c6c756')\"\n",
              "                title=\"Suggest charts\"\n",
              "                style=\"display:none;\">\n",
              "\n",
              "<svg xmlns=\"http://www.w3.org/2000/svg\" height=\"24px\"viewBox=\"0 0 24 24\"\n",
              "     width=\"24px\">\n",
              "    <g>\n",
              "        <path d=\"M19 3H5c-1.1 0-2 .9-2 2v14c0 1.1.9 2 2 2h14c1.1 0 2-.9 2-2V5c0-1.1-.9-2-2-2zM9 17H7v-7h2v7zm4 0h-2V7h2v10zm4 0h-2v-4h2v4z\"/>\n",
              "    </g>\n",
              "</svg>\n",
              "      </button>\n",
              "\n",
              "<style>\n",
              "  .colab-df-quickchart {\n",
              "      --bg-color: #E8F0FE;\n",
              "      --fill-color: #1967D2;\n",
              "      --hover-bg-color: #E2EBFA;\n",
              "      --hover-fill-color: #174EA6;\n",
              "      --disabled-fill-color: #AAA;\n",
              "      --disabled-bg-color: #DDD;\n",
              "  }\n",
              "\n",
              "  [theme=dark] .colab-df-quickchart {\n",
              "      --bg-color: #3B4455;\n",
              "      --fill-color: #D2E3FC;\n",
              "      --hover-bg-color: #434B5C;\n",
              "      --hover-fill-color: #FFFFFF;\n",
              "      --disabled-bg-color: #3B4455;\n",
              "      --disabled-fill-color: #666;\n",
              "  }\n",
              "\n",
              "  .colab-df-quickchart {\n",
              "    background-color: var(--bg-color);\n",
              "    border: none;\n",
              "    border-radius: 50%;\n",
              "    cursor: pointer;\n",
              "    display: none;\n",
              "    fill: var(--fill-color);\n",
              "    height: 32px;\n",
              "    padding: 0;\n",
              "    width: 32px;\n",
              "  }\n",
              "\n",
              "  .colab-df-quickchart:hover {\n",
              "    background-color: var(--hover-bg-color);\n",
              "    box-shadow: 0 1px 2px rgba(60, 64, 67, 0.3), 0 1px 3px 1px rgba(60, 64, 67, 0.15);\n",
              "    fill: var(--button-hover-fill-color);\n",
              "  }\n",
              "\n",
              "  .colab-df-quickchart-complete:disabled,\n",
              "  .colab-df-quickchart-complete:disabled:hover {\n",
              "    background-color: var(--disabled-bg-color);\n",
              "    fill: var(--disabled-fill-color);\n",
              "    box-shadow: none;\n",
              "  }\n",
              "\n",
              "  .colab-df-spinner {\n",
              "    border: 2px solid var(--fill-color);\n",
              "    border-color: transparent;\n",
              "    border-bottom-color: var(--fill-color);\n",
              "    animation:\n",
              "      spin 1s steps(1) infinite;\n",
              "  }\n",
              "\n",
              "  @keyframes spin {\n",
              "    0% {\n",
              "      border-color: transparent;\n",
              "      border-bottom-color: var(--fill-color);\n",
              "      border-left-color: var(--fill-color);\n",
              "    }\n",
              "    20% {\n",
              "      border-color: transparent;\n",
              "      border-left-color: var(--fill-color);\n",
              "      border-top-color: var(--fill-color);\n",
              "    }\n",
              "    30% {\n",
              "      border-color: transparent;\n",
              "      border-left-color: var(--fill-color);\n",
              "      border-top-color: var(--fill-color);\n",
              "      border-right-color: var(--fill-color);\n",
              "    }\n",
              "    40% {\n",
              "      border-color: transparent;\n",
              "      border-right-color: var(--fill-color);\n",
              "      border-top-color: var(--fill-color);\n",
              "    }\n",
              "    60% {\n",
              "      border-color: transparent;\n",
              "      border-right-color: var(--fill-color);\n",
              "    }\n",
              "    80% {\n",
              "      border-color: transparent;\n",
              "      border-right-color: var(--fill-color);\n",
              "      border-bottom-color: var(--fill-color);\n",
              "    }\n",
              "    90% {\n",
              "      border-color: transparent;\n",
              "      border-bottom-color: var(--fill-color);\n",
              "    }\n",
              "  }\n",
              "</style>\n",
              "\n",
              "      <script>\n",
              "        async function quickchart(key) {\n",
              "          const quickchartButtonEl =\n",
              "            document.querySelector('#' + key + ' button');\n",
              "          quickchartButtonEl.disabled = true;  // To prevent multiple clicks.\n",
              "          quickchartButtonEl.classList.add('colab-df-spinner');\n",
              "          try {\n",
              "            const charts = await google.colab.kernel.invokeFunction(\n",
              "                'suggestCharts', [key], {});\n",
              "          } catch (error) {\n",
              "            console.error('Error during call to suggestCharts:', error);\n",
              "          }\n",
              "          quickchartButtonEl.classList.remove('colab-df-spinner');\n",
              "          quickchartButtonEl.classList.add('colab-df-quickchart-complete');\n",
              "        }\n",
              "        (() => {\n",
              "          let quickchartButtonEl =\n",
              "            document.querySelector('#df-831acd7c-4a6c-4b84-9728-340b09c6c756 button');\n",
              "          quickchartButtonEl.style.display =\n",
              "            google.colab.kernel.accessAllowed ? 'block' : 'none';\n",
              "        })();\n",
              "      </script>\n",
              "    </div>\n",
              "\n",
              "  <div id=\"id_afee08b0-5adf-469d-b10a-e61d4565cd7e\">\n",
              "    <style>\n",
              "      .colab-df-generate {\n",
              "        background-color: #E8F0FE;\n",
              "        border: none;\n",
              "        border-radius: 50%;\n",
              "        cursor: pointer;\n",
              "        display: none;\n",
              "        fill: #1967D2;\n",
              "        height: 32px;\n",
              "        padding: 0 0 0 0;\n",
              "        width: 32px;\n",
              "      }\n",
              "\n",
              "      .colab-df-generate:hover {\n",
              "        background-color: #E2EBFA;\n",
              "        box-shadow: 0px 1px 2px rgba(60, 64, 67, 0.3), 0px 1px 3px 1px rgba(60, 64, 67, 0.15);\n",
              "        fill: #174EA6;\n",
              "      }\n",
              "\n",
              "      [theme=dark] .colab-df-generate {\n",
              "        background-color: #3B4455;\n",
              "        fill: #D2E3FC;\n",
              "      }\n",
              "\n",
              "      [theme=dark] .colab-df-generate:hover {\n",
              "        background-color: #434B5C;\n",
              "        box-shadow: 0px 1px 3px 1px rgba(0, 0, 0, 0.15);\n",
              "        filter: drop-shadow(0px 1px 2px rgba(0, 0, 0, 0.3));\n",
              "        fill: #FFFFFF;\n",
              "      }\n",
              "    </style>\n",
              "    <button class=\"colab-df-generate\" onclick=\"generateWithVariable('daily_return')\"\n",
              "            title=\"Generate code using this dataframe.\"\n",
              "            style=\"display:none;\">\n",
              "\n",
              "  <svg xmlns=\"http://www.w3.org/2000/svg\" height=\"24px\"viewBox=\"0 0 24 24\"\n",
              "       width=\"24px\">\n",
              "    <path d=\"M7,19H8.4L18.45,9,17,7.55,7,17.6ZM5,21V16.75L18.45,3.32a2,2,0,0,1,2.83,0l1.4,1.43a1.91,1.91,0,0,1,.58,1.4,1.91,1.91,0,0,1-.58,1.4L9.25,21ZM18.45,9,17,7.55Zm-12,3A5.31,5.31,0,0,0,4.9,8.1,5.31,5.31,0,0,0,1,6.5,5.31,5.31,0,0,0,4.9,4.9,5.31,5.31,0,0,0,6.5,1,5.31,5.31,0,0,0,8.1,4.9,5.31,5.31,0,0,0,12,6.5,5.46,5.46,0,0,0,6.5,12Z\"/>\n",
              "  </svg>\n",
              "    </button>\n",
              "    <script>\n",
              "      (() => {\n",
              "      const buttonEl =\n",
              "        document.querySelector('#id_afee08b0-5adf-469d-b10a-e61d4565cd7e button.colab-df-generate');\n",
              "      buttonEl.style.display =\n",
              "        google.colab.kernel.accessAllowed ? 'block' : 'none';\n",
              "\n",
              "      buttonEl.onclick = () => {\n",
              "        google.colab.notebook.generateWithVariable('daily_return');\n",
              "      }\n",
              "      })();\n",
              "    </script>\n",
              "  </div>\n",
              "\n",
              "    </div>\n",
              "  </div>\n"
            ],
            "application/vnd.google.colaboratory.intrinsic+json": {
              "type": "dataframe",
              "variable_name": "daily_return",
              "summary": "{\n  \"name\": \"daily_return\",\n  \"rows\": 1230,\n  \"fields\": [\n    {\n      \"column\": \"Date\",\n      \"properties\": {\n        \"dtype\": \"date\",\n        \"min\": \"2020-01-03 00:00:00\",\n        \"max\": \"2024-12-30 00:00:00\",\n        \"num_unique_values\": 1230,\n        \"samples\": [\n          \"2022-03-24 00:00:00\",\n          \"2022-11-09 00:00:00\",\n          \"2020-12-28 00:00:00\"\n        ],\n        \"semantic_type\": \"\",\n        \"description\": \"\"\n      }\n    },\n    {\n      \"column\": \"\\uc0bc\\uc131\\uc804\\uc790\",\n      \"properties\": {\n        \"dtype\": \"number\",\n        \"std\": 0.016863856649817315,\n        \"min\": -0.10301507537688437,\n        \"max\": 0.1047058823529412,\n        \"num_unique_values\": 1095,\n        \"samples\": [\n          -0.0014836795252225476,\n          -0.01864406779661021,\n          -0.005964214711729587\n        ],\n        \"semantic_type\": \"\",\n        \"description\": \"\"\n      }\n    },\n    {\n      \"column\": \"\\uce74\\uce74\\uc624\",\n      \"properties\": {\n        \"dtype\": \"number\",\n        \"std\": 0.024441982954643487,\n        \"min\": -0.10064935064935066,\n        \"max\": 0.155511811023622,\n        \"num_unique_values\": 1130,\n        \"samples\": [\n          0.041860465116279055,\n          -0.0018552875695733162,\n          -0.0017605633802817433\n        ],\n        \"semantic_type\": \"\",\n        \"description\": \"\"\n      }\n    },\n    {\n      \"column\": \"\\uc140\\ud2b8\\ub9ac\\uc628\",\n      \"properties\": {\n        \"dtype\": \"number\",\n        \"std\": 0.02700122755319651,\n        \"min\": -0.13537311448284017,\n        \"max\": 0.2378371788228839,\n        \"num_unique_values\": 1159,\n        \"samples\": [\n          0.020723554631971286,\n          -0.04729853599769529,\n          0.0015685635781661489\n        ],\n        \"semantic_type\": \"\",\n        \"description\": \"\"\n      }\n    },\n    {\n      \"column\": \"KT&G\",\n      \"properties\": {\n        \"dtype\": \"number\",\n        \"std\": 0.013808274919026059,\n        \"min\": -0.12574850299401197,\n        \"max\": 0.12946859903381647,\n        \"num_unique_values\": 1010,\n        \"samples\": [\n          0.006557377049180246,\n          -0.005476451259583737,\n          0.005875440658049458\n        ],\n        \"semantic_type\": \"\",\n        \"description\": \"\"\n      }\n    }\n  ]\n}"
            }
          },
          "metadata": {},
          "execution_count": 14
        }
      ],
      "source": [
        "import datetime\n",
        "import FinanceDataReader as fdr\n",
        "import pandas as pd\n",
        "\n",
        "# 분석할 주식의 이름과 티커(Symbol) 리스트\n",
        "tickers = [['삼성전자', '005930'], ['카카오', '035720'], ['셀트리온', '068270'], ['KT&G', '033780']]\n",
        "\n",
        "# 주가 데이터를 저장할 데이터프레임 초기화\n",
        "dataset = pd.DataFrame()\n",
        "\n",
        "# 일일 수익률 데이터를 저장할 데이터프레임 초기화\n",
        "daily_return = pd.DataFrame()\n",
        "\n",
        "# 시작 날짜와 종료 날짜 설정\n",
        "start = datetime.datetime(2020, 1, 1)\n",
        "end = datetime.datetime(2024, 12, 31)\n",
        "\n",
        "# 주어진 티커 목록을 반복하며 데이터를 수집하고 처리\n",
        "for name, ticker in tickers:\n",
        "    # 각 주식의 종가 데이터를 FinanceDataReader를 통해 가져옵니다.\n",
        "    df = fdr.DataReader(ticker, start, end)\n",
        "\n",
        "    # 주가 데이터에서 'Close' 열을 주식 이름으로 변경\n",
        "    df.rename(columns={'Close': name}, inplace=True)\n",
        "\n",
        "    # 주가 데이터를 기존 데이터프레임(dataset)에 추가합니다.\n",
        "    if dataset.empty:\n",
        "        dataset = df[[name]]\n",
        "    else:\n",
        "        dataset = pd.concat([dataset, df[name]], axis=1)\n",
        "\n",
        "    # 주가 데이터에서 일일 수익률을 계산합니다.\n",
        "    df[name] = df[name].pct_change()\n",
        "    # 수익률 데이터에서 첫 번째 NaN 값만 제거합니다.\n",
        "    df.dropna(subset = [name], inplace=True)\n",
        "    # 계산된 수익률 데이터를 daily_returns 데이터프레임에 추가합니다.\n",
        "    if daily_return.empty:\n",
        "        daily_return = df[[name]]\n",
        "    else:\n",
        "        daily_return = pd.concat([daily_return, df[name]], axis=1)\n",
        "\n",
        "# 최종적으로 계산된 일일 수익률 데이터를 출력합니다.\n",
        "\n",
        "daily_return"
      ]
    },
    {
      "cell_type": "markdown",
      "id": "221a9a5c",
      "metadata": {
        "id": "221a9a5c"
      },
      "source": [
        "일일 수익률 시각화"
      ]
    },
    {
      "cell_type": "code",
      "execution_count": 19,
      "id": "2aa7c0e7",
      "metadata": {
        "id": "2aa7c0e7",
        "colab": {
          "base_uri": "https://localhost:8080/",
          "height": 439
        },
        "outputId": "49e0df23-d7a7-4837-bc37-d74909637298"
      },
      "outputs": [
        {
          "output_type": "execute_result",
          "data": {
            "text/plain": [
              "<Axes: xlabel='Date'>"
            ]
          },
          "metadata": {},
          "execution_count": 19
        },
        {
          "output_type": "display_data",
          "data": {
            "text/plain": [
              "<Figure size 640x480 with 1 Axes>"
            ],
            "image/png": "[encoded data removed]"
          },
          "metadata": {}
        }
      ],
      "source": [
        "daily_return.plot()"
      ]
    },
    {
      "cell_type": "markdown",
      "id": "7dc1871f",
      "metadata": {
        "id": "7dc1871f"
      },
      "source": [
        "일일 변동성(volatility)"
      ]
    },
    {
      "cell_type": "code",
      "execution_count": 20,
      "id": "e57f3e08",
      "metadata": {
        "id": "e57f3e08",
        "colab": {
          "base_uri": "https://localhost:8080/",
          "height": 210
        },
        "outputId": "f3200bdd-5a83-4274-b948-56d6cc8437f6"
      },
      "outputs": [
        {
          "output_type": "execute_result",
          "data": {
            "text/plain": [
              "삼성전자    0.016864\n",
              "카카오     0.024442\n",
              "셀트리온    0.027001\n",
              "KT&G    0.013808\n",
              "dtype: float64"
            ],
            "text/html": [
              "<div>\n",
              "<style scoped>\n",
              "    .dataframe tbody tr th:only-of-type {\n",
              "        vertical-align: middle;\n",
              "    }\n",
              "\n",
              "    .dataframe tbody tr th {\n",
              "        vertical-align: top;\n",
              "    }\n",
              "\n",
              "    .dataframe thead th {\n",
              "        text-align: right;\n",
              "    }\n",
              "</style>\n",
              "<table border=\"1\" class=\"dataframe\">\n",
              "  <thead>\n",
              "    <tr style=\"text-align: right;\">\n",
              "      <th></th>\n",
              "      <th>0</th>\n",
              "    </tr>\n",
              "  </thead>\n",
              "  <tbody>\n",
              "    <tr>\n",
              "      <th>삼성전자</th>\n",
              "      <td>0.016864</td>\n",
              "    </tr>\n",
              "    <tr>\n",
              "      <th>카카오</th>\n",
              "      <td>0.024442</td>\n",
              "    </tr>\n",
              "    <tr>\n",
              "      <th>셀트리온</th>\n",
              "      <td>0.027001</td>\n",
              "    </tr>\n",
              "    <tr>\n",
              "      <th>KT&amp;G</th>\n",
              "      <td>0.013808</td>\n",
              "    </tr>\n",
              "  </tbody>\n",
              "</table>\n",
              "</div><br><label><b>dtype:</b> float64</label>"
            ]
          },
          "metadata": {},
          "execution_count": 20
        }
      ],
      "source": [
        "daily_return.std()"
      ]
    },
    {
      "cell_type": "markdown",
      "id": "e6d5c141",
      "metadata": {
        "id": "e6d5c141"
      },
      "source": [
        "연간 수익률"
      ]
    },
    {
      "cell_type": "code",
      "execution_count": 21,
      "id": "4e2317c7",
      "metadata": {
        "id": "4e2317c7",
        "colab": {
          "base_uri": "https://localhost:8080/",
          "height": 210
        },
        "outputId": "cc99309a-433d-4669-efa2-0eb27326a904"
      },
      "outputs": [
        {
          "output_type": "execute_result",
          "data": {
            "text/plain": [
              "삼성전자   -0.036232\n",
              "카카오     0.247999\n",
              "셀트리온    0.174724\n",
              "KT&G    0.157838\n",
              "dtype: float64"
            ],
            "text/html": [
              "<div>\n",
              "<style scoped>\n",
              "    .dataframe tbody tr th:only-of-type {\n",
              "        vertical-align: middle;\n",
              "    }\n",
              "\n",
              "    .dataframe tbody tr th {\n",
              "        vertical-align: top;\n",
              "    }\n",
              "\n",
              "    .dataframe thead th {\n",
              "        text-align: right;\n",
              "    }\n",
              "</style>\n",
              "<table border=\"1\" class=\"dataframe\">\n",
              "  <thead>\n",
              "    <tr style=\"text-align: right;\">\n",
              "      <th></th>\n",
              "      <th>0</th>\n",
              "    </tr>\n",
              "  </thead>\n",
              "  <tbody>\n",
              "    <tr>\n",
              "      <th>삼성전자</th>\n",
              "      <td>-0.036232</td>\n",
              "    </tr>\n",
              "    <tr>\n",
              "      <th>카카오</th>\n",
              "      <td>0.247999</td>\n",
              "    </tr>\n",
              "    <tr>\n",
              "      <th>셀트리온</th>\n",
              "      <td>0.174724</td>\n",
              "    </tr>\n",
              "    <tr>\n",
              "      <th>KT&amp;G</th>\n",
              "      <td>0.157838</td>\n",
              "    </tr>\n",
              "  </tbody>\n",
              "</table>\n",
              "</div><br><label><b>dtype:</b> float64</label>"
            ]
          },
          "metadata": {},
          "execution_count": 21
        }
      ],
      "source": [
        "annualized_return = (1 + daily_return).prod() -1\n",
        "annualized_return"
      ]
    },
    {
      "cell_type": "markdown",
      "id": "fa47c1f8",
      "metadata": {
        "id": "fa47c1f8"
      },
      "source": [
        "연간 변동성"
      ]
    },
    {
      "cell_type": "code",
      "execution_count": 22,
      "id": "e5db1046",
      "metadata": {
        "id": "e5db1046",
        "colab": {
          "base_uri": "https://localhost:8080/",
          "height": 210
        },
        "outputId": "8ca56fcb-baab-47e7-8079-6f045a50e212"
      },
      "outputs": [
        {
          "output_type": "execute_result",
          "data": {
            "text/plain": [
              "삼성전자    0.267705\n",
              "카카오     0.388004\n",
              "셀트리온    0.428631\n",
              "KT&G    0.219200\n",
              "dtype: float64"
            ],
            "text/html": [
              "<div>\n",
              "<style scoped>\n",
              "    .dataframe tbody tr th:only-of-type {\n",
              "        vertical-align: middle;\n",
              "    }\n",
              "\n",
              "    .dataframe tbody tr th {\n",
              "        vertical-align: top;\n",
              "    }\n",
              "\n",
              "    .dataframe thead th {\n",
              "        text-align: right;\n",
              "    }\n",
              "</style>\n",
              "<table border=\"1\" class=\"dataframe\">\n",
              "  <thead>\n",
              "    <tr style=\"text-align: right;\">\n",
              "      <th></th>\n",
              "      <th>0</th>\n",
              "    </tr>\n",
              "  </thead>\n",
              "  <tbody>\n",
              "    <tr>\n",
              "      <th>삼성전자</th>\n",
              "      <td>0.267705</td>\n",
              "    </tr>\n",
              "    <tr>\n",
              "      <th>카카오</th>\n",
              "      <td>0.388004</td>\n",
              "    </tr>\n",
              "    <tr>\n",
              "      <th>셀트리온</th>\n",
              "      <td>0.428631</td>\n",
              "    </tr>\n",
              "    <tr>\n",
              "      <th>KT&amp;G</th>\n",
              "      <td>0.219200</td>\n",
              "    </tr>\n",
              "  </tbody>\n",
              "</table>\n",
              "</div><br><label><b>dtype:</b> float64</label>"
            ]
          },
          "metadata": {},
          "execution_count": 22
        }
      ],
      "source": [
        "annualized_vol = daily_return.std() * np.sqrt(252)\n",
        "annualized_vol"
      ]
    },
    {
      "cell_type": "markdown",
      "id": "11eb464f",
      "metadata": {
        "id": "11eb464f"
      },
      "source": [
        "- Sharpe Ratio 계산\n",
        "\n",
        "초과 수익 / 변동성 --> 변동성(위험) 한단위 당 초과 수익\n",
        "\n",
        "$$SR=\\frac{R_p-R_f}{\\sigma_p}$$\n",
        "\n",
        "p: portfolio, f: risk free"
      ]
    },
    {
      "cell_type": "code",
      "execution_count": 23,
      "id": "16b02a90",
      "metadata": {
        "id": "16b02a90",
        "colab": {
          "base_uri": "https://localhost:8080/",
          "height": 210
        },
        "outputId": "5f0d7127-add3-4b27-a282-d819e6444311"
      },
      "outputs": [
        {
          "output_type": "execute_result",
          "data": {
            "text/plain": [
              "삼성전자   -0.172697\n",
              "카카오     0.613392\n",
              "셀트리온    0.384302\n",
              "KT&G    0.674444\n",
              "dtype: float64"
            ],
            "text/html": [
              "<div>\n",
              "<style scoped>\n",
              "    .dataframe tbody tr th:only-of-type {\n",
              "        vertical-align: middle;\n",
              "    }\n",
              "\n",
              "    .dataframe tbody tr th {\n",
              "        vertical-align: top;\n",
              "    }\n",
              "\n",
              "    .dataframe thead th {\n",
              "        text-align: right;\n",
              "    }\n",
              "</style>\n",
              "<table border=\"1\" class=\"dataframe\">\n",
              "  <thead>\n",
              "    <tr style=\"text-align: right;\">\n",
              "      <th></th>\n",
              "      <th>0</th>\n",
              "    </tr>\n",
              "  </thead>\n",
              "  <tbody>\n",
              "    <tr>\n",
              "      <th>삼성전자</th>\n",
              "      <td>-0.172697</td>\n",
              "    </tr>\n",
              "    <tr>\n",
              "      <th>카카오</th>\n",
              "      <td>0.613392</td>\n",
              "    </tr>\n",
              "    <tr>\n",
              "      <th>셀트리온</th>\n",
              "      <td>0.384302</td>\n",
              "    </tr>\n",
              "    <tr>\n",
              "      <th>KT&amp;G</th>\n",
              "      <td>0.674444</td>\n",
              "    </tr>\n",
              "  </tbody>\n",
              "</table>\n",
              "</div><br><label><b>dtype:</b> float64</label>"
            ]
          },
          "metadata": {},
          "execution_count": 23
        }
      ],
      "source": [
        "#무위험 수익률\n",
        "riskfree_rate = 0.01\n",
        "\n",
        "#초과 수익률\n",
        "excess_return = annualized_return - riskfree_rate\n",
        "\n",
        "#샤프지수\n",
        "sharpe_ratio = excess_return / annualized_vol\n",
        "sharpe_ratio"
      ]
    },
    {
      "cell_type": "markdown",
      "id": "891f4586",
      "metadata": {
        "id": "891f4586"
      },
      "source": [
        "높은 샤프 지수는 동일한 위험 수준에서 더 높은 예상 수익을 제공하는 투자를 나타냅니다.\n",
        "\n",
        "위의 샤프 지수에 따르면, \"카카오\"가 가장 높은 샤프 지수(1.771584)를 가지고 있습니다. 따라서 이 투자가 주어진 위험에 대해 가장 높은 예상 수익률을 제공한다고 볼 수 있습니다."
      ]
    },
    {
      "cell_type": "markdown",
      "id": "0786dbde",
      "metadata": {
        "id": "0786dbde"
      },
      "source": [
        "실제 주가 시각화"
      ]
    },
    {
      "cell_type": "code",
      "execution_count": 25,
      "id": "8846c725",
      "metadata": {
        "id": "8846c725",
        "colab": {
          "base_uri": "https://localhost:8080/",
          "height": 421
        },
        "outputId": "88de52d1-bfaf-4789-9a06-e3ea0f190968"
      },
      "outputs": [
        {
          "output_type": "display_data",
          "data": {
            "text/plain": [
              "<Figure size 640x480 with 1 Axes>"
            ],
            "image/png": "[encoded data removed]"
          },
          "metadata": {}
        }
      ],
      "source": [
        "fig, ax = plt.subplots(1,1)\n",
        "dataset.plot(ax=ax)\n",
        "ax.set_yscale('log')"
      ]
    },
    {
      "cell_type": "code",
      "execution_count": 16,
      "id": "417fdb19",
      "metadata": {
        "id": "417fdb19"
      },
      "outputs": [],
      "source": []
    },
    {
      "cell_type": "code",
      "execution_count": 16,
      "id": "a680746f",
      "metadata": {
        "id": "a680746f"
      },
      "outputs": [],
      "source": []
    }
  ],
  "metadata": {
    "kernelspec": {
      "display_name": "Python 3 (ipykernel)",
      "language": "python",
      "name": "python3"
    },
    "language_info": {
      "codemirror_mode": {
        "name": "ipython",
        "version": 3
      },
      "file_extension": ".py",
      "mimetype": "text/x-python",
      "name": "python",
      "nbconvert_exporter": "python",
      "pygments_lexer": "ipython3",
      "version": "3.9.16"
    },
    "colab": {
      "provenance": [],
      "include_colab_link": true
    }
  },
  "nbformat": 4,
  "nbformat_minor": 5
}