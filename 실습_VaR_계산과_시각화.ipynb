{
  "cells": [
    {
      "cell_type": "markdown",
      "metadata": {
        "id": "view-in-github",
        "colab_type": "text"
      },
      "source": [
        "<a href=\"https://colab.research.google.com/github/JinGunseon/FinanceDataAnalysis/blob/main/%EC%8B%A4%EC%8A%B5_VaR_%EA%B3%84%EC%82%B0%EA%B3%BC_%EC%8B%9C%EA%B0%81%ED%99%94.ipynb\" target=\"_parent\"><img src=\"https://colab.research.google.com/assets/colab-badge.svg\" alt=\"Open In Colab\"/></a>"
      ]
    },
    {
      "cell_type": "markdown",
      "id": "60fbd11e",
      "metadata": {
        "id": "60fbd11e"
      },
      "source": [
        "# Value At Risk (위험 가치)\n",
        "\n",
        "Value At Risk (VaR) 또는 \"위험 가치\"는 투자 포트폴리오에서 **일정 기간 동안 발생할 수 있는 최대 예상 손실**을 측정하는 데 사용되는 금융 위험 관리 도구입니다. VaR은 주어진 확률과 시간 기간에 대한 손실의 최대 금액을 나타냅니다.\n",
        "\n",
        "예를 들어, 1일 VaR이 1백만 달러, 5%라고 한다면, 이는 하루에 1백만 달러 이상 손실이 발생할 확률이 5%라는 의미입니다. 다시 말해, 100일 중 약 5일 동안 투자자는 1백만 달러 이상 손실을 볼 수 있다는 것을 예상할 수 있습니다.\n",
        "\n",
        "- VaR은 일반적으로 세 가지 요소를 고려하여 계산됩니다:  \n",
        "1. 확률 또는 신뢰 수준(Confidence level): 손실이 예상치를 초과할 확률.  \n",
        "2. 시간 기간(Time horizon): VaR 측정치를 기반으로 하는 기간.  \n",
        "3. 손실 금액(Loss amount): 주어진 확률과 시간 기간 동안 손실될 수 있는 금액.  \n",
        "\n",
        "VaR은 자산, 포트폴리오, 회사 또는 금융 기관의 위험을 측정하고 이해하는 데 유용한 도구이지만, 극단적인 이벤트(즉, \"꼬리\" 위험)를 잘 포착하지 못하는 한계가 있습니다. 따라서 VaR은 종종 다른 위험 관리 지표와 함께 사용됩니다.\n",
        "\n",
        "### 특정 주식의 로그 수익률 분포\n",
        "\n",
        "- histogram 으로 확인하면 normal distribution 에 매우 가깝게 나타난다.\n",
        "- Mean(mu), variance(sigma) 를 historic data 로부터 추정"
      ]
    },
    {
      "cell_type": "code",
      "execution_count": 1,
      "id": "5288f3a5",
      "metadata": {
        "id": "5288f3a5"
      },
      "outputs": [],
      "source": [
        "# ticker = 'AAPL'\n",
        "# ticker_name = \"Apple\""
      ]
    },
    {
      "source": [
        "!sudo apt-get install -y fonts-nanum\n",
        "!sudo fc-cache -fv\n",
        "!rm ~/.cache/matplotlib -rf"
      ],
      "cell_type": "code",
      "metadata": {
        "colab": {
          "base_uri": "https://localhost:8080/"
        },
        "id": "PlHw9_ILzicR",
        "outputId": "d94292af-47c7-4698-fc66-459a6f57d175"
      },
      "id": "PlHw9_ILzicR",
      "execution_count": 2,
      "outputs": [
        {
          "output_type": "stream",
          "name": "stdout",
          "text": [
            "Reading package lists... Done\n",
            "Building dependency tree... Done\n",
            "Reading state information... Done\n",
            "fonts-nanum is already the newest version (20200506-1).\n",
            "0 upgraded, 0 newly installed, 0 to remove and 34 not upgraded.\n",
            "/usr/share/fonts: caching, new cache contents: 0 fonts, 1 dirs\n",
            "/usr/share/fonts/truetype: caching, new cache contents: 0 fonts, 3 dirs\n",
            "/usr/share/fonts/truetype/humor-sans: caching, new cache contents: 1 fonts, 0 dirs\n",
            "/usr/share/fonts/truetype/liberation: caching, new cache contents: 16 fonts, 0 dirs\n",
            "/usr/share/fonts/truetype/nanum: caching, new cache contents: 12 fonts, 0 dirs\n",
            "/usr/local/share/fonts: caching, new cache contents: 0 fonts, 0 dirs\n",
            "/root/.local/share/fonts: skipping, no such directory\n",
            "/root/.fonts: skipping, no such directory\n",
            "/usr/share/fonts/truetype: skipping, looped directory detected\n",
            "/usr/share/fonts/truetype/humor-sans: skipping, looped directory detected\n",
            "/usr/share/fonts/truetype/liberation: skipping, looped directory detected\n",
            "/usr/share/fonts/truetype/nanum: skipping, looped directory detected\n",
            "/var/cache/fontconfig: cleaning cache directory\n",
            "/root/.cache/fontconfig: not cleaning non-existent cache directory\n",
            "/root/.fontconfig: not cleaning non-existent cache directory\n",
            "fc-cache: succeeded\n"
          ]
        }
      ]
    },
    {
      "source": [
        "import matplotlib.pyplot as plt\n",
        "import matplotlib.font_manager as fm\n",
        "\n",
        "# 폰트 경로 설정 (Colab 환경)\n",
        "font_path = '/usr/share/fonts/truetype/nanum/NanumGothic.ttf'\n",
        "\n",
        "# 폰트 객체 생성\n",
        "font_name = fm.FontProperties(fname=font_path).get_name()\n",
        "\n",
        "# matplotlib 설정 변경\n",
        "plt.rc('font', family=font_name)"
      ],
      "cell_type": "code",
      "metadata": {
        "id": "dW7YVlh2zp1z"
      },
      "id": "dW7YVlh2zp1z",
      "execution_count": 3,
      "outputs": []
    },
    {
      "cell_type": "code",
      "source": [
        "# fallback 폰트 설정\n",
        "fm.FontProperties(fname='/usr/share/fonts/truetype/nanum/NanumGothic.ttf').set_family('sans-serif')"
      ],
      "metadata": {
        "id": "cgLY7Et60Kjc"
      },
      "id": "cgLY7Et60Kjc",
      "execution_count": 25,
      "outputs": []
    },
    {
      "cell_type": "code",
      "source": [
        "!pip install --upgrade Finance_DataReader"
      ],
      "metadata": {
        "colab": {
          "base_uri": "https://localhost:8080/"
        },
        "id": "i0ZKDajnvS3y",
        "outputId": "82dd35e4-8be6-442c-fd4a-7f1eeaffa464"
      },
      "id": "i0ZKDajnvS3y",
      "execution_count": 4,
      "outputs": [
        {
          "output_type": "stream",
          "name": "stdout",
          "text": [
            "Requirement already satisfied: Finance_DataReader in /usr/local/lib/python3.11/dist-packages (0.9.96)\n",
            "Requirement already satisfied: beautifulsoup4 in /usr/local/lib/python3.11/dist-packages (from Finance_DataReader) (4.13.4)\n",
            "Requirement already satisfied: lxml in /usr/local/lib/python3.11/dist-packages (from Finance_DataReader) (5.4.0)\n",
            "Requirement already satisfied: pandas>=1.1.0 in /usr/local/lib/python3.11/dist-packages (from Finance_DataReader) (2.2.2)\n",
            "Requirement already satisfied: plotly in /usr/local/lib/python3.11/dist-packages (from Finance_DataReader) (5.24.1)\n",
            "Requirement already satisfied: requests-file in /usr/local/lib/python3.11/dist-packages (from Finance_DataReader) (2.1.0)\n",
            "Requirement already satisfied: requests>=2.3.0 in /usr/local/lib/python3.11/dist-packages (from Finance_DataReader) (2.32.3)\n",
            "Requirement already satisfied: tqdm in /usr/local/lib/python3.11/dist-packages (from Finance_DataReader) (4.67.1)\n",
            "Requirement already satisfied: numpy>=1.23.2 in /usr/local/lib/python3.11/dist-packages (from pandas>=1.1.0->Finance_DataReader) (2.0.2)\n",
            "Requirement already satisfied: python-dateutil>=2.8.2 in /usr/local/lib/python3.11/dist-packages (from pandas>=1.1.0->Finance_DataReader) (2.9.0.post0)\n",
            "Requirement already satisfied: pytz>=2020.1 in /usr/local/lib/python3.11/dist-packages (from pandas>=1.1.0->Finance_DataReader) (2025.2)\n",
            "Requirement already satisfied: tzdata>=2022.7 in /usr/local/lib/python3.11/dist-packages (from pandas>=1.1.0->Finance_DataReader) (2025.2)\n",
            "Requirement already satisfied: charset-normalizer<4,>=2 in /usr/local/lib/python3.11/dist-packages (from requests>=2.3.0->Finance_DataReader) (3.4.1)\n",
            "Requirement already satisfied: idna<4,>=2.5 in /usr/local/lib/python3.11/dist-packages (from requests>=2.3.0->Finance_DataReader) (3.10)\n",
            "Requirement already satisfied: urllib3<3,>=1.21.1 in /usr/local/lib/python3.11/dist-packages (from requests>=2.3.0->Finance_DataReader) (2.4.0)\n",
            "Requirement already satisfied: certifi>=2017.4.17 in /usr/local/lib/python3.11/dist-packages (from requests>=2.3.0->Finance_DataReader) (2025.4.26)\n",
            "Requirement already satisfied: soupsieve>1.2 in /usr/local/lib/python3.11/dist-packages (from beautifulsoup4->Finance_DataReader) (2.7)\n",
            "Requirement already satisfied: typing-extensions>=4.0.0 in /usr/local/lib/python3.11/dist-packages (from beautifulsoup4->Finance_DataReader) (4.13.2)\n",
            "Requirement already satisfied: tenacity>=6.2.0 in /usr/local/lib/python3.11/dist-packages (from plotly->Finance_DataReader) (9.1.2)\n",
            "Requirement already satisfied: packaging in /usr/local/lib/python3.11/dist-packages (from plotly->Finance_DataReader) (24.2)\n",
            "Requirement already satisfied: six>=1.5 in /usr/local/lib/python3.11/dist-packages (from python-dateutil>=2.8.2->pandas>=1.1.0->Finance_DataReader) (1.17.0)\n"
          ]
        }
      ]
    },
    {
      "cell_type": "code",
      "execution_count": 5,
      "id": "58b96e00",
      "metadata": {
        "id": "58b96e00"
      },
      "outputs": [],
      "source": [
        "import numpy as np\n",
        "import pandas as pd\n",
        "import matplotlib.pyplot as plt\n",
        "from scipy.stats import norm\n",
        "import FinanceDataReader as fdr\n",
        "#import korean\n",
        "\n",
        "# ticker = 'AAPL'\n",
        "# ticker_name = \"Apple\"\n",
        "\n",
        "ticker = '086520'\n",
        "ticker_name = \"Echo Pro\""
      ]
    },
    {
      "cell_type": "code",
      "source": [
        "df = fdr.DataReader(ticker, start=\"2020-01-01\")\n",
        "df.head()"
      ],
      "metadata": {
        "colab": {
          "base_uri": "https://localhost:8080/",
          "height": 238
        },
        "id": "gL79yqTcvxFA",
        "outputId": "27269e22-9dfe-45ea-e1c0-ab9f8fea4afe"
      },
      "id": "gL79yqTcvxFA",
      "execution_count": 6,
      "outputs": [
        {
          "output_type": "execute_result",
          "data": {
            "text/plain": [
              "            Open  High   Low  Close   Volume    Change\n",
              "Date                                                  \n",
              "2020-01-02  2861  2911  2798   2900  2998781  0.017544\n",
              "2020-01-03  2893  2893  2823   2856  2133469 -0.015172\n",
              "2020-01-06  2773  2918  2747   2888  3371224  0.011204\n",
              "2020-01-07  2874  2937  2836   2843  1998961 -0.015582\n",
              "2020-01-08  2824  2843  2710   2730  3467853 -0.039747"
            ],
            "text/html": [
              "\n",
              "  <div id=\"df-6bc9b39e-e0e8-4871-bf6a-9119f3f5721d\" class=\"colab-df-container\">\n",
              "    <div>\n",
              "<style scoped>\n",
              "    .dataframe tbody tr th:only-of-type {\n",
              "        vertical-align: middle;\n",
              "    }\n",
              "\n",
              "    .dataframe tbody tr th {\n",
              "        vertical-align: top;\n",
              "    }\n",
              "\n",
              "    .dataframe thead th {\n",
              "        text-align: right;\n",
              "    }\n",
              "</style>\n",
              "<table border=\"1\" class=\"dataframe\">\n",
              "  <thead>\n",
              "    <tr style=\"text-align: right;\">\n",
              "      <th></th>\n",
              "      <th>Open</th>\n",
              "      <th>High</th>\n",
              "      <th>Low</th>\n",
              "      <th>Close</th>\n",
              "      <th>Volume</th>\n",
              "      <th>Change</th>\n",
              "    </tr>\n",
              "    <tr>\n",
              "      <th>Date</th>\n",
              "      <th></th>\n",
              "      <th></th>\n",
              "      <th></th>\n",
              "      <th></th>\n",
              "      <th></th>\n",
              "      <th></th>\n",
              "    </tr>\n",
              "  </thead>\n",
              "  <tbody>\n",
              "    <tr>\n",
              "      <th>2020-01-02</th>\n",
              "      <td>2861</td>\n",
              "      <td>2911</td>\n",
              "      <td>2798</td>\n",
              "      <td>2900</td>\n",
              "      <td>2998781</td>\n",
              "      <td>0.017544</td>\n",
              "    </tr>\n",
              "    <tr>\n",
              "      <th>2020-01-03</th>\n",
              "      <td>2893</td>\n",
              "      <td>2893</td>\n",
              "      <td>2823</td>\n",
              "      <td>2856</td>\n",
              "      <td>2133469</td>\n",
              "      <td>-0.015172</td>\n",
              "    </tr>\n",
              "    <tr>\n",
              "      <th>2020-01-06</th>\n",
              "      <td>2773</td>\n",
              "      <td>2918</td>\n",
              "      <td>2747</td>\n",
              "      <td>2888</td>\n",
              "      <td>3371224</td>\n",
              "      <td>0.011204</td>\n",
              "    </tr>\n",
              "    <tr>\n",
              "      <th>2020-01-07</th>\n",
              "      <td>2874</td>\n",
              "      <td>2937</td>\n",
              "      <td>2836</td>\n",
              "      <td>2843</td>\n",
              "      <td>1998961</td>\n",
              "      <td>-0.015582</td>\n",
              "    </tr>\n",
              "    <tr>\n",
              "      <th>2020-01-08</th>\n",
              "      <td>2824</td>\n",
              "      <td>2843</td>\n",
              "      <td>2710</td>\n",
              "      <td>2730</td>\n",
              "      <td>3467853</td>\n",
              "      <td>-0.039747</td>\n",
              "    </tr>\n",
              "  </tbody>\n",
              "</table>\n",
              "</div>\n",
              "    <div class=\"colab-df-buttons\">\n",
              "\n",
              "  <div class=\"colab-df-container\">\n",
              "    <button class=\"colab-df-convert\" onclick=\"convertToInteractive('df-6bc9b39e-e0e8-4871-bf6a-9119f3f5721d')\"\n",
              "            title=\"Convert this dataframe to an interactive table.\"\n",
              "            style=\"display:none;\">\n",
              "\n",
              "  <svg xmlns=\"http://www.w3.org/2000/svg\" height=\"24px\" viewBox=\"0 -960 960 960\">\n",
              "    <path d=\"M120-120v-720h720v720H120Zm60-500h600v-160H180v160Zm220 220h160v-160H400v160Zm0 220h160v-160H400v160ZM180-400h160v-160H180v160Zm440 0h160v-160H620v160ZM180-180h160v-160H180v160Zm440 0h160v-160H620v160Z\"/>\n",
              "  </svg>\n",
              "    </button>\n",
              "\n",
              "  <style>\n",
              "    .colab-df-container {\n",
              "      display:flex;\n",
              "      gap: 12px;\n",
              "    }\n",
              "\n",
              "    .colab-df-convert {\n",
              "      background-color: #E8F0FE;\n",
              "      border: none;\n",
              "      border-radius: 50%;\n",
              "      cursor: pointer;\n",
              "      display: none;\n",
              "      fill: #1967D2;\n",
              "      height: 32px;\n",
              "      padding: 0 0 0 0;\n",
              "      width: 32px;\n",
              "    }\n",
              "\n",
              "    .colab-df-convert:hover {\n",
              "      background-color: #E2EBFA;\n",
              "      box-shadow: 0px 1px 2px rgba(60, 64, 67, 0.3), 0px 1px 3px 1px rgba(60, 64, 67, 0.15);\n",
              "      fill: #174EA6;\n",
              "    }\n",
              "\n",
              "    .colab-df-buttons div {\n",
              "      margin-bottom: 4px;\n",
              "    }\n",
              "\n",
              "    [theme=dark] .colab-df-convert {\n",
              "      background-color: #3B4455;\n",
              "      fill: #D2E3FC;\n",
              "    }\n",
              "\n",
              "    [theme=dark] .colab-df-convert:hover {\n",
              "      background-color: #434B5C;\n",
              "      box-shadow: 0px 1px 3px 1px rgba(0, 0, 0, 0.15);\n",
              "      filter: drop-shadow(0px 1px 2px rgba(0, 0, 0, 0.3));\n",
              "      fill: #FFFFFF;\n",
              "    }\n",
              "  </style>\n",
              "\n",
              "    <script>\n",
              "      const buttonEl =\n",
              "        document.querySelector('#df-6bc9b39e-e0e8-4871-bf6a-9119f3f5721d button.colab-df-convert');\n",
              "      buttonEl.style.display =\n",
              "        google.colab.kernel.accessAllowed ? 'block' : 'none';\n",
              "\n",
              "      async function convertToInteractive(key) {\n",
              "        const element = document.querySelector('#df-6bc9b39e-e0e8-4871-bf6a-9119f3f5721d');\n",
              "        const dataTable =\n",
              "          await google.colab.kernel.invokeFunction('convertToInteractive',\n",
              "                                                    [key], {});\n",
              "        if (!dataTable) return;\n",
              "\n",
              "        const docLinkHtml = 'Like what you see? Visit the ' +\n",
              "          '<a target=\"_blank\" href=https://colab.research.google.com/notebooks/data_table.ipynb>data table notebook</a>'\n",
              "          + ' to learn more about interactive tables.';\n",
              "        element.innerHTML = '';\n",
              "        dataTable['output_type'] = 'display_data';\n",
              "        await google.colab.output.renderOutput(dataTable, element);\n",
              "        const docLink = document.createElement('div');\n",
              "        docLink.innerHTML = docLinkHtml;\n",
              "        element.appendChild(docLink);\n",
              "      }\n",
              "    </script>\n",
              "  </div>\n",
              "\n",
              "\n",
              "    <div id=\"df-24167c3d-bb60-433c-85ea-59d3dc6862ad\">\n",
              "      <button class=\"colab-df-quickchart\" onclick=\"quickchart('df-24167c3d-bb60-433c-85ea-59d3dc6862ad')\"\n",
              "                title=\"Suggest charts\"\n",
              "                style=\"display:none;\">\n",
              "\n",
              "<svg xmlns=\"http://www.w3.org/2000/svg\" height=\"24px\"viewBox=\"0 0 24 24\"\n",
              "     width=\"24px\">\n",
              "    <g>\n",
              "        <path d=\"M19 3H5c-1.1 0-2 .9-2 2v14c0 1.1.9 2 2 2h14c1.1 0 2-.9 2-2V5c0-1.1-.9-2-2-2zM9 17H7v-7h2v7zm4 0h-2V7h2v10zm4 0h-2v-4h2v4z\"/>\n",
              "    </g>\n",
              "</svg>\n",
              "      </button>\n",
              "\n",
              "<style>\n",
              "  .colab-df-quickchart {\n",
              "      --bg-color: #E8F0FE;\n",
              "      --fill-color: #1967D2;\n",
              "      --hover-bg-color: #E2EBFA;\n",
              "      --hover-fill-color: #174EA6;\n",
              "      --disabled-fill-color: #AAA;\n",
              "      --disabled-bg-color: #DDD;\n",
              "  }\n",
              "\n",
              "  [theme=dark] .colab-df-quickchart {\n",
              "      --bg-color: #3B4455;\n",
              "      --fill-color: #D2E3FC;\n",
              "      --hover-bg-color: #434B5C;\n",
              "      --hover-fill-color: #FFFFFF;\n",
              "      --disabled-bg-color: #3B4455;\n",
              "      --disabled-fill-color: #666;\n",
              "  }\n",
              "\n",
              "  .colab-df-quickchart {\n",
              "    background-color: var(--bg-color);\n",
              "    border: none;\n",
              "    border-radius: 50%;\n",
              "    cursor: pointer;\n",
              "    display: none;\n",
              "    fill: var(--fill-color);\n",
              "    height: 32px;\n",
              "    padding: 0;\n",
              "    width: 32px;\n",
              "  }\n",
              "\n",
              "  .colab-df-quickchart:hover {\n",
              "    background-color: var(--hover-bg-color);\n",
              "    box-shadow: 0 1px 2px rgba(60, 64, 67, 0.3), 0 1px 3px 1px rgba(60, 64, 67, 0.15);\n",
              "    fill: var(--button-hover-fill-color);\n",
              "  }\n",
              "\n",
              "  .colab-df-quickchart-complete:disabled,\n",
              "  .colab-df-quickchart-complete:disabled:hover {\n",
              "    background-color: var(--disabled-bg-color);\n",
              "    fill: var(--disabled-fill-color);\n",
              "    box-shadow: none;\n",
              "  }\n",
              "\n",
              "  .colab-df-spinner {\n",
              "    border: 2px solid var(--fill-color);\n",
              "    border-color: transparent;\n",
              "    border-bottom-color: var(--fill-color);\n",
              "    animation:\n",
              "      spin 1s steps(1) infinite;\n",
              "  }\n",
              "\n",
              "  @keyframes spin {\n",
              "    0% {\n",
              "      border-color: transparent;\n",
              "      border-bottom-color: var(--fill-color);\n",
              "      border-left-color: var(--fill-color);\n",
              "    }\n",
              "    20% {\n",
              "      border-color: transparent;\n",
              "      border-left-color: var(--fill-color);\n",
              "      border-top-color: var(--fill-color);\n",
              "    }\n",
              "    30% {\n",
              "      border-color: transparent;\n",
              "      border-left-color: var(--fill-color);\n",
              "      border-top-color: var(--fill-color);\n",
              "      border-right-color: var(--fill-color);\n",
              "    }\n",
              "    40% {\n",
              "      border-color: transparent;\n",
              "      border-right-color: var(--fill-color);\n",
              "      border-top-color: var(--fill-color);\n",
              "    }\n",
              "    60% {\n",
              "      border-color: transparent;\n",
              "      border-right-color: var(--fill-color);\n",
              "    }\n",
              "    80% {\n",
              "      border-color: transparent;\n",
              "      border-right-color: var(--fill-color);\n",
              "      border-bottom-color: var(--fill-color);\n",
              "    }\n",
              "    90% {\n",
              "      border-color: transparent;\n",
              "      border-bottom-color: var(--fill-color);\n",
              "    }\n",
              "  }\n",
              "</style>\n",
              "\n",
              "      <script>\n",
              "        async function quickchart(key) {\n",
              "          const quickchartButtonEl =\n",
              "            document.querySelector('#' + key + ' button');\n",
              "          quickchartButtonEl.disabled = true;  // To prevent multiple clicks.\n",
              "          quickchartButtonEl.classList.add('colab-df-spinner');\n",
              "          try {\n",
              "            const charts = await google.colab.kernel.invokeFunction(\n",
              "                'suggestCharts', [key], {});\n",
              "          } catch (error) {\n",
              "            console.error('Error during call to suggestCharts:', error);\n",
              "          }\n",
              "          quickchartButtonEl.classList.remove('colab-df-spinner');\n",
              "          quickchartButtonEl.classList.add('colab-df-quickchart-complete');\n",
              "        }\n",
              "        (() => {\n",
              "          let quickchartButtonEl =\n",
              "            document.querySelector('#df-24167c3d-bb60-433c-85ea-59d3dc6862ad button');\n",
              "          quickchartButtonEl.style.display =\n",
              "            google.colab.kernel.accessAllowed ? 'block' : 'none';\n",
              "        })();\n",
              "      </script>\n",
              "    </div>\n",
              "\n",
              "    </div>\n",
              "  </div>\n"
            ],
            "application/vnd.google.colaboratory.intrinsic+json": {
              "type": "dataframe",
              "variable_name": "df",
              "summary": "{\n  \"name\": \"df\",\n  \"rows\": 1316,\n  \"fields\": [\n    {\n      \"column\": \"Date\",\n      \"properties\": {\n        \"dtype\": \"date\",\n        \"min\": \"2020-01-02 00:00:00\",\n        \"max\": \"2025-05-12 00:00:00\",\n        \"num_unique_values\": 1316,\n        \"samples\": [\n          \"2020-10-21 00:00:00\",\n          \"2022-04-06 00:00:00\",\n          \"2021-07-01 00:00:00\"\n        ],\n        \"semantic_type\": \"\",\n        \"description\": \"\"\n      }\n    },\n    {\n      \"column\": \"Open\",\n      \"properties\": {\n        \"dtype\": \"number\",\n        \"std\": 56432,\n        \"min\": 0,\n        \"max\": 255653,\n        \"num_unique_values\": 1153,\n        \"samples\": [\n          146760,\n          14120,\n          203267\n        ],\n        \"semantic_type\": \"\",\n        \"description\": \"\"\n      }\n    },\n    {\n      \"column\": \"High\",\n      \"properties\": {\n        \"dtype\": \"number\",\n        \"std\": 58455,\n        \"min\": 0,\n        \"max\": 301957,\n        \"num_unique_values\": 1120,\n        \"samples\": [\n          8979,\n          4087,\n          95354\n        ],\n        \"semantic_type\": \"\",\n        \"description\": \"\"\n      }\n    },\n    {\n      \"column\": \"Low\",\n      \"properties\": {\n        \"dtype\": \"number\",\n        \"std\": 54460,\n        \"min\": 0,\n        \"max\": 243685,\n        \"num_unique_values\": 1145,\n        \"samples\": [\n          5884,\n          240350,\n          15111\n        ],\n        \"semantic_type\": \"\",\n        \"description\": \"\"\n      }\n    },\n    {\n      \"column\": \"Close\",\n      \"properties\": {\n        \"dtype\": \"number\",\n        \"std\": 56181,\n        \"min\": 1764,\n        \"max\": 253692,\n        \"num_unique_values\": 1049,\n        \"samples\": [\n          23155,\n          61313,\n          97513\n        ],\n        \"semantic_type\": \"\",\n        \"description\": \"\"\n      }\n    },\n    {\n      \"column\": \"Volume\",\n      \"properties\": {\n        \"dtype\": \"number\",\n        \"std\": 3720296,\n        \"min\": 0,\n        \"max\": 34703578,\n        \"num_unique_values\": 1287,\n        \"samples\": [\n          786331,\n          2223049,\n          2644191\n        ],\n        \"semantic_type\": \"\",\n        \"description\": \"\"\n      }\n    },\n    {\n      \"column\": \"Change\",\n      \"properties\": {\n        \"dtype\": \"number\",\n        \"std\": 0.04504843599805487,\n        \"min\": -0.2764505119453925,\n        \"max\": 0.29984317741754807,\n        \"num_unique_values\": 1253,\n        \"samples\": [\n          -0.03003341519384839,\n          -0.012499999999999956,\n          -0.005358682484420507\n        ],\n        \"semantic_type\": \"\",\n        \"description\": \"\"\n      }\n    }\n  ]\n}"
            }
          },
          "metadata": {},
          "execution_count": 6
        }
      ]
    },
    {
      "cell_type": "markdown",
      "id": "a6c8603c",
      "metadata": {
        "id": "a6c8603c"
      },
      "source": [
        "- 로그 수익률 계산"
      ]
    },
    {
      "cell_type": "code",
      "execution_count": 7,
      "id": "4cea0f46",
      "metadata": {
        "id": "4cea0f46"
      },
      "outputs": [],
      "source": [
        "# 로그 수익률(Log Return) 계산\n",
        "# 'Close' 열의 현재 값과 이전 값의 로그 차이를 계산하여 'LogReturn' 열에 저장합니다.\n",
        "# np.log(df['Close'])는 현재 종가의 로그 값을 계산하고,\n",
        "# np.log(df['Close'].shift(1))은 이전 종가의 로그 값을 계산합니다."
      ]
    },
    {
      "cell_type": "code",
      "source": [
        "df['LogReturn'] = np.log(df['Close']) - np.log(df['Close'].shift(1))\n",
        "\n",
        "df.head()"
      ],
      "metadata": {
        "colab": {
          "base_uri": "https://localhost:8080/",
          "height": 238
        },
        "id": "PSVRjCjev5fy",
        "outputId": "babaa846-23c5-40df-bf80-ded264a4d886"
      },
      "id": "PSVRjCjev5fy",
      "execution_count": 8,
      "outputs": [
        {
          "output_type": "execute_result",
          "data": {
            "text/plain": [
              "            Open  High   Low  Close   Volume    Change  LogReturn\n",
              "Date                                                             \n",
              "2020-01-02  2861  2911  2798   2900  2998781  0.017544        NaN\n",
              "2020-01-03  2893  2893  2823   2856  2133469 -0.015172  -0.015289\n",
              "2020-01-06  2773  2918  2747   2888  3371224  0.011204   0.011142\n",
              "2020-01-07  2874  2937  2836   2843  1998961 -0.015582  -0.015704\n",
              "2020-01-08  2824  2843  2710   2730  3467853 -0.039747  -0.040558"
            ],
            "text/html": [
              "\n",
              "  <div id=\"df-9bd052c5-6355-4274-a930-7b55fa7444d0\" class=\"colab-df-container\">\n",
              "    <div>\n",
              "<style scoped>\n",
              "    .dataframe tbody tr th:only-of-type {\n",
              "        vertical-align: middle;\n",
              "    }\n",
              "\n",
              "    .dataframe tbody tr th {\n",
              "        vertical-align: top;\n",
              "    }\n",
              "\n",
              "    .dataframe thead th {\n",
              "        text-align: right;\n",
              "    }\n",
              "</style>\n",
              "<table border=\"1\" class=\"dataframe\">\n",
              "  <thead>\n",
              "    <tr style=\"text-align: right;\">\n",
              "      <th></th>\n",
              "      <th>Open</th>\n",
              "      <th>High</th>\n",
              "      <th>Low</th>\n",
              "      <th>Close</th>\n",
              "      <th>Volume</th>\n",
              "      <th>Change</th>\n",
              "      <th>LogReturn</th>\n",
              "    </tr>\n",
              "    <tr>\n",
              "      <th>Date</th>\n",
              "      <th></th>\n",
              "      <th></th>\n",
              "      <th></th>\n",
              "      <th></th>\n",
              "      <th></th>\n",
              "      <th></th>\n",
              "      <th></th>\n",
              "    </tr>\n",
              "  </thead>\n",
              "  <tbody>\n",
              "    <tr>\n",
              "      <th>2020-01-02</th>\n",
              "      <td>2861</td>\n",
              "      <td>2911</td>\n",
              "      <td>2798</td>\n",
              "      <td>2900</td>\n",
              "      <td>2998781</td>\n",
              "      <td>0.017544</td>\n",
              "      <td>NaN</td>\n",
              "    </tr>\n",
              "    <tr>\n",
              "      <th>2020-01-03</th>\n",
              "      <td>2893</td>\n",
              "      <td>2893</td>\n",
              "      <td>2823</td>\n",
              "      <td>2856</td>\n",
              "      <td>2133469</td>\n",
              "      <td>-0.015172</td>\n",
              "      <td>-0.015289</td>\n",
              "    </tr>\n",
              "    <tr>\n",
              "      <th>2020-01-06</th>\n",
              "      <td>2773</td>\n",
              "      <td>2918</td>\n",
              "      <td>2747</td>\n",
              "      <td>2888</td>\n",
              "      <td>3371224</td>\n",
              "      <td>0.011204</td>\n",
              "      <td>0.011142</td>\n",
              "    </tr>\n",
              "    <tr>\n",
              "      <th>2020-01-07</th>\n",
              "      <td>2874</td>\n",
              "      <td>2937</td>\n",
              "      <td>2836</td>\n",
              "      <td>2843</td>\n",
              "      <td>1998961</td>\n",
              "      <td>-0.015582</td>\n",
              "      <td>-0.015704</td>\n",
              "    </tr>\n",
              "    <tr>\n",
              "      <th>2020-01-08</th>\n",
              "      <td>2824</td>\n",
              "      <td>2843</td>\n",
              "      <td>2710</td>\n",
              "      <td>2730</td>\n",
              "      <td>3467853</td>\n",
              "      <td>-0.039747</td>\n",
              "      <td>-0.040558</td>\n",
              "    </tr>\n",
              "  </tbody>\n",
              "</table>\n",
              "</div>\n",
              "    <div class=\"colab-df-buttons\">\n",
              "\n",
              "  <div class=\"colab-df-container\">\n",
              "    <button class=\"colab-df-convert\" onclick=\"convertToInteractive('df-9bd052c5-6355-4274-a930-7b55fa7444d0')\"\n",
              "            title=\"Convert this dataframe to an interactive table.\"\n",
              "            style=\"display:none;\">\n",
              "\n",
              "  <svg xmlns=\"http://www.w3.org/2000/svg\" height=\"24px\" viewBox=\"0 -960 960 960\">\n",
              "    <path d=\"M120-120v-720h720v720H120Zm60-500h600v-160H180v160Zm220 220h160v-160H400v160Zm0 220h160v-160H400v160ZM180-400h160v-160H180v160Zm440 0h160v-160H620v160ZM180-180h160v-160H180v160Zm440 0h160v-160H620v160Z\"/>\n",
              "  </svg>\n",
              "    </button>\n",
              "\n",
              "  <style>\n",
              "    .colab-df-container {\n",
              "      display:flex;\n",
              "      gap: 12px;\n",
              "    }\n",
              "\n",
              "    .colab-df-convert {\n",
              "      background-color: #E8F0FE;\n",
              "      border: none;\n",
              "      border-radius: 50%;\n",
              "      cursor: pointer;\n",
              "      display: none;\n",
              "      fill: #1967D2;\n",
              "      height: 32px;\n",
              "      padding: 0 0 0 0;\n",
              "      width: 32px;\n",
              "    }\n",
              "\n",
              "    .colab-df-convert:hover {\n",
              "      background-color: #E2EBFA;\n",
              "      box-shadow: 0px 1px 2px rgba(60, 64, 67, 0.3), 0px 1px 3px 1px rgba(60, 64, 67, 0.15);\n",
              "      fill: #174EA6;\n",
              "    }\n",
              "\n",
              "    .colab-df-buttons div {\n",
              "      margin-bottom: 4px;\n",
              "    }\n",
              "\n",
              "    [theme=dark] .colab-df-convert {\n",
              "      background-color: #3B4455;\n",
              "      fill: #D2E3FC;\n",
              "    }\n",
              "\n",
              "    [theme=dark] .colab-df-convert:hover {\n",
              "      background-color: #434B5C;\n",
              "      box-shadow: 0px 1px 3px 1px rgba(0, 0, 0, 0.15);\n",
              "      filter: drop-shadow(0px 1px 2px rgba(0, 0, 0, 0.3));\n",
              "      fill: #FFFFFF;\n",
              "    }\n",
              "  </style>\n",
              "\n",
              "    <script>\n",
              "      const buttonEl =\n",
              "        document.querySelector('#df-9bd052c5-6355-4274-a930-7b55fa7444d0 button.colab-df-convert');\n",
              "      buttonEl.style.display =\n",
              "        google.colab.kernel.accessAllowed ? 'block' : 'none';\n",
              "\n",
              "      async function convertToInteractive(key) {\n",
              "        const element = document.querySelector('#df-9bd052c5-6355-4274-a930-7b55fa7444d0');\n",
              "        const dataTable =\n",
              "          await google.colab.kernel.invokeFunction('convertToInteractive',\n",
              "                                                    [key], {});\n",
              "        if (!dataTable) return;\n",
              "\n",
              "        const docLinkHtml = 'Like what you see? Visit the ' +\n",
              "          '<a target=\"_blank\" href=https://colab.research.google.com/notebooks/data_table.ipynb>data table notebook</a>'\n",
              "          + ' to learn more about interactive tables.';\n",
              "        element.innerHTML = '';\n",
              "        dataTable['output_type'] = 'display_data';\n",
              "        await google.colab.output.renderOutput(dataTable, element);\n",
              "        const docLink = document.createElement('div');\n",
              "        docLink.innerHTML = docLinkHtml;\n",
              "        element.appendChild(docLink);\n",
              "      }\n",
              "    </script>\n",
              "  </div>\n",
              "\n",
              "\n",
              "    <div id=\"df-0a9018f0-6c44-4c74-a17c-5429fe179963\">\n",
              "      <button class=\"colab-df-quickchart\" onclick=\"quickchart('df-0a9018f0-6c44-4c74-a17c-5429fe179963')\"\n",
              "                title=\"Suggest charts\"\n",
              "                style=\"display:none;\">\n",
              "\n",
              "<svg xmlns=\"http://www.w3.org/2000/svg\" height=\"24px\"viewBox=\"0 0 24 24\"\n",
              "     width=\"24px\">\n",
              "    <g>\n",
              "        <path d=\"M19 3H5c-1.1 0-2 .9-2 2v14c0 1.1.9 2 2 2h14c1.1 0 2-.9 2-2V5c0-1.1-.9-2-2-2zM9 17H7v-7h2v7zm4 0h-2V7h2v10zm4 0h-2v-4h2v4z\"/>\n",
              "    </g>\n",
              "</svg>\n",
              "      </button>\n",
              "\n",
              "<style>\n",
              "  .colab-df-quickchart {\n",
              "      --bg-color: #E8F0FE;\n",
              "      --fill-color: #1967D2;\n",
              "      --hover-bg-color: #E2EBFA;\n",
              "      --hover-fill-color: #174EA6;\n",
              "      --disabled-fill-color: #AAA;\n",
              "      --disabled-bg-color: #DDD;\n",
              "  }\n",
              "\n",
              "  [theme=dark] .colab-df-quickchart {\n",
              "      --bg-color: #3B4455;\n",
              "      --fill-color: #D2E3FC;\n",
              "      --hover-bg-color: #434B5C;\n",
              "      --hover-fill-color: #FFFFFF;\n",
              "      --disabled-bg-color: #3B4455;\n",
              "      --disabled-fill-color: #666;\n",
              "  }\n",
              "\n",
              "  .colab-df-quickchart {\n",
              "    background-color: var(--bg-color);\n",
              "    border: none;\n",
              "    border-radius: 50%;\n",
              "    cursor: pointer;\n",
              "    display: none;\n",
              "    fill: var(--fill-color);\n",
              "    height: 32px;\n",
              "    padding: 0;\n",
              "    width: 32px;\n",
              "  }\n",
              "\n",
              "  .colab-df-quickchart:hover {\n",
              "    background-color: var(--hover-bg-color);\n",
              "    box-shadow: 0 1px 2px rgba(60, 64, 67, 0.3), 0 1px 3px 1px rgba(60, 64, 67, 0.15);\n",
              "    fill: var(--button-hover-fill-color);\n",
              "  }\n",
              "\n",
              "  .colab-df-quickchart-complete:disabled,\n",
              "  .colab-df-quickchart-complete:disabled:hover {\n",
              "    background-color: var(--disabled-bg-color);\n",
              "    fill: var(--disabled-fill-color);\n",
              "    box-shadow: none;\n",
              "  }\n",
              "\n",
              "  .colab-df-spinner {\n",
              "    border: 2px solid var(--fill-color);\n",
              "    border-color: transparent;\n",
              "    border-bottom-color: var(--fill-color);\n",
              "    animation:\n",
              "      spin 1s steps(1) infinite;\n",
              "  }\n",
              "\n",
              "  @keyframes spin {\n",
              "    0% {\n",
              "      border-color: transparent;\n",
              "      border-bottom-color: var(--fill-color);\n",
              "      border-left-color: var(--fill-color);\n",
              "    }\n",
              "    20% {\n",
              "      border-color: transparent;\n",
              "      border-left-color: var(--fill-color);\n",
              "      border-top-color: var(--fill-color);\n",
              "    }\n",
              "    30% {\n",
              "      border-color: transparent;\n",
              "      border-left-color: var(--fill-color);\n",
              "      border-top-color: var(--fill-color);\n",
              "      border-right-color: var(--fill-color);\n",
              "    }\n",
              "    40% {\n",
              "      border-color: transparent;\n",
              "      border-right-color: var(--fill-color);\n",
              "      border-top-color: var(--fill-color);\n",
              "    }\n",
              "    60% {\n",
              "      border-color: transparent;\n",
              "      border-right-color: var(--fill-color);\n",
              "    }\n",
              "    80% {\n",
              "      border-color: transparent;\n",
              "      border-right-color: var(--fill-color);\n",
              "      border-bottom-color: var(--fill-color);\n",
              "    }\n",
              "    90% {\n",
              "      border-color: transparent;\n",
              "      border-bottom-color: var(--fill-color);\n",
              "    }\n",
              "  }\n",
              "</style>\n",
              "\n",
              "      <script>\n",
              "        async function quickchart(key) {\n",
              "          const quickchartButtonEl =\n",
              "            document.querySelector('#' + key + ' button');\n",
              "          quickchartButtonEl.disabled = true;  // To prevent multiple clicks.\n",
              "          quickchartButtonEl.classList.add('colab-df-spinner');\n",
              "          try {\n",
              "            const charts = await google.colab.kernel.invokeFunction(\n",
              "                'suggestCharts', [key], {});\n",
              "          } catch (error) {\n",
              "            console.error('Error during call to suggestCharts:', error);\n",
              "          }\n",
              "          quickchartButtonEl.classList.remove('colab-df-spinner');\n",
              "          quickchartButtonEl.classList.add('colab-df-quickchart-complete');\n",
              "        }\n",
              "        (() => {\n",
              "          let quickchartButtonEl =\n",
              "            document.querySelector('#df-0a9018f0-6c44-4c74-a17c-5429fe179963 button');\n",
              "          quickchartButtonEl.style.display =\n",
              "            google.colab.kernel.accessAllowed ? 'block' : 'none';\n",
              "        })();\n",
              "      </script>\n",
              "    </div>\n",
              "\n",
              "    </div>\n",
              "  </div>\n"
            ],
            "application/vnd.google.colaboratory.intrinsic+json": {
              "type": "dataframe",
              "variable_name": "df",
              "summary": "{\n  \"name\": \"df\",\n  \"rows\": 1316,\n  \"fields\": [\n    {\n      \"column\": \"Date\",\n      \"properties\": {\n        \"dtype\": \"date\",\n        \"min\": \"2020-01-02 00:00:00\",\n        \"max\": \"2025-05-12 00:00:00\",\n        \"num_unique_values\": 1316,\n        \"samples\": [\n          \"2020-10-21 00:00:00\",\n          \"2022-04-06 00:00:00\",\n          \"2021-07-01 00:00:00\"\n        ],\n        \"semantic_type\": \"\",\n        \"description\": \"\"\n      }\n    },\n    {\n      \"column\": \"Open\",\n      \"properties\": {\n        \"dtype\": \"number\",\n        \"std\": 56432,\n        \"min\": 0,\n        \"max\": 255653,\n        \"num_unique_values\": 1153,\n        \"samples\": [\n          146760,\n          14120,\n          203267\n        ],\n        \"semantic_type\": \"\",\n        \"description\": \"\"\n      }\n    },\n    {\n      \"column\": \"High\",\n      \"properties\": {\n        \"dtype\": \"number\",\n        \"std\": 58455,\n        \"min\": 0,\n        \"max\": 301957,\n        \"num_unique_values\": 1120,\n        \"samples\": [\n          8979,\n          4087,\n          95354\n        ],\n        \"semantic_type\": \"\",\n        \"description\": \"\"\n      }\n    },\n    {\n      \"column\": \"Low\",\n      \"properties\": {\n        \"dtype\": \"number\",\n        \"std\": 54460,\n        \"min\": 0,\n        \"max\": 243685,\n        \"num_unique_values\": 1145,\n        \"samples\": [\n          5884,\n          240350,\n          15111\n        ],\n        \"semantic_type\": \"\",\n        \"description\": \"\"\n      }\n    },\n    {\n      \"column\": \"Close\",\n      \"properties\": {\n        \"dtype\": \"number\",\n        \"std\": 56181,\n        \"min\": 1764,\n        \"max\": 253692,\n        \"num_unique_values\": 1049,\n        \"samples\": [\n          23155,\n          61313,\n          97513\n        ],\n        \"semantic_type\": \"\",\n        \"description\": \"\"\n      }\n    },\n    {\n      \"column\": \"Volume\",\n      \"properties\": {\n        \"dtype\": \"number\",\n        \"std\": 3720296,\n        \"min\": 0,\n        \"max\": 34703578,\n        \"num_unique_values\": 1287,\n        \"samples\": [\n          786331,\n          2223049,\n          2644191\n        ],\n        \"semantic_type\": \"\",\n        \"description\": \"\"\n      }\n    },\n    {\n      \"column\": \"Change\",\n      \"properties\": {\n        \"dtype\": \"number\",\n        \"std\": 0.04504843599805487,\n        \"min\": -0.2764505119453925,\n        \"max\": 0.29984317741754807,\n        \"num_unique_values\": 1253,\n        \"samples\": [\n          -0.03003341519384839,\n          -0.012499999999999956,\n          -0.005358682484420507\n        ],\n        \"semantic_type\": \"\",\n        \"description\": \"\"\n      }\n    },\n    {\n      \"column\": \"LogReturn\",\n      \"properties\": {\n        \"dtype\": \"number\",\n        \"std\": 0.04436645949033788,\n        \"min\": -0.32358633434505535,\n        \"max\": 0.2622436244350439,\n        \"num_unique_values\": 1253,\n        \"samples\": [\n          0.044605141924288105,\n          -0.012578782206858818,\n          0.032833712309271235\n        ],\n        \"semantic_type\": \"\",\n        \"description\": \"\"\n      }\n    }\n  ]\n}"
            }
          },
          "metadata": {},
          "execution_count": 8
        }
      ]
    },
    {
      "cell_type": "code",
      "execution_count": 9,
      "id": "392d3475",
      "metadata": {
        "id": "392d3475",
        "colab": {
          "base_uri": "https://localhost:8080/",
          "height": 386
        },
        "outputId": "07921b2e-e6e1-4be3-8124-6f1b7387c5d4"
      },
      "outputs": [
        {
          "output_type": "display_data",
          "data": {
            "text/plain": [
              "<Figure size 1200x400 with 1 Axes>"
            ],
            "image/png": "[encoded data removed]"
          },
          "metadata": {}
        }
      ],
      "source": [
        "df['Close'].plot(figsize=(12, 4), title=f\"{ticker_name} 주가\")\n",
        "plt.show()"
      ]
    },
    {
      "cell_type": "code",
      "execution_count": 10,
      "id": "3009d59d",
      "metadata": {
        "id": "3009d59d",
        "colab": {
          "base_uri": "https://localhost:8080/",
          "height": 457
        },
        "outputId": "7a266272-05c6-4ec4-dd29-a08c59454331"
      },
      "outputs": [
        {
          "output_type": "execute_result",
          "data": {
            "text/plain": [
              "<Axes: xlabel='Date'>"
            ]
          },
          "metadata": {},
          "execution_count": 10
        },
        {
          "output_type": "stream",
          "name": "stderr",
          "text": [
            "/usr/local/lib/python3.11/dist-packages/IPython/core/events.py:89: UserWarning: Glyph 8722 (\\N{MINUS SIGN}) missing from font(s) NanumGothic.\n",
            "  func(*args, **kwargs)\n",
            "/usr/local/lib/python3.11/dist-packages/IPython/core/pylabtools.py:151: UserWarning: Glyph 8722 (\\N{MINUS SIGN}) missing from font(s) NanumGothic.\n",
            "  fig.canvas.print_figure(bytes_io, **kw)\n"
          ]
        },
        {
          "output_type": "display_data",
          "data": {
            "text/plain": [
              "<Figure size 1200x400 with 1 Axes>"
            ],
            "image/png": "[encoded data removed]"
          },
          "metadata": {}
        }
      ],
      "source": [
        "df['LogReturn'].plot(figsize=(12, 4))"
      ]
    },
    {
      "cell_type": "markdown",
      "id": "b5eb20a9",
      "metadata": {
        "id": "b5eb20a9"
      },
      "source": [
        "- 로그 수익률의 평균, 표준편차 계산  \n",
        "\n",
        "표본 표준편차의 경우 공식에서 `n – 1` (ddof=1)을 사용합니다. n을 사용하면 변동성을 일관되게 과소평가하는 편향된 추정치를 얻을 수 있기 때문입니다. 표본 표준 편차는 모집단의 실제 표준 편차보다 낮은 경향이 있습니다.  \n",
        "표본 n을 n – 1로 줄이면 표준 편차가 인위적으로 커지므로 보수적인 변동성 추정치를 얻을 수 있습니다."
      ]
    },
    {
      "cell_type": "code",
      "execution_count": 11,
      "id": "ab5bb430",
      "metadata": {
        "id": "ab5bb430"
      },
      "outputs": [],
      "source": [
        "# 계산된 평균과 표준 편차를 출력합니다.\n",
        "# mu는 평균 수익률, sigma는 수익률의 변동성을 나타냅니다."
      ]
    },
    {
      "cell_type": "code",
      "source": [
        "mu = df['LogReturn'].mean()\n",
        "sigma = df['LogReturn'].std(ddof=1)\n",
        "\n",
        "print(f\"{ticker_name}의 일일 수익률 평균은 {mu:.5f} 이고, 표준 편차는 {sigma: .5f}이다\")"
      ],
      "metadata": {
        "colab": {
          "base_uri": "https://localhost:8080/"
        },
        "id": "ajmdGm3xwSMW",
        "outputId": "9c1719a6-fd52-4a8a-f27f-7cea25c0e1fd"
      },
      "id": "ajmdGm3xwSMW",
      "execution_count": 12,
      "outputs": [
        {
          "output_type": "stream",
          "name": "stdout",
          "text": [
            "Echo Pro의 일일 수익률 평균은 0.00213 이고, 표준 편차는  0.04437이다\n"
          ]
        }
      ]
    },
    {
      "cell_type": "markdown",
      "id": "9c775a27",
      "metadata": {
        "id": "9c775a27"
      },
      "source": [
        "### 수익률 분포 시각화"
      ]
    },
    {
      "cell_type": "code",
      "execution_count": 13,
      "id": "c346fe7f",
      "metadata": {
        "id": "c346fe7f",
        "colab": {
          "base_uri": "https://localhost:8080/",
          "height": 481
        },
        "outputId": "cc06b36e-52ee-4c04-efb7-b27ee4fc2e66"
      },
      "outputs": [
        {
          "output_type": "execute_result",
          "data": {
            "text/plain": [
              "Text(0.5, 1.0, 'Echo Pro - 일일수익률 분포')"
            ]
          },
          "metadata": {},
          "execution_count": 13
        },
        {
          "output_type": "stream",
          "name": "stderr",
          "text": [
            "/usr/local/lib/python3.11/dist-packages/IPython/core/events.py:89: UserWarning: Glyph 8722 (\\N{MINUS SIGN}) missing from font(s) NanumGothic.\n",
            "  func(*args, **kwargs)\n",
            "/usr/local/lib/python3.11/dist-packages/IPython/core/pylabtools.py:151: UserWarning: Glyph 8722 (\\N{MINUS SIGN}) missing from font(s) NanumGothic.\n",
            "  fig.canvas.print_figure(bytes_io, **kw)\n"
          ]
        },
        {
          "output_type": "display_data",
          "data": {
            "text/plain": [
              "<Figure size 600x400 with 1 Axes>"
            ],
            "image/png": "[encoded data removed]"
          },
          "metadata": {}
        }
      ],
      "source": [
        "# 로그 수익률의 히스토그램을 생성합니다.\n",
        "# 'LogReturn' 열의 데이터를 히스토그램으로 플로팅하며, 50개의 구간(bins)으로 나눕니다.\n",
        "df['LogReturn'].plot(kind='hist', bins=50, figsize=(6, 4))\n",
        "\n",
        "# 수직선으로 평균을 표시합니다.\n",
        "plt.axvline(mu, color='w', linestyle='--', linewidth=2)\n",
        "\n",
        "# 수직선으로 표준 편차를 표시합니다.\n",
        "plt.axvline(sigma, color='g', linestyle='--', linewidth=2)\n",
        "plt.axvline(-sigma, color='g', linestyle='--', linewidth=2)\n",
        "\n",
        "# 수직선으로 표준 편차를 표시합니다.\n",
        "plt.axvline(sigma*2, color='g', linestyle='--', linewidth=2)\n",
        "plt.axvline(-sigma*2, color='g', linestyle='--', linewidth=2)\n",
        "\n",
        "plt.title(f\"{ticker_name} - 일일수익률 분포\")"
      ]
    },
    {
      "cell_type": "markdown",
      "id": "c097d771",
      "metadata": {
        "id": "c097d771"
      },
      "source": [
        "### 확률밀도함수(probability density function) 시각화\n",
        "- 확률밀도 함수의 95% 신뢰구간 시각화"
      ]
    },
    {
      "cell_type": "code",
      "execution_count": 14,
      "id": "6afc309d",
      "metadata": {
        "id": "6afc309d",
        "colab": {
          "base_uri": "https://localhost:8080/",
          "height": 206
        },
        "outputId": "9614f679-9bf9-44e3-e983-e0f82452264b"
      },
      "outputs": [
        {
          "output_type": "execute_result",
          "data": {
            "text/plain": [
              "          x           pdf\n",
              "0 -0.333586  3.315140e-12\n",
              "1 -0.332586  3.930631e-12\n",
              "2 -0.331586  4.658027e-12\n",
              "3 -0.330586  5.517230e-12\n",
              "4 -0.329586  6.531600e-12"
            ],
            "text/html": [
              "\n",
              "  <div id=\"df-33fd88ab-b5fb-4ca2-a0fa-3a4b6c99c867\" class=\"colab-df-container\">\n",
              "    <div>\n",
              "<style scoped>\n",
              "    .dataframe tbody tr th:only-of-type {\n",
              "        vertical-align: middle;\n",
              "    }\n",
              "\n",
              "    .dataframe tbody tr th {\n",
              "        vertical-align: top;\n",
              "    }\n",
              "\n",
              "    .dataframe thead th {\n",
              "        text-align: right;\n",
              "    }\n",
              "</style>\n",
              "<table border=\"1\" class=\"dataframe\">\n",
              "  <thead>\n",
              "    <tr style=\"text-align: right;\">\n",
              "      <th></th>\n",
              "      <th>x</th>\n",
              "      <th>pdf</th>\n",
              "    </tr>\n",
              "  </thead>\n",
              "  <tbody>\n",
              "    <tr>\n",
              "      <th>0</th>\n",
              "      <td>-0.333586</td>\n",
              "      <td>3.315140e-12</td>\n",
              "    </tr>\n",
              "    <tr>\n",
              "      <th>1</th>\n",
              "      <td>-0.332586</td>\n",
              "      <td>3.930631e-12</td>\n",
              "    </tr>\n",
              "    <tr>\n",
              "      <th>2</th>\n",
              "      <td>-0.331586</td>\n",
              "      <td>4.658027e-12</td>\n",
              "    </tr>\n",
              "    <tr>\n",
              "      <th>3</th>\n",
              "      <td>-0.330586</td>\n",
              "      <td>5.517230e-12</td>\n",
              "    </tr>\n",
              "    <tr>\n",
              "      <th>4</th>\n",
              "      <td>-0.329586</td>\n",
              "      <td>6.531600e-12</td>\n",
              "    </tr>\n",
              "  </tbody>\n",
              "</table>\n",
              "</div>\n",
              "    <div class=\"colab-df-buttons\">\n",
              "\n",
              "  <div class=\"colab-df-container\">\n",
              "    <button class=\"colab-df-convert\" onclick=\"convertToInteractive('df-33fd88ab-b5fb-4ca2-a0fa-3a4b6c99c867')\"\n",
              "            title=\"Convert this dataframe to an interactive table.\"\n",
              "            style=\"display:none;\">\n",
              "\n",
              "  <svg xmlns=\"http://www.w3.org/2000/svg\" height=\"24px\" viewBox=\"0 -960 960 960\">\n",
              "    <path d=\"M120-120v-720h720v720H120Zm60-500h600v-160H180v160Zm220 220h160v-160H400v160Zm0 220h160v-160H400v160ZM180-400h160v-160H180v160Zm440 0h160v-160H620v160ZM180-180h160v-160H180v160Zm440 0h160v-160H620v160Z\"/>\n",
              "  </svg>\n",
              "    </button>\n",
              "\n",
              "  <style>\n",
              "    .colab-df-container {\n",
              "      display:flex;\n",
              "      gap: 12px;\n",
              "    }\n",
              "\n",
              "    .colab-df-convert {\n",
              "      background-color: #E8F0FE;\n",
              "      border: none;\n",
              "      border-radius: 50%;\n",
              "      cursor: pointer;\n",
              "      display: none;\n",
              "      fill: #1967D2;\n",
              "      height: 32px;\n",
              "      padding: 0 0 0 0;\n",
              "      width: 32px;\n",
              "    }\n",
              "\n",
              "    .colab-df-convert:hover {\n",
              "      background-color: #E2EBFA;\n",
              "      box-shadow: 0px 1px 2px rgba(60, 64, 67, 0.3), 0px 1px 3px 1px rgba(60, 64, 67, 0.15);\n",
              "      fill: #174EA6;\n",
              "    }\n",
              "\n",
              "    .colab-df-buttons div {\n",
              "      margin-bottom: 4px;\n",
              "    }\n",
              "\n",
              "    [theme=dark] .colab-df-convert {\n",
              "      background-color: #3B4455;\n",
              "      fill: #D2E3FC;\n",
              "    }\n",
              "\n",
              "    [theme=dark] .colab-df-convert:hover {\n",
              "      background-color: #434B5C;\n",
              "      box-shadow: 0px 1px 3px 1px rgba(0, 0, 0, 0.15);\n",
              "      filter: drop-shadow(0px 1px 2px rgba(0, 0, 0, 0.3));\n",
              "      fill: #FFFFFF;\n",
              "    }\n",
              "  </style>\n",
              "\n",
              "    <script>\n",
              "      const buttonEl =\n",
              "        document.querySelector('#df-33fd88ab-b5fb-4ca2-a0fa-3a4b6c99c867 button.colab-df-convert');\n",
              "      buttonEl.style.display =\n",
              "        google.colab.kernel.accessAllowed ? 'block' : 'none';\n",
              "\n",
              "      async function convertToInteractive(key) {\n",
              "        const element = document.querySelector('#df-33fd88ab-b5fb-4ca2-a0fa-3a4b6c99c867');\n",
              "        const dataTable =\n",
              "          await google.colab.kernel.invokeFunction('convertToInteractive',\n",
              "                                                    [key], {});\n",
              "        if (!dataTable) return;\n",
              "\n",
              "        const docLinkHtml = 'Like what you see? Visit the ' +\n",
              "          '<a target=\"_blank\" href=https://colab.research.google.com/notebooks/data_table.ipynb>data table notebook</a>'\n",
              "          + ' to learn more about interactive tables.';\n",
              "        element.innerHTML = '';\n",
              "        dataTable['output_type'] = 'display_data';\n",
              "        await google.colab.output.renderOutput(dataTable, element);\n",
              "        const docLink = document.createElement('div');\n",
              "        docLink.innerHTML = docLinkHtml;\n",
              "        element.appendChild(docLink);\n",
              "      }\n",
              "    </script>\n",
              "  </div>\n",
              "\n",
              "\n",
              "    <div id=\"df-c2320343-cfd2-4d9b-b1bd-4e9f9b6e9e8d\">\n",
              "      <button class=\"colab-df-quickchart\" onclick=\"quickchart('df-c2320343-cfd2-4d9b-b1bd-4e9f9b6e9e8d')\"\n",
              "                title=\"Suggest charts\"\n",
              "                style=\"display:none;\">\n",
              "\n",
              "<svg xmlns=\"http://www.w3.org/2000/svg\" height=\"24px\"viewBox=\"0 0 24 24\"\n",
              "     width=\"24px\">\n",
              "    <g>\n",
              "        <path d=\"M19 3H5c-1.1 0-2 .9-2 2v14c0 1.1.9 2 2 2h14c1.1 0 2-.9 2-2V5c0-1.1-.9-2-2-2zM9 17H7v-7h2v7zm4 0h-2V7h2v10zm4 0h-2v-4h2v4z\"/>\n",
              "    </g>\n",
              "</svg>\n",
              "      </button>\n",
              "\n",
              "<style>\n",
              "  .colab-df-quickchart {\n",
              "      --bg-color: #E8F0FE;\n",
              "      --fill-color: #1967D2;\n",
              "      --hover-bg-color: #E2EBFA;\n",
              "      --hover-fill-color: #174EA6;\n",
              "      --disabled-fill-color: #AAA;\n",
              "      --disabled-bg-color: #DDD;\n",
              "  }\n",
              "\n",
              "  [theme=dark] .colab-df-quickchart {\n",
              "      --bg-color: #3B4455;\n",
              "      --fill-color: #D2E3FC;\n",
              "      --hover-bg-color: #434B5C;\n",
              "      --hover-fill-color: #FFFFFF;\n",
              "      --disabled-bg-color: #3B4455;\n",
              "      --disabled-fill-color: #666;\n",
              "  }\n",
              "\n",
              "  .colab-df-quickchart {\n",
              "    background-color: var(--bg-color);\n",
              "    border: none;\n",
              "    border-radius: 50%;\n",
              "    cursor: pointer;\n",
              "    display: none;\n",
              "    fill: var(--fill-color);\n",
              "    height: 32px;\n",
              "    padding: 0;\n",
              "    width: 32px;\n",
              "  }\n",
              "\n",
              "  .colab-df-quickchart:hover {\n",
              "    background-color: var(--hover-bg-color);\n",
              "    box-shadow: 0 1px 2px rgba(60, 64, 67, 0.3), 0 1px 3px 1px rgba(60, 64, 67, 0.15);\n",
              "    fill: var(--button-hover-fill-color);\n",
              "  }\n",
              "\n",
              "  .colab-df-quickchart-complete:disabled,\n",
              "  .colab-df-quickchart-complete:disabled:hover {\n",
              "    background-color: var(--disabled-bg-color);\n",
              "    fill: var(--disabled-fill-color);\n",
              "    box-shadow: none;\n",
              "  }\n",
              "\n",
              "  .colab-df-spinner {\n",
              "    border: 2px solid var(--fill-color);\n",
              "    border-color: transparent;\n",
              "    border-bottom-color: var(--fill-color);\n",
              "    animation:\n",
              "      spin 1s steps(1) infinite;\n",
              "  }\n",
              "\n",
              "  @keyframes spin {\n",
              "    0% {\n",
              "      border-color: transparent;\n",
              "      border-bottom-color: var(--fill-color);\n",
              "      border-left-color: var(--fill-color);\n",
              "    }\n",
              "    20% {\n",
              "      border-color: transparent;\n",
              "      border-left-color: var(--fill-color);\n",
              "      border-top-color: var(--fill-color);\n",
              "    }\n",
              "    30% {\n",
              "      border-color: transparent;\n",
              "      border-left-color: var(--fill-color);\n",
              "      border-top-color: var(--fill-color);\n",
              "      border-right-color: var(--fill-color);\n",
              "    }\n",
              "    40% {\n",
              "      border-color: transparent;\n",
              "      border-right-color: var(--fill-color);\n",
              "      border-top-color: var(--fill-color);\n",
              "    }\n",
              "    60% {\n",
              "      border-color: transparent;\n",
              "      border-right-color: var(--fill-color);\n",
              "    }\n",
              "    80% {\n",
              "      border-color: transparent;\n",
              "      border-right-color: var(--fill-color);\n",
              "      border-bottom-color: var(--fill-color);\n",
              "    }\n",
              "    90% {\n",
              "      border-color: transparent;\n",
              "      border-bottom-color: var(--fill-color);\n",
              "    }\n",
              "  }\n",
              "</style>\n",
              "\n",
              "      <script>\n",
              "        async function quickchart(key) {\n",
              "          const quickchartButtonEl =\n",
              "            document.querySelector('#' + key + ' button');\n",
              "          quickchartButtonEl.disabled = true;  // To prevent multiple clicks.\n",
              "          quickchartButtonEl.classList.add('colab-df-spinner');\n",
              "          try {\n",
              "            const charts = await google.colab.kernel.invokeFunction(\n",
              "                'suggestCharts', [key], {});\n",
              "          } catch (error) {\n",
              "            console.error('Error during call to suggestCharts:', error);\n",
              "          }\n",
              "          quickchartButtonEl.classList.remove('colab-df-spinner');\n",
              "          quickchartButtonEl.classList.add('colab-df-quickchart-complete');\n",
              "        }\n",
              "        (() => {\n",
              "          let quickchartButtonEl =\n",
              "            document.querySelector('#df-c2320343-cfd2-4d9b-b1bd-4e9f9b6e9e8d button');\n",
              "          quickchartButtonEl.style.display =\n",
              "            google.colab.kernel.accessAllowed ? 'block' : 'none';\n",
              "        })();\n",
              "      </script>\n",
              "    </div>\n",
              "\n",
              "    </div>\n",
              "  </div>\n"
            ],
            "application/vnd.google.colaboratory.intrinsic+json": {
              "type": "dataframe",
              "variable_name": "den",
              "summary": "{\n  \"name\": \"den\",\n  \"rows\": 606,\n  \"fields\": [\n    {\n      \"column\": \"x\",\n      \"properties\": {\n        \"dtype\": \"number\",\n        \"std\": 0.17508140963563223,\n        \"min\": -0.33358633434505536,\n        \"max\": 0.2714136656549452,\n        \"num_unique_values\": 606,\n        \"samples\": [\n          0.23841366565494515,\n          -0.0445863343450551,\n          -0.2575863343450553\n        ],\n        \"semantic_type\": \"\",\n        \"description\": \"\"\n      }\n    },\n    {\n      \"column\": \"pdf\",\n      \"properties\": {\n        \"dtype\": \"number\",\n        \"std\": 2.7896279102266868,\n        \"min\": 3.315139704615148e-12,\n        \"max\": 8.99179467777988,\n        \"num_unique_values\": 606,\n        \"samples\": [\n          6.2344551204028514e-06,\n          5.165378439107912,\n          3.2559787314846763e-07\n        ],\n        \"semantic_type\": \"\",\n        \"description\": \"\"\n      }\n    }\n  ]\n}"
            }
          },
          "metadata": {},
          "execution_count": 14
        }
      ],
      "source": [
        "# 정규 분포의 확률 밀도 함수를 계산하기 위한 데이터프레임을 생성합니다.\n",
        "den = pd.DataFrame()\n",
        "\\\n",
        "# x의 범위를 지정합니다.\n",
        "# 로그 수익률의 최소값과 최대값을 기준으로 0.001 간격으로 x 값을 생성합니다.\n",
        "den['x'] = np.arange(df['LogReturn'].min() - 0.01, df['LogReturn'].max() + 0.01, 0.001)\n",
        "\n",
        "# 정규 분포의 확률 밀도 함수를 이용해 y 값을 계산합니다.\n",
        "# norm.pdf() 함수를 사용하여 각 x 값에 대한 확률 밀도 함수를 계산하고, 결과를 'pdf' 열에 저장합니다.\n",
        "den['pdf'] = norm.pdf(den['x'], mu, sigma)\n",
        "\n",
        "# 생성된 데이터프레임의 처음 5줄을 출력하여 결과를 확인합니다.\n",
        "den.head()"
      ]
    },
    {
      "cell_type": "markdown",
      "id": "a475a703",
      "metadata": {
        "id": "a475a703"
      },
      "source": [
        "- 정규분포에 따른 확률 밀도 함수"
      ]
    },
    {
      "cell_type": "code",
      "execution_count": 15,
      "id": "1663a2bc",
      "metadata": {
        "id": "1663a2bc",
        "colab": {
          "base_uri": "https://localhost:8080/",
          "height": 487
        },
        "outputId": "fe75a9da-e727-4c08-a527-d872b93e05d2"
      },
      "outputs": [
        {
          "output_type": "stream",
          "name": "stderr",
          "text": [
            "/usr/local/lib/python3.11/dist-packages/IPython/core/pylabtools.py:151: UserWarning: Glyph 8722 (\\N{MINUS SIGN}) missing from font(s) NanumGothic.\n",
            "  fig.canvas.print_figure(bytes_io, **kw)\n"
          ]
        },
        {
          "output_type": "display_data",
          "data": {
            "text/plain": [
              "<Figure size 640x480 with 1 Axes>"
            ],
            "image/png": "[encoded data removed]"
          },
          "metadata": {}
        }
      ],
      "source": [
        "# 정규 분포의 확률 밀도 함수(PDF)를 시각화합니다.\n",
        "# denApp 데이터프레임의 'x' 값에 대해 'pdf' 값을 플로팅합니다.\n",
        "plt.plot(den['x'], den['pdf'], color='r')\n",
        "\n",
        "plt.grid()\n",
        "plt.title(\"정규 분포에서의 확률 밀도 함수\")\n",
        "plt.show()"
      ]
    },
    {
      "cell_type": "markdown",
      "id": "1762c3da",
      "metadata": {
        "id": "1762c3da"
      },
      "source": [
        "### 어떤 주식이 하루에 x% 이상 하락할 확률 계산"
      ]
    },
    {
      "cell_type": "markdown",
      "id": "2ddbf23d",
      "metadata": {
        "id": "2ddbf23d"
      },
      "source": [
        "- 누적 분포 함수(Cumulative distribution function, cdf)는 주어진 특정 값보다 작거나 같은 확률을 나타내는 함수이다.   \n",
        "\n",
        "\n",
        "- `norm.cdf` 함수는 누적 분포 함수(cumulative distribution function)를 나타내며, 특정 값 이하의 확률을 반환.  \n",
        "    - 사용 방법 - norm.cdf(x, mu, sigma) --> Probability\n",
        "    - x : 누적 확률을 계산할 값. 이 값은 정규 분포에서 어떤 값보다 작거나 같은 확률을 알고 싶을 때 지정."
      ]
    },
    {
      "cell_type": "markdown",
      "id": "f1d002e4",
      "metadata": {
        "id": "f1d002e4"
      },
      "source": [
        "예) 하루 5% 이상 하락할 확률 $\\rightarrow$  -0.05 이하의 값이 나올 확률"
      ]
    },
    {
      "cell_type": "code",
      "execution_count": 16,
      "id": "f75ae510",
      "metadata": {
        "id": "f75ae510",
        "colab": {
          "base_uri": "https://localhost:8080/"
        },
        "outputId": "e11b8ba5-1149-4b99-961b-8a92042de724"
      },
      "outputs": [
        {
          "output_type": "stream",
          "name": "stdout",
          "text": [
            "평균이 0.002이고 표준편차가 0.044일 때 -0.05 보다 작거나 같을 확률은 12.00 % 이다.\n"
          ]
        }
      ],
      "source": [
        "#예) 평균이 mu이고 표준편차가 sigma인 정규분포에서 -0.05 이하의 값이 나올 확률\n",
        "prob = norm.cdf(-0.05, mu, sigma)\n",
        "print(f'평균이 {mu:.3f}이고 표준편차가 {sigma:.3f}일 때 ' +\n",
        "          f'-0.05 보다 작거나 같을 확률은 {prob * 100:.2f} % 이다.')"
      ]
    },
    {
      "cell_type": "markdown",
      "id": "b9f242f7",
      "metadata": {
        "id": "b9f242f7"
      },
      "source": [
        "- 하루에 10% 이상 하락할 확률 $\\rightarrow$  -0.1 이하의 값이 나올 확률"
      ]
    },
    {
      "cell_type": "code",
      "execution_count": 17,
      "id": "0a9b4f93",
      "metadata": {
        "id": "0a9b4f93",
        "colab": {
          "base_uri": "https://localhost:8080/"
        },
        "outputId": "e1a3b561-19c8-4d80-a612-79ddfecfa514"
      },
      "outputs": [
        {
          "output_type": "stream",
          "name": "stdout",
          "text": [
            "평균이 0.002이고 표준편차가 0.044일 때 -0.05 보다 작거나 같을 확률은 1.07 % 이다.\n"
          ]
        }
      ],
      "source": [
        "prob = norm.cdf(-0.1, mu, sigma)\n",
        "print(f'평균이 {mu:.3f}이고 표준편차가 {sigma:.3f}일 때 ' +\n",
        "          f'-0.05 보다 작거나 같을 확률은 {prob * 100:.2f} % 이다.')"
      ]
    },
    {
      "cell_type": "markdown",
      "id": "21825504",
      "metadata": {
        "id": "21825504"
      },
      "source": [
        "- 하루 1% 이상 하락할 확률"
      ]
    },
    {
      "cell_type": "code",
      "execution_count": 18,
      "id": "0bfce20b",
      "metadata": {
        "id": "0bfce20b",
        "colab": {
          "base_uri": "https://localhost:8080/"
        },
        "outputId": "4bed08f8-35d4-4258-b194-f72024689bfe"
      },
      "outputs": [
        {
          "output_type": "stream",
          "name": "stdout",
          "text": [
            "평균이 0.002이고 표준편차가 0.044일 때 -0.05 보다 작거나 같을 확률은 39.23 % 이다.\n"
          ]
        }
      ],
      "source": [
        "prob = norm.cdf(-0.01, mu, sigma)\n",
        "print(f'평균이 {mu:.3f}이고 표준편차가 {sigma:.3f}일 때 ' +\n",
        "          f'-0.05 보다 작거나 같을 확률은 {prob * 100:.2f} % 이다.')"
      ]
    },
    {
      "cell_type": "markdown",
      "id": "450e0a52",
      "metadata": {
        "id": "450e0a52"
      },
      "source": [
        "위에서 계산한 확률을 시각화"
      ]
    },
    {
      "cell_type": "code",
      "execution_count": 30,
      "id": "9d7a7410",
      "metadata": {
        "id": "9d7a7410",
        "colab": {
          "base_uri": "https://localhost:8080/",
          "height": 447
        },
        "outputId": "8f82ea34-3ebd-4c64-8d66-0b1b2eca2850"
      },
      "outputs": [
        {
          "output_type": "execute_result",
          "data": {
            "text/plain": [
              "<matplotlib.legend.Legend at 0x7b2479177810>"
            ]
          },
          "metadata": {},
          "execution_count": 30
        },
        {
          "output_type": "display_data",
          "data": {
            "text/plain": [
              "<Figure size 640x480 with 1 Axes>"
            ],
            "image/png": "[encoded data removed]"
          },
          "metadata": {}
        }
      ],
      "source": [
        "# 평균이 mu이고 표준편차가 sigma인 정규분포 객체를 생성합니다.\n",
        "iq = norm(mu, sigma)\n",
        "\n",
        "# mu 주위에 4*sigma 범위의 값을 가진 배열을 생성합니다.\n",
        "x = np.arange(mu - 4 *sigma, mu + 4 *sigma, 0.001)\n",
        "\n",
        "# 확률 밀도 함수를 그립니다.\n",
        "plt.plot(x, iq.pdf(x), linewidth = 3)\n",
        "\n",
        "# x 축에서 -0.01, -0.05, -0.1 위치에 수직선을 그립니다.\n",
        "plt.axvline(-0.01, color='blue', linestyle='--')\n",
        "plt.axvline(-0.05, color='green', linestyle='--')\n",
        "plt.axvline(-0.1, color='red', linestyle='--')\n",
        "\n",
        "# 각각의 색상과 투명도를 다르게 설정하여 영역을 채웁니다.\n",
        "# x 축에서 -0.1 이하의 값을 가진 배열을 생성합니다.\n",
        "xrange1 = np.arange(x.min(), -0.1, 0.0001)\n",
        "plt.fill_between(xrange1, y1=norm.pdf(xrange1, mu, sigma), y2=0, color='red', alpha=0.3, label='10% 하락 확률')\n",
        "\n",
        "# x 축에서 -0.05 이하의 값을 가진 배열을 생성합니다.\n",
        "xrange1 = np.arange(x.min(), -0.05, 0.0001)\n",
        "plt.fill_between(xrange1, y1=norm.pdf(xrange1, mu, sigma), y2=0, color='green', alpha=0.3, label='5% 하락 확률')\n",
        "\n",
        "# x 축에서 -0.01 이하의 값을 가진 배열을 생성합니다.\n",
        "xrange1 = np.arange(x.min(), -0.01, 0.0001)\n",
        "plt.fill_between(xrange1, y1=norm.pdf(xrange1, mu, sigma), y2=0, color='blue', alpha=0.3, label='1% 하락 확률')\n",
        "\n",
        "# 그래프 제목과 범례 추가\n",
        "plt.legend()\n",
        "# 그래프 출력"
      ]
    },
    {
      "cell_type": "markdown",
      "id": "4f654eb0",
      "metadata": {
        "id": "4f654eb0"
      },
      "source": [
        "### 특정 주식이 일년(220 거래일)에 xx% 이상 하락할 확률 계산\n",
        "\n",
        "- `mu`가 daily return의 평균이므로 220 거래일의 평균 return 은 $220 \\times mu $\n",
        "- `sigma`가 daily return의 표준편차이므로 220 거래일의 표준편차는 $\\sqrt{220} \\times \\sigma$"
      ]
    },
    {
      "cell_type": "markdown",
      "id": "9fb3948b",
      "metadata": {
        "id": "9fb3948b"
      },
      "source": [
        "- 1년에 xx% 이상 하락할 확률"
      ]
    },
    {
      "cell_type": "code",
      "execution_count": 32,
      "id": "77acc1dc",
      "metadata": {
        "id": "77acc1dc",
        "colab": {
          "base_uri": "https://localhost:8080/"
        },
        "outputId": "39bfa232-294d-482a-b810-042c4ce7e6a8"
      },
      "outputs": [
        {
          "output_type": "stream",
          "name": "stdout",
          "text": [
            "1년에 10% 이상 하락할 확률 19.38% \n",
            "1년에 20% 이상 하락할 확률 15.49% \n",
            "1년에 40% 이상 하락할 확률 9.35%\n"
          ]
        }
      ],
      "source": [
        "mu220 = 220 * mu\n",
        "sigma220 = np.sqrt(220) * sigma\n",
        "\n",
        "#평균이 mu220이고 표준편차가 sigma220인 정규분포에서 -0.1 이하의 값이 나올 확률\n",
        "p = norm.cdf(-0.1, mu220, sigma220)*100\n",
        "print('1년에 10% 이상 하락할 확률 {:.2f}% '.format(p))\n",
        "\n",
        "#평균이 mu220이고 표준편차가 sigma220인 정규분포에서 -0.2 이하의 값이 나올 확률\n",
        "p = norm.cdf(-0.2, mu220, sigma220)*100\n",
        "print('1년에 20% 이상 하락할 확률 {:.2f}% '.format(p))\n",
        "\n",
        "#평균이 mu220이고 표준편차가 sigma220인 정규분포에서 -0.3 이하의 값이 나올 확률\n",
        "p = norm.cdf(-0.4, mu220, sigma220)*100\n",
        "print('1년에 40% 이상 하락할 확률 {:.2f}%'.format(p))"
      ]
    },
    {
      "cell_type": "code",
      "source": [
        "df['Close'].max(), df['Close'][-1]"
      ],
      "metadata": {
        "colab": {
          "base_uri": "https://localhost:8080/"
        },
        "id": "y7sc5hs21RQ8",
        "outputId": "87efe2e9-7907-491e-8927-433c2e958c02"
      },
      "id": "y7sc5hs21RQ8",
      "execution_count": 34,
      "outputs": [
        {
          "output_type": "stream",
          "name": "stderr",
          "text": [
            "<ipython-input-34-60bbb925b50d>:1: FutureWarning: Series.__getitem__ treating keys as positions is deprecated. In a future version, integer keys will always be treated as labels (consistent with DataFrame behavior). To access a value by position, use `ser.iloc[pos]`\n",
            "  df['Close'].max(), df['Close'][-1]\n"
          ]
        },
        {
          "output_type": "execute_result",
          "data": {
            "text/plain": [
              "(253692, np.int64(47700))"
            ]
          },
          "metadata": {},
          "execution_count": 34
        }
      ]
    },
    {
      "cell_type": "markdown",
      "id": "73479640",
      "metadata": {
        "id": "73479640"
      },
      "source": [
        "- 어떤 주식이 일년(220 거래일)에 xx% 이상 하락할 확률 확률 시각화"
      ]
    },
    {
      "cell_type": "code",
      "execution_count": 35,
      "id": "4f79ad97",
      "metadata": {
        "id": "4f79ad97",
        "colab": {
          "base_uri": "https://localhost:8080/",
          "height": 487
        },
        "outputId": "c170e52c-0d99-4f44-b5ba-fb9264611f4a"
      },
      "outputs": [
        {
          "output_type": "stream",
          "name": "stderr",
          "text": [
            "/usr/local/lib/python3.11/dist-packages/IPython/core/pylabtools.py:151: UserWarning: Glyph 8722 (\\N{MINUS SIGN}) missing from font(s) NanumGothic.\n",
            "  fig.canvas.print_figure(bytes_io, **kw)\n"
          ]
        },
        {
          "output_type": "display_data",
          "data": {
            "text/plain": [
              "<Figure size 640x480 with 1 Axes>"
            ],
            "image/png": "[encoded data removed]"
          },
          "metadata": {}
        }
      ],
      "source": [
        "# 평균이 mu220이고 표준편차가 sigma220인 정규분포 객체를 생성합니다.\n",
        "iq = norm(mu220, sigma220)\n",
        "\n",
        "# mu220 주위에 4*sigma220 범위의 값을 가진 배열을 생성합니다.\n",
        "x = np.arange(mu220 - 4*sigma220, mu220 + 4*sigma220, 0.00001)\n",
        "\n",
        "# 확률 밀도 함수를 그립니다.\n",
        "plt.plot(x, iq.pdf(x), linewidth=3)\n",
        "\n",
        "# x 축에서 -0.1, -0.2, -0.4 위치에 수직선을 그립니다.\n",
        "plt.axvline(-0.1, ls='--')\n",
        "plt.axvline(-0.2, ls='--')\n",
        "plt.axvline(-0.4, ls='--')\n",
        "\n",
        "# 각각의 색상과 투명도를 다르게 설정하여 영역을 채웁니다.\n",
        "\n",
        "# x 축에서 -0.1 이하의 값을 가진 배열을 생성합니다.\n",
        "xrange1 = np.arange(x.min(), -0.1, 0.0001)\n",
        "plt.fill_between(xrange1, y1=norm.pdf(xrange1, mu220, sigma220), y2=0, color='red', alpha=0.3, label='10% 하락 확률')\n",
        "\n",
        "# x 축에서 -0.05 이하의 값을 가진 배열을 생성합니다.\n",
        "xrange2 = np.arange(x.min(), -0.2, 0.0001)\n",
        "plt.fill_between(xrange2, y1=norm.pdf(xrange2, mu220, sigma220), y2=0, color='green', alpha=0.3, label='20% 하락 확률')\n",
        "\n",
        "# x 축에서 -0.01 이하의 값을 가진 배열을 생성합니다.\n",
        "xrange3 = np.arange(x.min(), -0.4, 0.0001)\n",
        "plt.fill_between(xrange3, y1=norm.pdf(xrange3, mu220, sigma220), y2=0, color='blue', alpha=0.3, label='40% 하락 확률')\n",
        "\n",
        "# 그래프 제목과 범례 추가\n",
        "plt.title(f\"{ticker_name}가 하루 10%, 20%, 40% 하락할 확률\")\n",
        "plt.legend()\n",
        "\n",
        "# 그래프 출력\n",
        "plt.show()"
      ]
    },
    {
      "cell_type": "markdown",
      "id": "68f282e4",
      "metadata": {
        "id": "68f282e4"
      },
      "source": [
        "## Value at risk (VaR, 위험 가치) 계산\n",
        "- 발생 가능 최대 손실 : 투자 손실의 위험 표시\n",
        "\n",
        "- 일일 수익률의 5% 분위수(quantile)를 95% VaR 또는 95% 수준의 VaR이라고 합니다.   \n",
        "$\\rightarrow$  '95% 확률로 우리의 일일 수익률 손실이 이 VaR 값 이하일 것'이라는 의미. 동시에 이 값을 초과하여 손실이 발생할 확률이 5% 라는 의미. 다시 말해, \"5%의 확률로 발생할 수 있는 최대 손실\"을 의미."
      ]
    },
    {
      "cell_type": "markdown",
      "id": "541e1f59",
      "metadata": {
        "id": "541e1f59"
      },
      "source": [
        "**VaR = norm.ppf(significance_level, mu, sigma)**\n",
        "```\n",
        "norm.cdf(x, mu, sigma)는 주어진 값 x 이하의 확률을 반환합니다.\n",
        "입력: x 값\n",
        "출력: x 이하의 누적 확률\n",
        "\n",
        "norm.ppf(significance_level, mu, sigma)는 주어진 누적 확률에 해당하는 값을 반환합니다.\n",
        "입력: 누적 확률 (유의 수준)\n",
        "출력: 해당 확률에 대응하는 x 값\n",
        "```"
      ]
    },
    {
      "cell_type": "code",
      "execution_count": 37,
      "id": "ea845094",
      "metadata": {
        "id": "ea845094",
        "colab": {
          "base_uri": "https://localhost:8080/"
        },
        "outputId": "9e73bcf4-e3a7-463a-b1ae-94c69746abf4"
      },
      "outputs": [
        {
          "output_type": "stream",
          "name": "stdout",
          "text": [
            "평균 수익률 0.00213, 변동성 0.04437 인 주식은 5.0%의 확률로 daily return 이 -0.071 보다 나쁠 수 있다. \n"
          ]
        }
      ],
      "source": [
        "# 95% 수준의 VaR 구하기\n",
        "significance_level = 0.05\n",
        "VaR = norm.ppf(significance_level, mu, sigma)\n",
        "VaR\n",
        "\n",
        "# 평균 수익률(mu)과 변동성(sigma)을 기준으로, 유의 수준(5%)에서 VaR를 계산\n",
        "# 이 주식이 5% 확률로 일일 수익률이 VaR 값보다 나쁠 수 있다는 의미\n",
        "print('평균 수익률 {:.5f}, 변동성 {:.5f} 인 주식은 {}%의 확률로 daily return 이 {:.3f} 보다 나쁠 수 있다. '\n",
        "          .format(mu, sigma, significance_level*100, VaR))"
      ]
    },
    {
      "cell_type": "markdown",
      "id": "30759c7f",
      "metadata": {
        "id": "30759c7f"
      },
      "source": [
        "유의 수준(가능성)을 1%로 낮추면 VaR 증가"
      ]
    },
    {
      "cell_type": "code",
      "execution_count": 39,
      "id": "37e8daad",
      "metadata": {
        "id": "37e8daad",
        "colab": {
          "base_uri": "https://localhost:8080/"
        },
        "outputId": "d0514dec-e429-4a75-9e37-e25f9247c0dd"
      },
      "outputs": [
        {
          "output_type": "stream",
          "name": "stdout",
          "text": [
            "평균 수익률 0.00213, 변동성 0.04437 인 주식은 10.0%의 확률로 daily return 이 -0.055 보다 나쁠 수 있다. \n"
          ]
        }
      ],
      "source": [
        "# 10% 수준의 VaR 구하기\n",
        "# 1% 확률로 주식의 일일 수익률이 VaR 값보다 낮을 수 있음을 의미\n",
        "significance_level = 0.1\n",
        "VaR = norm.ppf(significance_level, mu, sigma)\n",
        "VaR\n",
        "\n",
        "# 1% 확률로 주식의 일일 수익률이 VaR 값보다 낮을 수 있음을 의미\n",
        "print('평균 수익률 {:.5f}, 변동성 {:.5f} 인 주식은 {}%의 확률로 daily return 이 {:.3f} 보다 나쁠 수 있다. '\n",
        "          .format(mu, sigma, significance_level*100, VaR))"
      ]
    },
    {
      "cell_type": "code",
      "execution_count": 23,
      "id": "ae637579",
      "metadata": {
        "id": "ae637579"
      },
      "outputs": [],
      "source": []
    }
  ],
  "metadata": {
    "kernelspec": {
      "display_name": "Python 3 (ipykernel)",
      "language": "python",
      "name": "python3"
    },
    "language_info": {
      "codemirror_mode": {
        "name": "ipython",
        "version": 3
      },
      "file_extension": ".py",
      "mimetype": "text/x-python",
      "name": "python",
      "nbconvert_exporter": "python",
      "pygments_lexer": "ipython3",
      "version": "3.9.16"
    },
    "colab": {
      "provenance": [],
      "include_colab_link": true
    }
  },
  "nbformat": 4,
  "nbformat_minor": 5
}