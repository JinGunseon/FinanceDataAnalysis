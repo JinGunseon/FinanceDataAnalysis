{
  "cells": [
    {
      "cell_type": "markdown",
      "metadata": {
        "id": "view-in-github",
        "colab_type": "text"
      },
      "source": [
        "<a href=\"https://colab.research.google.com/github/JinGunseon/FinanceDataAnalysis/blob/main/%EC%8B%A4%EC%8A%B5_%ED%8F%AC%ED%8A%B8%ED%8F%B4%EB%A6%AC%EC%98%A4_%EC%B5%9C%EC%A0%81%ED%99%94%EC%99%80_%ED%9A%A8%EC%9C%A8%EC%A0%81_%ED%88%AC%EC%9E%90%EC%84%A0.ipynb\" target=\"_parent\"><img src=\"https://colab.research.google.com/assets/colab-badge.svg\" alt=\"Open In Colab\"/></a>"
      ]
    },
    {
      "cell_type": "markdown",
      "id": "82f6d682",
      "metadata": {
        "id": "82f6d682"
      },
      "source": [
        "# Portfolio Optimization (포트폴리오 최적화)\n",
        "\n",
        "- 위험회피적 투자자가 시장 위험의 주어진 수준에 따라 기대수익을 최적화하거나 최대화하여 보상 수준을 선택  \n",
        "\n",
        "\n",
        "- 방법 1 – Monte Carlo Simulation 에 의한 최적 포트폴리오 탐색\n",
        "- 방법 2 – scipy 를 이용한 수학적 최적화 (Mathematical Optimization)"
      ]
    },
    {
      "source": [
        "!pip install --upgrade Finance-Datareader\n",
        "!sudo apt-get install -y fonts-nanum\n",
        "!sudo fc-cache -fv\n",
        "!rm -rf ~/.cache/matplotlib"
      ],
      "cell_type": "code",
      "metadata": {
        "colab": {
          "base_uri": "https://localhost:8080/"
        },
        "id": "D0ED_bTBj7CS",
        "outputId": "377735b2-0cb8-4024-81ab-0bf451b6e636"
      },
      "id": "D0ED_bTBj7CS",
      "execution_count": 1,
      "outputs": [
        {
          "output_type": "stream",
          "name": "stdout",
          "text": [
            "Requirement already satisfied: Finance-Datareader in /usr/local/lib/python3.11/dist-packages (0.9.96)\n",
            "Requirement already satisfied: beautifulsoup4 in /usr/local/lib/python3.11/dist-packages (from Finance-Datareader) (4.13.4)\n",
            "Requirement already satisfied: lxml in /usr/local/lib/python3.11/dist-packages (from Finance-Datareader) (5.4.0)\n",
            "Requirement already satisfied: pandas>=1.1.0 in /usr/local/lib/python3.11/dist-packages (from Finance-Datareader) (2.2.2)\n",
            "Requirement already satisfied: plotly in /usr/local/lib/python3.11/dist-packages (from Finance-Datareader) (5.24.1)\n",
            "Requirement already satisfied: requests-file in /usr/local/lib/python3.11/dist-packages (from Finance-Datareader) (2.1.0)\n",
            "Requirement already satisfied: requests>=2.3.0 in /usr/local/lib/python3.11/dist-packages (from Finance-Datareader) (2.32.3)\n",
            "Requirement already satisfied: tqdm in /usr/local/lib/python3.11/dist-packages (from Finance-Datareader) (4.67.1)\n",
            "Requirement already satisfied: numpy>=1.23.2 in /usr/local/lib/python3.11/dist-packages (from pandas>=1.1.0->Finance-Datareader) (2.0.2)\n",
            "Requirement already satisfied: python-dateutil>=2.8.2 in /usr/local/lib/python3.11/dist-packages (from pandas>=1.1.0->Finance-Datareader) (2.9.0.post0)\n",
            "Requirement already satisfied: pytz>=2020.1 in /usr/local/lib/python3.11/dist-packages (from pandas>=1.1.0->Finance-Datareader) (2025.2)\n",
            "Requirement already satisfied: tzdata>=2022.7 in /usr/local/lib/python3.11/dist-packages (from pandas>=1.1.0->Finance-Datareader) (2025.2)\n",
            "Requirement already satisfied: charset-normalizer<4,>=2 in /usr/local/lib/python3.11/dist-packages (from requests>=2.3.0->Finance-Datareader) (3.4.2)\n",
            "Requirement already satisfied: idna<4,>=2.5 in /usr/local/lib/python3.11/dist-packages (from requests>=2.3.0->Finance-Datareader) (3.10)\n",
            "Requirement already satisfied: urllib3<3,>=1.21.1 in /usr/local/lib/python3.11/dist-packages (from requests>=2.3.0->Finance-Datareader) (2.4.0)\n",
            "Requirement already satisfied: certifi>=2017.4.17 in /usr/local/lib/python3.11/dist-packages (from requests>=2.3.0->Finance-Datareader) (2025.4.26)\n",
            "Requirement already satisfied: soupsieve>1.2 in /usr/local/lib/python3.11/dist-packages (from beautifulsoup4->Finance-Datareader) (2.7)\n",
            "Requirement already satisfied: typing-extensions>=4.0.0 in /usr/local/lib/python3.11/dist-packages (from beautifulsoup4->Finance-Datareader) (4.13.2)\n",
            "Requirement already satisfied: tenacity>=6.2.0 in /usr/local/lib/python3.11/dist-packages (from plotly->Finance-Datareader) (9.1.2)\n",
            "Requirement already satisfied: packaging in /usr/local/lib/python3.11/dist-packages (from plotly->Finance-Datareader) (24.2)\n",
            "Requirement already satisfied: six>=1.5 in /usr/local/lib/python3.11/dist-packages (from python-dateutil>=2.8.2->pandas>=1.1.0->Finance-Datareader) (1.17.0)\n",
            "Reading package lists... Done\n",
            "Building dependency tree... Done\n",
            "Reading state information... Done\n",
            "The following NEW packages will be installed:\n",
            "  fonts-nanum\n",
            "0 upgraded, 1 newly installed, 0 to remove and 34 not upgraded.\n",
            "Need to get 10.3 MB of archives.\n",
            "After this operation, 34.1 MB of additional disk space will be used.\n",
            "Get:1 http://archive.ubuntu.com/ubuntu jammy/universe amd64 fonts-nanum all 20200506-1 [10.3 MB]\n",
            "Fetched 10.3 MB in 0s (29.0 MB/s)\n",
            "debconf: unable to initialize frontend: Dialog\n",
            "debconf: (No usable dialog-like program is installed, so the dialog based frontend cannot be used. at /usr/share/perl5/Debconf/FrontEnd/Dialog.pm line 78, <> line 1.)\n",
            "debconf: falling back to frontend: Readline\n",
            "debconf: unable to initialize frontend: Readline\n",
            "debconf: (This frontend requires a controlling tty.)\n",
            "debconf: falling back to frontend: Teletype\n",
            "dpkg-preconfigure: unable to re-open stdin: \n",
            "Selecting previously unselected package fonts-nanum.\n",
            "(Reading database ... 126102 files and directories currently installed.)\n",
            "Preparing to unpack .../fonts-nanum_20200506-1_all.deb ...\n",
            "Unpacking fonts-nanum (20200506-1) ...\n",
            "Setting up fonts-nanum (20200506-1) ...\n",
            "Processing triggers for fontconfig (2.13.1-4.2ubuntu5) ...\n",
            "/usr/share/fonts: caching, new cache contents: 0 fonts, 1 dirs\n",
            "/usr/share/fonts/truetype: caching, new cache contents: 0 fonts, 3 dirs\n",
            "/usr/share/fonts/truetype/humor-sans: caching, new cache contents: 1 fonts, 0 dirs\n",
            "/usr/share/fonts/truetype/liberation: caching, new cache contents: 16 fonts, 0 dirs\n",
            "/usr/share/fonts/truetype/nanum: caching, new cache contents: 12 fonts, 0 dirs\n",
            "/usr/local/share/fonts: caching, new cache contents: 0 fonts, 0 dirs\n",
            "/root/.local/share/fonts: skipping, no such directory\n",
            "/root/.fonts: skipping, no such directory\n",
            "/usr/share/fonts/truetype: skipping, looped directory detected\n",
            "/usr/share/fonts/truetype/humor-sans: skipping, looped directory detected\n",
            "/usr/share/fonts/truetype/liberation: skipping, looped directory detected\n",
            "/usr/share/fonts/truetype/nanum: skipping, looped directory detected\n",
            "/var/cache/fontconfig: cleaning cache directory\n",
            "/root/.cache/fontconfig: not cleaning non-existent cache directory\n",
            "/root/.fontconfig: not cleaning non-existent cache directory\n",
            "fc-cache: succeeded\n"
          ]
        }
      ]
    },
    {
      "cell_type": "code",
      "execution_count": 2,
      "id": "bb398f1c",
      "metadata": {
        "id": "bb398f1c"
      },
      "outputs": [],
      "source": [
        "import numpy as np\n",
        "import pandas as pd\n",
        "import matplotlib.pyplot as plt\n",
        "import datetime\n",
        "import FinanceDataReader as fdr\n",
        "import matplotlib as mpl\n",
        "import matplotlib.font_manager as fm\n",
        "\n",
        "# 나눔 폰트 경로 설정\n",
        "font_path = '/usr/share/fonts/truetype/nanum/NanumGothic.ttf' # Colab 환경의 나눔고딕 폰트 경로\n",
        "\n",
        "# 폰트 매니저에 폰트 추가\n",
        "fm.fontManager.addfont(font_path)\n",
        "\n",
        "# Matplotlib의 기본 폰트 설정\n",
        "mpl.rc('font', family='NanumGothic')\n",
        "\n",
        "# 마이너스 부호 깨짐 방지\n",
        "mpl.rcParams['axes.unicode_minus'] = False"
      ]
    },
    {
      "cell_type": "code",
      "execution_count": 9,
      "id": "608a9231",
      "metadata": {
        "id": "608a9231"
      },
      "outputs": [],
      "source": [
        "start = datetime.datetime(2020,1,1)\n",
        "end = datetime.datetime(2020,12, 31)"
      ]
    },
    {
      "cell_type": "markdown",
      "id": "3dc1bdca",
      "metadata": {
        "id": "3dc1bdca"
      },
      "source": [
        "- portfolio 생성"
      ]
    },
    {
      "cell_type": "code",
      "execution_count": 11,
      "id": "1f5f5324",
      "metadata": {
        "id": "1f5f5324",
        "colab": {
          "base_uri": "https://localhost:8080/",
          "height": 206
        },
        "outputId": "4f450327-20a2-4388-dc5b-7641227c00f4"
      },
      "outputs": [
        {
          "output_type": "execute_result",
          "data": {
            "text/plain": [
              "                     DB하이텍   삼성전자   삼성증권    카카오\n",
              "2020-01-02 00:00:00  27900  55200  37850  30609\n",
              "2020-01-03 00:00:00  27600  55500  38100  30609\n",
              "2020-01-06 00:00:00  28000  55500  37500  31010\n",
              "2020-01-07 00:00:00  28000  55800  37800  32114\n",
              "2020-01-08 00:00:00  28950  56800  37150  32014"
            ],
            "text/html": [
              "\n",
              "  <div id=\"df-9d4f19ee-fba2-44dd-b595-78c257e66e7c\" class=\"colab-df-container\">\n",
              "    <div>\n",
              "<style scoped>\n",
              "    .dataframe tbody tr th:only-of-type {\n",
              "        vertical-align: middle;\n",
              "    }\n",
              "\n",
              "    .dataframe tbody tr th {\n",
              "        vertical-align: top;\n",
              "    }\n",
              "\n",
              "    .dataframe thead th {\n",
              "        text-align: right;\n",
              "    }\n",
              "</style>\n",
              "<table border=\"1\" class=\"dataframe\">\n",
              "  <thead>\n",
              "    <tr style=\"text-align: right;\">\n",
              "      <th></th>\n",
              "      <th>DB하이텍</th>\n",
              "      <th>삼성전자</th>\n",
              "      <th>삼성증권</th>\n",
              "      <th>카카오</th>\n",
              "    </tr>\n",
              "  </thead>\n",
              "  <tbody>\n",
              "    <tr>\n",
              "      <th>2020-01-02 00:00:00</th>\n",
              "      <td>27900</td>\n",
              "      <td>55200</td>\n",
              "      <td>37850</td>\n",
              "      <td>30609</td>\n",
              "    </tr>\n",
              "    <tr>\n",
              "      <th>2020-01-03 00:00:00</th>\n",
              "      <td>27600</td>\n",
              "      <td>55500</td>\n",
              "      <td>38100</td>\n",
              "      <td>30609</td>\n",
              "    </tr>\n",
              "    <tr>\n",
              "      <th>2020-01-06 00:00:00</th>\n",
              "      <td>28000</td>\n",
              "      <td>55500</td>\n",
              "      <td>37500</td>\n",
              "      <td>31010</td>\n",
              "    </tr>\n",
              "    <tr>\n",
              "      <th>2020-01-07 00:00:00</th>\n",
              "      <td>28000</td>\n",
              "      <td>55800</td>\n",
              "      <td>37800</td>\n",
              "      <td>32114</td>\n",
              "    </tr>\n",
              "    <tr>\n",
              "      <th>2020-01-08 00:00:00</th>\n",
              "      <td>28950</td>\n",
              "      <td>56800</td>\n",
              "      <td>37150</td>\n",
              "      <td>32014</td>\n",
              "    </tr>\n",
              "  </tbody>\n",
              "</table>\n",
              "</div>\n",
              "    <div class=\"colab-df-buttons\">\n",
              "\n",
              "  <div class=\"colab-df-container\">\n",
              "    <button class=\"colab-df-convert\" onclick=\"convertToInteractive('df-9d4f19ee-fba2-44dd-b595-78c257e66e7c')\"\n",
              "            title=\"Convert this dataframe to an interactive table.\"\n",
              "            style=\"display:none;\">\n",
              "\n",
              "  <svg xmlns=\"http://www.w3.org/2000/svg\" height=\"24px\" viewBox=\"0 -960 960 960\">\n",
              "    <path d=\"M120-120v-720h720v720H120Zm60-500h600v-160H180v160Zm220 220h160v-160H400v160Zm0 220h160v-160H400v160ZM180-400h160v-160H180v160Zm440 0h160v-160H620v160ZM180-180h160v-160H180v160Zm440 0h160v-160H620v160Z\"/>\n",
              "  </svg>\n",
              "    </button>\n",
              "\n",
              "  <style>\n",
              "    .colab-df-container {\n",
              "      display:flex;\n",
              "      gap: 12px;\n",
              "    }\n",
              "\n",
              "    .colab-df-convert {\n",
              "      background-color: #E8F0FE;\n",
              "      border: none;\n",
              "      border-radius: 50%;\n",
              "      cursor: pointer;\n",
              "      display: none;\n",
              "      fill: #1967D2;\n",
              "      height: 32px;\n",
              "      padding: 0 0 0 0;\n",
              "      width: 32px;\n",
              "    }\n",
              "\n",
              "    .colab-df-convert:hover {\n",
              "      background-color: #E2EBFA;\n",
              "      box-shadow: 0px 1px 2px rgba(60, 64, 67, 0.3), 0px 1px 3px 1px rgba(60, 64, 67, 0.15);\n",
              "      fill: #174EA6;\n",
              "    }\n",
              "\n",
              "    .colab-df-buttons div {\n",
              "      margin-bottom: 4px;\n",
              "    }\n",
              "\n",
              "    [theme=dark] .colab-df-convert {\n",
              "      background-color: #3B4455;\n",
              "      fill: #D2E3FC;\n",
              "    }\n",
              "\n",
              "    [theme=dark] .colab-df-convert:hover {\n",
              "      background-color: #434B5C;\n",
              "      box-shadow: 0px 1px 3px 1px rgba(0, 0, 0, 0.15);\n",
              "      filter: drop-shadow(0px 1px 2px rgba(0, 0, 0, 0.3));\n",
              "      fill: #FFFFFF;\n",
              "    }\n",
              "  </style>\n",
              "\n",
              "    <script>\n",
              "      const buttonEl =\n",
              "        document.querySelector('#df-9d4f19ee-fba2-44dd-b595-78c257e66e7c button.colab-df-convert');\n",
              "      buttonEl.style.display =\n",
              "        google.colab.kernel.accessAllowed ? 'block' : 'none';\n",
              "\n",
              "      async function convertToInteractive(key) {\n",
              "        const element = document.querySelector('#df-9d4f19ee-fba2-44dd-b595-78c257e66e7c');\n",
              "        const dataTable =\n",
              "          await google.colab.kernel.invokeFunction('convertToInteractive',\n",
              "                                                    [key], {});\n",
              "        if (!dataTable) return;\n",
              "\n",
              "        const docLinkHtml = 'Like what you see? Visit the ' +\n",
              "          '<a target=\"_blank\" href=https://colab.research.google.com/notebooks/data_table.ipynb>data table notebook</a>'\n",
              "          + ' to learn more about interactive tables.';\n",
              "        element.innerHTML = '';\n",
              "        dataTable['output_type'] = 'display_data';\n",
              "        await google.colab.output.renderOutput(dataTable, element);\n",
              "        const docLink = document.createElement('div');\n",
              "        docLink.innerHTML = docLinkHtml;\n",
              "        element.appendChild(docLink);\n",
              "      }\n",
              "    </script>\n",
              "  </div>\n",
              "\n",
              "\n",
              "    <div id=\"df-4a8dc298-b6e2-4375-a7af-6b5564e55a7d\">\n",
              "      <button class=\"colab-df-quickchart\" onclick=\"quickchart('df-4a8dc298-b6e2-4375-a7af-6b5564e55a7d')\"\n",
              "                title=\"Suggest charts\"\n",
              "                style=\"display:none;\">\n",
              "\n",
              "<svg xmlns=\"http://www.w3.org/2000/svg\" height=\"24px\"viewBox=\"0 0 24 24\"\n",
              "     width=\"24px\">\n",
              "    <g>\n",
              "        <path d=\"M19 3H5c-1.1 0-2 .9-2 2v14c0 1.1.9 2 2 2h14c1.1 0 2-.9 2-2V5c0-1.1-.9-2-2-2zM9 17H7v-7h2v7zm4 0h-2V7h2v10zm4 0h-2v-4h2v4z\"/>\n",
              "    </g>\n",
              "</svg>\n",
              "      </button>\n",
              "\n",
              "<style>\n",
              "  .colab-df-quickchart {\n",
              "      --bg-color: #E8F0FE;\n",
              "      --fill-color: #1967D2;\n",
              "      --hover-bg-color: #E2EBFA;\n",
              "      --hover-fill-color: #174EA6;\n",
              "      --disabled-fill-color: #AAA;\n",
              "      --disabled-bg-color: #DDD;\n",
              "  }\n",
              "\n",
              "  [theme=dark] .colab-df-quickchart {\n",
              "      --bg-color: #3B4455;\n",
              "      --fill-color: #D2E3FC;\n",
              "      --hover-bg-color: #434B5C;\n",
              "      --hover-fill-color: #FFFFFF;\n",
              "      --disabled-bg-color: #3B4455;\n",
              "      --disabled-fill-color: #666;\n",
              "  }\n",
              "\n",
              "  .colab-df-quickchart {\n",
              "    background-color: var(--bg-color);\n",
              "    border: none;\n",
              "    border-radius: 50%;\n",
              "    cursor: pointer;\n",
              "    display: none;\n",
              "    fill: var(--fill-color);\n",
              "    height: 32px;\n",
              "    padding: 0;\n",
              "    width: 32px;\n",
              "  }\n",
              "\n",
              "  .colab-df-quickchart:hover {\n",
              "    background-color: var(--hover-bg-color);\n",
              "    box-shadow: 0 1px 2px rgba(60, 64, 67, 0.3), 0 1px 3px 1px rgba(60, 64, 67, 0.15);\n",
              "    fill: var(--button-hover-fill-color);\n",
              "  }\n",
              "\n",
              "  .colab-df-quickchart-complete:disabled,\n",
              "  .colab-df-quickchart-complete:disabled:hover {\n",
              "    background-color: var(--disabled-bg-color);\n",
              "    fill: var(--disabled-fill-color);\n",
              "    box-shadow: none;\n",
              "  }\n",
              "\n",
              "  .colab-df-spinner {\n",
              "    border: 2px solid var(--fill-color);\n",
              "    border-color: transparent;\n",
              "    border-bottom-color: var(--fill-color);\n",
              "    animation:\n",
              "      spin 1s steps(1) infinite;\n",
              "  }\n",
              "\n",
              "  @keyframes spin {\n",
              "    0% {\n",
              "      border-color: transparent;\n",
              "      border-bottom-color: var(--fill-color);\n",
              "      border-left-color: var(--fill-color);\n",
              "    }\n",
              "    20% {\n",
              "      border-color: transparent;\n",
              "      border-left-color: var(--fill-color);\n",
              "      border-top-color: var(--fill-color);\n",
              "    }\n",
              "    30% {\n",
              "      border-color: transparent;\n",
              "      border-left-color: var(--fill-color);\n",
              "      border-top-color: var(--fill-color);\n",
              "      border-right-color: var(--fill-color);\n",
              "    }\n",
              "    40% {\n",
              "      border-color: transparent;\n",
              "      border-right-color: var(--fill-color);\n",
              "      border-top-color: var(--fill-color);\n",
              "    }\n",
              "    60% {\n",
              "      border-color: transparent;\n",
              "      border-right-color: var(--fill-color);\n",
              "    }\n",
              "    80% {\n",
              "      border-color: transparent;\n",
              "      border-right-color: var(--fill-color);\n",
              "      border-bottom-color: var(--fill-color);\n",
              "    }\n",
              "    90% {\n",
              "      border-color: transparent;\n",
              "      border-bottom-color: var(--fill-color);\n",
              "    }\n",
              "  }\n",
              "</style>\n",
              "\n",
              "      <script>\n",
              "        async function quickchart(key) {\n",
              "          const quickchartButtonEl =\n",
              "            document.querySelector('#' + key + ' button');\n",
              "          quickchartButtonEl.disabled = true;  // To prevent multiple clicks.\n",
              "          quickchartButtonEl.classList.add('colab-df-spinner');\n",
              "          try {\n",
              "            const charts = await google.colab.kernel.invokeFunction(\n",
              "                'suggestCharts', [key], {});\n",
              "          } catch (error) {\n",
              "            console.error('Error during call to suggestCharts:', error);\n",
              "          }\n",
              "          quickchartButtonEl.classList.remove('colab-df-spinner');\n",
              "          quickchartButtonEl.classList.add('colab-df-quickchart-complete');\n",
              "        }\n",
              "        (() => {\n",
              "          let quickchartButtonEl =\n",
              "            document.querySelector('#df-4a8dc298-b6e2-4375-a7af-6b5564e55a7d button');\n",
              "          quickchartButtonEl.style.display =\n",
              "            google.colab.kernel.accessAllowed ? 'block' : 'none';\n",
              "        })();\n",
              "      </script>\n",
              "    </div>\n",
              "\n",
              "    </div>\n",
              "  </div>\n"
            ],
            "application/vnd.google.colaboratory.intrinsic+json": {
              "type": "dataframe",
              "variable_name": "portfolio",
              "summary": "{\n  \"name\": \"portfolio\",\n  \"rows\": 248,\n  \"fields\": [\n    {\n      \"column\": \"DB\\ud558\\uc774\\ud14d\",\n      \"properties\": {\n        \"dtype\": \"number\",\n        \"std\": 5441,\n        \"min\": 15000,\n        \"max\": 51000,\n        \"num_unique_values\": 170,\n        \"samples\": [\n          37350,\n          25800,\n          35050\n        ],\n        \"semantic_type\": \"\",\n        \"description\": \"\"\n      }\n    },\n    {\n      \"column\": \"\\uc0bc\\uc131\\uc804\\uc790\",\n      \"properties\": {\n        \"dtype\": \"number\",\n        \"std\": 7061,\n        \"min\": 42500,\n        \"max\": 81000,\n        \"num_unique_values\": 148,\n        \"samples\": [\n          64700,\n          47850,\n          73400\n        ],\n        \"semantic_type\": \"\",\n        \"description\": \"\"\n      }\n    },\n    {\n      \"column\": \"\\uc0bc\\uc131\\uc99d\\uad8c\",\n      \"properties\": {\n        \"dtype\": \"number\",\n        \"std\": 4602,\n        \"min\": 20800,\n        \"max\": 43200,\n        \"num_unique_values\": 162,\n        \"samples\": [\n          42950,\n          30950,\n          33050\n        ],\n        \"semantic_type\": \"\",\n        \"description\": \"\"\n      }\n    },\n    {\n      \"column\": \"\\uce74\\uce74\\uc624\",\n      \"properties\": {\n        \"dtype\": \"number\",\n        \"std\": 18225,\n        \"min\": 26896,\n        \"max\": 82695,\n        \"num_unique_values\": 170,\n        \"samples\": [\n          73362,\n          36931,\n          75569\n        ],\n        \"semantic_type\": \"\",\n        \"description\": \"\"\n      }\n    }\n  ]\n}"
            }
          },
          "metadata": {},
          "execution_count": 11
        }
      ],
      "source": [
        "# 종목 코드와 종목명을 리스트로 저장합니다.\n",
        "# stock_list에는 ('종목 코드', '종목명')의 형태로 데이터가 저장되어 있습니다.\n",
        "stock_list = [('000990', 'DB하이텍'), ('005930', '삼성전자'), ('016360', '삼성증권'), ('035720', '카카오')]\n",
        "\n",
        "# 주가 데이터를 저장할 빈 데이터프레임을 생성합니다.\n",
        "portfolio = pd.DataFrame([])\n",
        "\n",
        "# stock_list에 있는 종목 코드와 종목명을 이용해 데이터를 반복 처리합니다.\n",
        "for code, name in stock_list:\n",
        "    # 종목의 종가 데이터를 FinanceDataReader를 통해 가져옵니다.\n",
        "    df = fdr.DataReader(code, start, end)\n",
        "\n",
        "    # 만약 데이터프레임(df)이 비어있다면, 해당 종목의 코드를 출력합니다.\n",
        "    if len(df) == 0:\n",
        "        print(code, name)\n",
        "\n",
        "    # 종가 데이터를 portfolio 데이터프레임에 열(column)로 추가합니다.\n",
        "    # concat 함수는 새로운 열을 수평 방향(axis=1)으로 추가합니다.\n",
        "    portfolio = pd.concat([portfolio, df['Close']], axis=1)\n",
        "\n",
        "# code_names에는 stock_list에서 종목명(name)만 따로 추출해 저장합니다.\n",
        "code_names = [name for (code, name) in stock_list]\n",
        "\n",
        "# portfolio 데이터프레임의 열 이름을 종목명 리스트로 변경합니다.\n",
        "portfolio.columns = code_names\n",
        "\n",
        "portfolio.head()"
      ]
    },
    {
      "cell_type": "markdown",
      "id": "fed5c222",
      "metadata": {
        "id": "fed5c222"
      },
      "source": [
        "- 포트폴리오 각 자산의 일일 log 수익률 생성 (daily log return)"
      ]
    },
    {
      "cell_type": "code",
      "execution_count": 12,
      "id": "bb6f62aa",
      "metadata": {
        "id": "bb6f62aa",
        "colab": {
          "base_uri": "https://localhost:8080/",
          "height": 206
        },
        "outputId": "1b8f1f02-9230-4b99-cc1e-fcc26e300f02"
      },
      "outputs": [
        {
          "output_type": "execute_result",
          "data": {
            "text/plain": [
              "                        DB하이텍      삼성전자      삼성증권       카카오\n",
              "2020-01-02 00:00:00       NaN       NaN       NaN       NaN\n",
              "2020-01-03 00:00:00 -0.010811  0.005420  0.006583  0.000000\n",
              "2020-01-06 00:00:00  0.014389  0.000000 -0.015873  0.013016\n",
              "2020-01-07 00:00:00  0.000000  0.005391  0.007968  0.034982\n",
              "2020-01-08 00:00:00  0.033366  0.017762 -0.017345 -0.003119"
            ],
            "text/html": [
              "\n",
              "  <div id=\"df-e8448cd7-a702-440e-b8a2-f9abf31d4639\" class=\"colab-df-container\">\n",
              "    <div>\n",
              "<style scoped>\n",
              "    .dataframe tbody tr th:only-of-type {\n",
              "        vertical-align: middle;\n",
              "    }\n",
              "\n",
              "    .dataframe tbody tr th {\n",
              "        vertical-align: top;\n",
              "    }\n",
              "\n",
              "    .dataframe thead th {\n",
              "        text-align: right;\n",
              "    }\n",
              "</style>\n",
              "<table border=\"1\" class=\"dataframe\">\n",
              "  <thead>\n",
              "    <tr style=\"text-align: right;\">\n",
              "      <th></th>\n",
              "      <th>DB하이텍</th>\n",
              "      <th>삼성전자</th>\n",
              "      <th>삼성증권</th>\n",
              "      <th>카카오</th>\n",
              "    </tr>\n",
              "  </thead>\n",
              "  <tbody>\n",
              "    <tr>\n",
              "      <th>2020-01-02 00:00:00</th>\n",
              "      <td>NaN</td>\n",
              "      <td>NaN</td>\n",
              "      <td>NaN</td>\n",
              "      <td>NaN</td>\n",
              "    </tr>\n",
              "    <tr>\n",
              "      <th>2020-01-03 00:00:00</th>\n",
              "      <td>-0.010811</td>\n",
              "      <td>0.005420</td>\n",
              "      <td>0.006583</td>\n",
              "      <td>0.000000</td>\n",
              "    </tr>\n",
              "    <tr>\n",
              "      <th>2020-01-06 00:00:00</th>\n",
              "      <td>0.014389</td>\n",
              "      <td>0.000000</td>\n",
              "      <td>-0.015873</td>\n",
              "      <td>0.013016</td>\n",
              "    </tr>\n",
              "    <tr>\n",
              "      <th>2020-01-07 00:00:00</th>\n",
              "      <td>0.000000</td>\n",
              "      <td>0.005391</td>\n",
              "      <td>0.007968</td>\n",
              "      <td>0.034982</td>\n",
              "    </tr>\n",
              "    <tr>\n",
              "      <th>2020-01-08 00:00:00</th>\n",
              "      <td>0.033366</td>\n",
              "      <td>0.017762</td>\n",
              "      <td>-0.017345</td>\n",
              "      <td>-0.003119</td>\n",
              "    </tr>\n",
              "  </tbody>\n",
              "</table>\n",
              "</div>\n",
              "    <div class=\"colab-df-buttons\">\n",
              "\n",
              "  <div class=\"colab-df-container\">\n",
              "    <button class=\"colab-df-convert\" onclick=\"convertToInteractive('df-e8448cd7-a702-440e-b8a2-f9abf31d4639')\"\n",
              "            title=\"Convert this dataframe to an interactive table.\"\n",
              "            style=\"display:none;\">\n",
              "\n",
              "  <svg xmlns=\"http://www.w3.org/2000/svg\" height=\"24px\" viewBox=\"0 -960 960 960\">\n",
              "    <path d=\"M120-120v-720h720v720H120Zm60-500h600v-160H180v160Zm220 220h160v-160H400v160Zm0 220h160v-160H400v160ZM180-400h160v-160H180v160Zm440 0h160v-160H620v160ZM180-180h160v-160H180v160Zm440 0h160v-160H620v160Z\"/>\n",
              "  </svg>\n",
              "    </button>\n",
              "\n",
              "  <style>\n",
              "    .colab-df-container {\n",
              "      display:flex;\n",
              "      gap: 12px;\n",
              "    }\n",
              "\n",
              "    .colab-df-convert {\n",
              "      background-color: #E8F0FE;\n",
              "      border: none;\n",
              "      border-radius: 50%;\n",
              "      cursor: pointer;\n",
              "      display: none;\n",
              "      fill: #1967D2;\n",
              "      height: 32px;\n",
              "      padding: 0 0 0 0;\n",
              "      width: 32px;\n",
              "    }\n",
              "\n",
              "    .colab-df-convert:hover {\n",
              "      background-color: #E2EBFA;\n",
              "      box-shadow: 0px 1px 2px rgba(60, 64, 67, 0.3), 0px 1px 3px 1px rgba(60, 64, 67, 0.15);\n",
              "      fill: #174EA6;\n",
              "    }\n",
              "\n",
              "    .colab-df-buttons div {\n",
              "      margin-bottom: 4px;\n",
              "    }\n",
              "\n",
              "    [theme=dark] .colab-df-convert {\n",
              "      background-color: #3B4455;\n",
              "      fill: #D2E3FC;\n",
              "    }\n",
              "\n",
              "    [theme=dark] .colab-df-convert:hover {\n",
              "      background-color: #434B5C;\n",
              "      box-shadow: 0px 1px 3px 1px rgba(0, 0, 0, 0.15);\n",
              "      filter: drop-shadow(0px 1px 2px rgba(0, 0, 0, 0.3));\n",
              "      fill: #FFFFFF;\n",
              "    }\n",
              "  </style>\n",
              "\n",
              "    <script>\n",
              "      const buttonEl =\n",
              "        document.querySelector('#df-e8448cd7-a702-440e-b8a2-f9abf31d4639 button.colab-df-convert');\n",
              "      buttonEl.style.display =\n",
              "        google.colab.kernel.accessAllowed ? 'block' : 'none';\n",
              "\n",
              "      async function convertToInteractive(key) {\n",
              "        const element = document.querySelector('#df-e8448cd7-a702-440e-b8a2-f9abf31d4639');\n",
              "        const dataTable =\n",
              "          await google.colab.kernel.invokeFunction('convertToInteractive',\n",
              "                                                    [key], {});\n",
              "        if (!dataTable) return;\n",
              "\n",
              "        const docLinkHtml = 'Like what you see? Visit the ' +\n",
              "          '<a target=\"_blank\" href=https://colab.research.google.com/notebooks/data_table.ipynb>data table notebook</a>'\n",
              "          + ' to learn more about interactive tables.';\n",
              "        element.innerHTML = '';\n",
              "        dataTable['output_type'] = 'display_data';\n",
              "        await google.colab.output.renderOutput(dataTable, element);\n",
              "        const docLink = document.createElement('div');\n",
              "        docLink.innerHTML = docLinkHtml;\n",
              "        element.appendChild(docLink);\n",
              "      }\n",
              "    </script>\n",
              "  </div>\n",
              "\n",
              "\n",
              "    <div id=\"df-9d6b9ef9-cfb6-44ba-a2ed-79214ca5e075\">\n",
              "      <button class=\"colab-df-quickchart\" onclick=\"quickchart('df-9d6b9ef9-cfb6-44ba-a2ed-79214ca5e075')\"\n",
              "                title=\"Suggest charts\"\n",
              "                style=\"display:none;\">\n",
              "\n",
              "<svg xmlns=\"http://www.w3.org/2000/svg\" height=\"24px\"viewBox=\"0 0 24 24\"\n",
              "     width=\"24px\">\n",
              "    <g>\n",
              "        <path d=\"M19 3H5c-1.1 0-2 .9-2 2v14c0 1.1.9 2 2 2h14c1.1 0 2-.9 2-2V5c0-1.1-.9-2-2-2zM9 17H7v-7h2v7zm4 0h-2V7h2v10zm4 0h-2v-4h2v4z\"/>\n",
              "    </g>\n",
              "</svg>\n",
              "      </button>\n",
              "\n",
              "<style>\n",
              "  .colab-df-quickchart {\n",
              "      --bg-color: #E8F0FE;\n",
              "      --fill-color: #1967D2;\n",
              "      --hover-bg-color: #E2EBFA;\n",
              "      --hover-fill-color: #174EA6;\n",
              "      --disabled-fill-color: #AAA;\n",
              "      --disabled-bg-color: #DDD;\n",
              "  }\n",
              "\n",
              "  [theme=dark] .colab-df-quickchart {\n",
              "      --bg-color: #3B4455;\n",
              "      --fill-color: #D2E3FC;\n",
              "      --hover-bg-color: #434B5C;\n",
              "      --hover-fill-color: #FFFFFF;\n",
              "      --disabled-bg-color: #3B4455;\n",
              "      --disabled-fill-color: #666;\n",
              "  }\n",
              "\n",
              "  .colab-df-quickchart {\n",
              "    background-color: var(--bg-color);\n",
              "    border: none;\n",
              "    border-radius: 50%;\n",
              "    cursor: pointer;\n",
              "    display: none;\n",
              "    fill: var(--fill-color);\n",
              "    height: 32px;\n",
              "    padding: 0;\n",
              "    width: 32px;\n",
              "  }\n",
              "\n",
              "  .colab-df-quickchart:hover {\n",
              "    background-color: var(--hover-bg-color);\n",
              "    box-shadow: 0 1px 2px rgba(60, 64, 67, 0.3), 0 1px 3px 1px rgba(60, 64, 67, 0.15);\n",
              "    fill: var(--button-hover-fill-color);\n",
              "  }\n",
              "\n",
              "  .colab-df-quickchart-complete:disabled,\n",
              "  .colab-df-quickchart-complete:disabled:hover {\n",
              "    background-color: var(--disabled-bg-color);\n",
              "    fill: var(--disabled-fill-color);\n",
              "    box-shadow: none;\n",
              "  }\n",
              "\n",
              "  .colab-df-spinner {\n",
              "    border: 2px solid var(--fill-color);\n",
              "    border-color: transparent;\n",
              "    border-bottom-color: var(--fill-color);\n",
              "    animation:\n",
              "      spin 1s steps(1) infinite;\n",
              "  }\n",
              "\n",
              "  @keyframes spin {\n",
              "    0% {\n",
              "      border-color: transparent;\n",
              "      border-bottom-color: var(--fill-color);\n",
              "      border-left-color: var(--fill-color);\n",
              "    }\n",
              "    20% {\n",
              "      border-color: transparent;\n",
              "      border-left-color: var(--fill-color);\n",
              "      border-top-color: var(--fill-color);\n",
              "    }\n",
              "    30% {\n",
              "      border-color: transparent;\n",
              "      border-left-color: var(--fill-color);\n",
              "      border-top-color: var(--fill-color);\n",
              "      border-right-color: var(--fill-color);\n",
              "    }\n",
              "    40% {\n",
              "      border-color: transparent;\n",
              "      border-right-color: var(--fill-color);\n",
              "      border-top-color: var(--fill-color);\n",
              "    }\n",
              "    60% {\n",
              "      border-color: transparent;\n",
              "      border-right-color: var(--fill-color);\n",
              "    }\n",
              "    80% {\n",
              "      border-color: transparent;\n",
              "      border-right-color: var(--fill-color);\n",
              "      border-bottom-color: var(--fill-color);\n",
              "    }\n",
              "    90% {\n",
              "      border-color: transparent;\n",
              "      border-bottom-color: var(--fill-color);\n",
              "    }\n",
              "  }\n",
              "</style>\n",
              "\n",
              "      <script>\n",
              "        async function quickchart(key) {\n",
              "          const quickchartButtonEl =\n",
              "            document.querySelector('#' + key + ' button');\n",
              "          quickchartButtonEl.disabled = true;  // To prevent multiple clicks.\n",
              "          quickchartButtonEl.classList.add('colab-df-spinner');\n",
              "          try {\n",
              "            const charts = await google.colab.kernel.invokeFunction(\n",
              "                'suggestCharts', [key], {});\n",
              "          } catch (error) {\n",
              "            console.error('Error during call to suggestCharts:', error);\n",
              "          }\n",
              "          quickchartButtonEl.classList.remove('colab-df-spinner');\n",
              "          quickchartButtonEl.classList.add('colab-df-quickchart-complete');\n",
              "        }\n",
              "        (() => {\n",
              "          let quickchartButtonEl =\n",
              "            document.querySelector('#df-9d6b9ef9-cfb6-44ba-a2ed-79214ca5e075 button');\n",
              "          quickchartButtonEl.style.display =\n",
              "            google.colab.kernel.accessAllowed ? 'block' : 'none';\n",
              "        })();\n",
              "      </script>\n",
              "    </div>\n",
              "\n",
              "    </div>\n",
              "  </div>\n"
            ],
            "application/vnd.google.colaboratory.intrinsic+json": {
              "type": "dataframe",
              "variable_name": "log_return",
              "summary": "{\n  \"name\": \"log_return\",\n  \"rows\": 248,\n  \"fields\": [\n    {\n      \"column\": \"DB\\ud558\\uc774\\ud14d\",\n      \"properties\": {\n        \"dtype\": \"number\",\n        \"std\": 0.03755659558554897,\n        \"min\": -0.12747076801283158,\n        \"max\": 0.16352574849271437,\n        \"num_unique_values\": 241,\n        \"samples\": [\n          0.02615667864872826,\n          0.02282803255620084,\n          0.024828861653869966\n        ],\n        \"semantic_type\": \"\",\n        \"description\": \"\"\n      }\n    },\n    {\n      \"column\": \"\\uc0bc\\uc131\\uc804\\uc790\",\n      \"properties\": {\n        \"dtype\": \"number\",\n        \"std\": 0.020907843761566524,\n        \"min\": -0.06600802911693121,\n        \"max\": 0.09957912972390079,\n        \"num_unique_values\": 230,\n        \"samples\": [\n          -0.016597891409037828,\n          0.01023550389402671,\n          0.00983614487671319\n        ],\n        \"semantic_type\": \"\",\n        \"description\": \"\"\n      }\n    },\n    {\n      \"column\": \"\\uc0bc\\uc131\\uc99d\\uad8c\",\n      \"properties\": {\n        \"dtype\": \"number\",\n        \"std\": 0.029168790281386536,\n        \"min\": -0.15532095497544865,\n        \"max\": 0.1599460292791182,\n        \"num_unique_values\": 239,\n        \"samples\": [\n          0.0056497325421191276,\n          -0.005298025637555161,\n          -0.02995818754079203\n        ],\n        \"semantic_type\": \"\",\n        \"description\": \"\"\n      }\n    },\n    {\n      \"column\": \"\\uce74\\uce74\\uc624\",\n      \"properties\": {\n        \"dtype\": \"number\",\n        \"std\": 0.02557617510189878,\n        \"min\": -0.07507018430287819,\n        \"max\": 0.10945311111124058,\n        \"num_unique_values\": 229,\n        \"samples\": [\n          -0.012069676637836837,\n          0.0028429301308340238,\n          -0.017643551377354728\n        ],\n        \"semantic_type\": \"\",\n        \"description\": \"\"\n      }\n    }\n  ]\n}"
            }
          },
          "metadata": {},
          "execution_count": 12
        }
      ],
      "source": [
        "log_return = np.log(portfolio / portfolio.shift(1))\n",
        "log_return.head()"
      ]
    },
    {
      "cell_type": "markdown",
      "id": "91f5cc19",
      "metadata": {
        "id": "91f5cc19"
      },
      "source": [
        "asset 간의 상관 계수"
      ]
    },
    {
      "cell_type": "code",
      "execution_count": 14,
      "id": "2eb2f116",
      "metadata": {
        "id": "2eb2f116",
        "colab": {
          "base_uri": "https://localhost:8080/",
          "height": 175
        },
        "outputId": "daea76e8-c3c5-4371-a508-aab0ca35138e"
      },
      "outputs": [
        {
          "output_type": "execute_result",
          "data": {
            "text/plain": [
              "          DB하이텍      삼성전자      삼성증권       카카오\n",
              "DB하이텍  1.000000  0.513497  0.353162  0.494775\n",
              "삼성전자   0.513497  1.000000  0.652664  0.346570\n",
              "삼성증권   0.353162  0.652664  1.000000  0.239416\n",
              "카카오    0.494775  0.346570  0.239416  1.000000"
            ],
            "text/html": [
              "\n",
              "  <div id=\"df-3ebfe242-7300-4677-b427-1adae20494c0\" class=\"colab-df-container\">\n",
              "    <div>\n",
              "<style scoped>\n",
              "    .dataframe tbody tr th:only-of-type {\n",
              "        vertical-align: middle;\n",
              "    }\n",
              "\n",
              "    .dataframe tbody tr th {\n",
              "        vertical-align: top;\n",
              "    }\n",
              "\n",
              "    .dataframe thead th {\n",
              "        text-align: right;\n",
              "    }\n",
              "</style>\n",
              "<table border=\"1\" class=\"dataframe\">\n",
              "  <thead>\n",
              "    <tr style=\"text-align: right;\">\n",
              "      <th></th>\n",
              "      <th>DB하이텍</th>\n",
              "      <th>삼성전자</th>\n",
              "      <th>삼성증권</th>\n",
              "      <th>카카오</th>\n",
              "    </tr>\n",
              "  </thead>\n",
              "  <tbody>\n",
              "    <tr>\n",
              "      <th>DB하이텍</th>\n",
              "      <td>1.000000</td>\n",
              "      <td>0.513497</td>\n",
              "      <td>0.353162</td>\n",
              "      <td>0.494775</td>\n",
              "    </tr>\n",
              "    <tr>\n",
              "      <th>삼성전자</th>\n",
              "      <td>0.513497</td>\n",
              "      <td>1.000000</td>\n",
              "      <td>0.652664</td>\n",
              "      <td>0.346570</td>\n",
              "    </tr>\n",
              "    <tr>\n",
              "      <th>삼성증권</th>\n",
              "      <td>0.353162</td>\n",
              "      <td>0.652664</td>\n",
              "      <td>1.000000</td>\n",
              "      <td>0.239416</td>\n",
              "    </tr>\n",
              "    <tr>\n",
              "      <th>카카오</th>\n",
              "      <td>0.494775</td>\n",
              "      <td>0.346570</td>\n",
              "      <td>0.239416</td>\n",
              "      <td>1.000000</td>\n",
              "    </tr>\n",
              "  </tbody>\n",
              "</table>\n",
              "</div>\n",
              "    <div class=\"colab-df-buttons\">\n",
              "\n",
              "  <div class=\"colab-df-container\">\n",
              "    <button class=\"colab-df-convert\" onclick=\"convertToInteractive('df-3ebfe242-7300-4677-b427-1adae20494c0')\"\n",
              "            title=\"Convert this dataframe to an interactive table.\"\n",
              "            style=\"display:none;\">\n",
              "\n",
              "  <svg xmlns=\"http://www.w3.org/2000/svg\" height=\"24px\" viewBox=\"0 -960 960 960\">\n",
              "    <path d=\"M120-120v-720h720v720H120Zm60-500h600v-160H180v160Zm220 220h160v-160H400v160Zm0 220h160v-160H400v160ZM180-400h160v-160H180v160Zm440 0h160v-160H620v160ZM180-180h160v-160H180v160Zm440 0h160v-160H620v160Z\"/>\n",
              "  </svg>\n",
              "    </button>\n",
              "\n",
              "  <style>\n",
              "    .colab-df-container {\n",
              "      display:flex;\n",
              "      gap: 12px;\n",
              "    }\n",
              "\n",
              "    .colab-df-convert {\n",
              "      background-color: #E8F0FE;\n",
              "      border: none;\n",
              "      border-radius: 50%;\n",
              "      cursor: pointer;\n",
              "      display: none;\n",
              "      fill: #1967D2;\n",
              "      height: 32px;\n",
              "      padding: 0 0 0 0;\n",
              "      width: 32px;\n",
              "    }\n",
              "\n",
              "    .colab-df-convert:hover {\n",
              "      background-color: #E2EBFA;\n",
              "      box-shadow: 0px 1px 2px rgba(60, 64, 67, 0.3), 0px 1px 3px 1px rgba(60, 64, 67, 0.15);\n",
              "      fill: #174EA6;\n",
              "    }\n",
              "\n",
              "    .colab-df-buttons div {\n",
              "      margin-bottom: 4px;\n",
              "    }\n",
              "\n",
              "    [theme=dark] .colab-df-convert {\n",
              "      background-color: #3B4455;\n",
              "      fill: #D2E3FC;\n",
              "    }\n",
              "\n",
              "    [theme=dark] .colab-df-convert:hover {\n",
              "      background-color: #434B5C;\n",
              "      box-shadow: 0px 1px 3px 1px rgba(0, 0, 0, 0.15);\n",
              "      filter: drop-shadow(0px 1px 2px rgba(0, 0, 0, 0.3));\n",
              "      fill: #FFFFFF;\n",
              "    }\n",
              "  </style>\n",
              "\n",
              "    <script>\n",
              "      const buttonEl =\n",
              "        document.querySelector('#df-3ebfe242-7300-4677-b427-1adae20494c0 button.colab-df-convert');\n",
              "      buttonEl.style.display =\n",
              "        google.colab.kernel.accessAllowed ? 'block' : 'none';\n",
              "\n",
              "      async function convertToInteractive(key) {\n",
              "        const element = document.querySelector('#df-3ebfe242-7300-4677-b427-1adae20494c0');\n",
              "        const dataTable =\n",
              "          await google.colab.kernel.invokeFunction('convertToInteractive',\n",
              "                                                    [key], {});\n",
              "        if (!dataTable) return;\n",
              "\n",
              "        const docLinkHtml = 'Like what you see? Visit the ' +\n",
              "          '<a target=\"_blank\" href=https://colab.research.google.com/notebooks/data_table.ipynb>data table notebook</a>'\n",
              "          + ' to learn more about interactive tables.';\n",
              "        element.innerHTML = '';\n",
              "        dataTable['output_type'] = 'display_data';\n",
              "        await google.colab.output.renderOutput(dataTable, element);\n",
              "        const docLink = document.createElement('div');\n",
              "        docLink.innerHTML = docLinkHtml;\n",
              "        element.appendChild(docLink);\n",
              "      }\n",
              "    </script>\n",
              "  </div>\n",
              "\n",
              "\n",
              "    <div id=\"df-dc647f5d-b347-4e11-a9d5-b4f622e53530\">\n",
              "      <button class=\"colab-df-quickchart\" onclick=\"quickchart('df-dc647f5d-b347-4e11-a9d5-b4f622e53530')\"\n",
              "                title=\"Suggest charts\"\n",
              "                style=\"display:none;\">\n",
              "\n",
              "<svg xmlns=\"http://www.w3.org/2000/svg\" height=\"24px\"viewBox=\"0 0 24 24\"\n",
              "     width=\"24px\">\n",
              "    <g>\n",
              "        <path d=\"M19 3H5c-1.1 0-2 .9-2 2v14c0 1.1.9 2 2 2h14c1.1 0 2-.9 2-2V5c0-1.1-.9-2-2-2zM9 17H7v-7h2v7zm4 0h-2V7h2v10zm4 0h-2v-4h2v4z\"/>\n",
              "    </g>\n",
              "</svg>\n",
              "      </button>\n",
              "\n",
              "<style>\n",
              "  .colab-df-quickchart {\n",
              "      --bg-color: #E8F0FE;\n",
              "      --fill-color: #1967D2;\n",
              "      --hover-bg-color: #E2EBFA;\n",
              "      --hover-fill-color: #174EA6;\n",
              "      --disabled-fill-color: #AAA;\n",
              "      --disabled-bg-color: #DDD;\n",
              "  }\n",
              "\n",
              "  [theme=dark] .colab-df-quickchart {\n",
              "      --bg-color: #3B4455;\n",
              "      --fill-color: #D2E3FC;\n",
              "      --hover-bg-color: #434B5C;\n",
              "      --hover-fill-color: #FFFFFF;\n",
              "      --disabled-bg-color: #3B4455;\n",
              "      --disabled-fill-color: #666;\n",
              "  }\n",
              "\n",
              "  .colab-df-quickchart {\n",
              "    background-color: var(--bg-color);\n",
              "    border: none;\n",
              "    border-radius: 50%;\n",
              "    cursor: pointer;\n",
              "    display: none;\n",
              "    fill: var(--fill-color);\n",
              "    height: 32px;\n",
              "    padding: 0;\n",
              "    width: 32px;\n",
              "  }\n",
              "\n",
              "  .colab-df-quickchart:hover {\n",
              "    background-color: var(--hover-bg-color);\n",
              "    box-shadow: 0 1px 2px rgba(60, 64, 67, 0.3), 0 1px 3px 1px rgba(60, 64, 67, 0.15);\n",
              "    fill: var(--button-hover-fill-color);\n",
              "  }\n",
              "\n",
              "  .colab-df-quickchart-complete:disabled,\n",
              "  .colab-df-quickchart-complete:disabled:hover {\n",
              "    background-color: var(--disabled-bg-color);\n",
              "    fill: var(--disabled-fill-color);\n",
              "    box-shadow: none;\n",
              "  }\n",
              "\n",
              "  .colab-df-spinner {\n",
              "    border: 2px solid var(--fill-color);\n",
              "    border-color: transparent;\n",
              "    border-bottom-color: var(--fill-color);\n",
              "    animation:\n",
              "      spin 1s steps(1) infinite;\n",
              "  }\n",
              "\n",
              "  @keyframes spin {\n",
              "    0% {\n",
              "      border-color: transparent;\n",
              "      border-bottom-color: var(--fill-color);\n",
              "      border-left-color: var(--fill-color);\n",
              "    }\n",
              "    20% {\n",
              "      border-color: transparent;\n",
              "      border-left-color: var(--fill-color);\n",
              "      border-top-color: var(--fill-color);\n",
              "    }\n",
              "    30% {\n",
              "      border-color: transparent;\n",
              "      border-left-color: var(--fill-color);\n",
              "      border-top-color: var(--fill-color);\n",
              "      border-right-color: var(--fill-color);\n",
              "    }\n",
              "    40% {\n",
              "      border-color: transparent;\n",
              "      border-right-color: var(--fill-color);\n",
              "      border-top-color: var(--fill-color);\n",
              "    }\n",
              "    60% {\n",
              "      border-color: transparent;\n",
              "      border-right-color: var(--fill-color);\n",
              "    }\n",
              "    80% {\n",
              "      border-color: transparent;\n",
              "      border-right-color: var(--fill-color);\n",
              "      border-bottom-color: var(--fill-color);\n",
              "    }\n",
              "    90% {\n",
              "      border-color: transparent;\n",
              "      border-bottom-color: var(--fill-color);\n",
              "    }\n",
              "  }\n",
              "</style>\n",
              "\n",
              "      <script>\n",
              "        async function quickchart(key) {\n",
              "          const quickchartButtonEl =\n",
              "            document.querySelector('#' + key + ' button');\n",
              "          quickchartButtonEl.disabled = true;  // To prevent multiple clicks.\n",
              "          quickchartButtonEl.classList.add('colab-df-spinner');\n",
              "          try {\n",
              "            const charts = await google.colab.kernel.invokeFunction(\n",
              "                'suggestCharts', [key], {});\n",
              "          } catch (error) {\n",
              "            console.error('Error during call to suggestCharts:', error);\n",
              "          }\n",
              "          quickchartButtonEl.classList.remove('colab-df-spinner');\n",
              "          quickchartButtonEl.classList.add('colab-df-quickchart-complete');\n",
              "        }\n",
              "        (() => {\n",
              "          let quickchartButtonEl =\n",
              "            document.querySelector('#df-dc647f5d-b347-4e11-a9d5-b4f622e53530 button');\n",
              "          quickchartButtonEl.style.display =\n",
              "            google.colab.kernel.accessAllowed ? 'block' : 'none';\n",
              "        })();\n",
              "      </script>\n",
              "    </div>\n",
              "\n",
              "    </div>\n",
              "  </div>\n"
            ],
            "application/vnd.google.colaboratory.intrinsic+json": {
              "type": "dataframe",
              "summary": "{\n  \"name\": \"log_return\",\n  \"rows\": 4,\n  \"fields\": [\n    {\n      \"column\": \"DB\\ud558\\uc774\\ud14d\",\n      \"properties\": {\n        \"dtype\": \"number\",\n        \"std\": 0.2823190120485829,\n        \"min\": 0.35316233870320063,\n        \"max\": 1.0,\n        \"num_unique_values\": 4,\n        \"samples\": [\n          0.5134965499424844,\n          0.4947753588638784,\n          1.0\n        ],\n        \"semantic_type\": \"\",\n        \"description\": \"\"\n      }\n    },\n    {\n      \"column\": \"\\uc0bc\\uc131\\uc804\\uc790\",\n      \"properties\": {\n        \"dtype\": \"number\",\n        \"std\": 0.27767261732615867,\n        \"min\": 0.34656968776168406,\n        \"max\": 1.0,\n        \"num_unique_values\": 4,\n        \"samples\": [\n          1.0,\n          0.34656968776168406,\n          0.5134965499424844\n        ],\n        \"semantic_type\": \"\",\n        \"description\": \"\"\n      }\n    },\n    {\n      \"column\": \"\\uc0bc\\uc131\\uc99d\\uad8c\",\n      \"properties\": {\n        \"dtype\": \"number\",\n        \"std\": 0.3404585136086309,\n        \"min\": 0.2394155230689097,\n        \"max\": 1.0,\n        \"num_unique_values\": 4,\n        \"samples\": [\n          0.6526641415849932,\n          0.2394155230689097,\n          0.35316233870320063\n        ],\n        \"semantic_type\": \"\",\n        \"description\": \"\"\n      }\n    },\n    {\n      \"column\": \"\\uce74\\uce74\\uc624\",\n      \"properties\": {\n        \"dtype\": \"number\",\n        \"std\": 0.3365718644418823,\n        \"min\": 0.2394155230689097,\n        \"max\": 1.0,\n        \"num_unique_values\": 4,\n        \"samples\": [\n          0.34656968776168406,\n          1.0,\n          0.4947753588638784\n        ],\n        \"semantic_type\": \"\",\n        \"description\": \"\"\n      }\n    }\n  ]\n}"
            }
          },
          "metadata": {},
          "execution_count": 14
        }
      ],
      "source": [
        "log_return.corr()"
      ]
    },
    {
      "cell_type": "code",
      "source": [
        "log_return.cov()"
      ],
      "metadata": {
        "colab": {
          "base_uri": "https://localhost:8080/",
          "height": 175
        },
        "id": "nl_PQluPlrDx",
        "outputId": "de763dc2-187d-40dc-fd5a-aed35e5503fe"
      },
      "id": "nl_PQluPlrDx",
      "execution_count": 16,
      "outputs": [
        {
          "output_type": "execute_result",
          "data": {
            "text/plain": [
              "          DB하이텍      삼성전자      삼성증권       카카오\n",
              "DB하이텍  0.001410  0.000403  0.000387  0.000475\n",
              "삼성전자   0.000403  0.000437  0.000398  0.000185\n",
              "삼성증권   0.000387  0.000398  0.000851  0.000179\n",
              "카카오    0.000475  0.000185  0.000179  0.000654"
            ],
            "text/html": [
              "\n",
              "  <div id=\"df-3df108d5-eec8-449a-96fb-4ca14ac0b4f4\" class=\"colab-df-container\">\n",
              "    <div>\n",
              "<style scoped>\n",
              "    .dataframe tbody tr th:only-of-type {\n",
              "        vertical-align: middle;\n",
              "    }\n",
              "\n",
              "    .dataframe tbody tr th {\n",
              "        vertical-align: top;\n",
              "    }\n",
              "\n",
              "    .dataframe thead th {\n",
              "        text-align: right;\n",
              "    }\n",
              "</style>\n",
              "<table border=\"1\" class=\"dataframe\">\n",
              "  <thead>\n",
              "    <tr style=\"text-align: right;\">\n",
              "      <th></th>\n",
              "      <th>DB하이텍</th>\n",
              "      <th>삼성전자</th>\n",
              "      <th>삼성증권</th>\n",
              "      <th>카카오</th>\n",
              "    </tr>\n",
              "  </thead>\n",
              "  <tbody>\n",
              "    <tr>\n",
              "      <th>DB하이텍</th>\n",
              "      <td>0.001410</td>\n",
              "      <td>0.000403</td>\n",
              "      <td>0.000387</td>\n",
              "      <td>0.000475</td>\n",
              "    </tr>\n",
              "    <tr>\n",
              "      <th>삼성전자</th>\n",
              "      <td>0.000403</td>\n",
              "      <td>0.000437</td>\n",
              "      <td>0.000398</td>\n",
              "      <td>0.000185</td>\n",
              "    </tr>\n",
              "    <tr>\n",
              "      <th>삼성증권</th>\n",
              "      <td>0.000387</td>\n",
              "      <td>0.000398</td>\n",
              "      <td>0.000851</td>\n",
              "      <td>0.000179</td>\n",
              "    </tr>\n",
              "    <tr>\n",
              "      <th>카카오</th>\n",
              "      <td>0.000475</td>\n",
              "      <td>0.000185</td>\n",
              "      <td>0.000179</td>\n",
              "      <td>0.000654</td>\n",
              "    </tr>\n",
              "  </tbody>\n",
              "</table>\n",
              "</div>\n",
              "    <div class=\"colab-df-buttons\">\n",
              "\n",
              "  <div class=\"colab-df-container\">\n",
              "    <button class=\"colab-df-convert\" onclick=\"convertToInteractive('df-3df108d5-eec8-449a-96fb-4ca14ac0b4f4')\"\n",
              "            title=\"Convert this dataframe to an interactive table.\"\n",
              "            style=\"display:none;\">\n",
              "\n",
              "  <svg xmlns=\"http://www.w3.org/2000/svg\" height=\"24px\" viewBox=\"0 -960 960 960\">\n",
              "    <path d=\"M120-120v-720h720v720H120Zm60-500h600v-160H180v160Zm220 220h160v-160H400v160Zm0 220h160v-160H400v160ZM180-400h160v-160H180v160Zm440 0h160v-160H620v160ZM180-180h160v-160H180v160Zm440 0h160v-160H620v160Z\"/>\n",
              "  </svg>\n",
              "    </button>\n",
              "\n",
              "  <style>\n",
              "    .colab-df-container {\n",
              "      display:flex;\n",
              "      gap: 12px;\n",
              "    }\n",
              "\n",
              "    .colab-df-convert {\n",
              "      background-color: #E8F0FE;\n",
              "      border: none;\n",
              "      border-radius: 50%;\n",
              "      cursor: pointer;\n",
              "      display: none;\n",
              "      fill: #1967D2;\n",
              "      height: 32px;\n",
              "      padding: 0 0 0 0;\n",
              "      width: 32px;\n",
              "    }\n",
              "\n",
              "    .colab-df-convert:hover {\n",
              "      background-color: #E2EBFA;\n",
              "      box-shadow: 0px 1px 2px rgba(60, 64, 67, 0.3), 0px 1px 3px 1px rgba(60, 64, 67, 0.15);\n",
              "      fill: #174EA6;\n",
              "    }\n",
              "\n",
              "    .colab-df-buttons div {\n",
              "      margin-bottom: 4px;\n",
              "    }\n",
              "\n",
              "    [theme=dark] .colab-df-convert {\n",
              "      background-color: #3B4455;\n",
              "      fill: #D2E3FC;\n",
              "    }\n",
              "\n",
              "    [theme=dark] .colab-df-convert:hover {\n",
              "      background-color: #434B5C;\n",
              "      box-shadow: 0px 1px 3px 1px rgba(0, 0, 0, 0.15);\n",
              "      filter: drop-shadow(0px 1px 2px rgba(0, 0, 0, 0.3));\n",
              "      fill: #FFFFFF;\n",
              "    }\n",
              "  </style>\n",
              "\n",
              "    <script>\n",
              "      const buttonEl =\n",
              "        document.querySelector('#df-3df108d5-eec8-449a-96fb-4ca14ac0b4f4 button.colab-df-convert');\n",
              "      buttonEl.style.display =\n",
              "        google.colab.kernel.accessAllowed ? 'block' : 'none';\n",
              "\n",
              "      async function convertToInteractive(key) {\n",
              "        const element = document.querySelector('#df-3df108d5-eec8-449a-96fb-4ca14ac0b4f4');\n",
              "        const dataTable =\n",
              "          await google.colab.kernel.invokeFunction('convertToInteractive',\n",
              "                                                    [key], {});\n",
              "        if (!dataTable) return;\n",
              "\n",
              "        const docLinkHtml = 'Like what you see? Visit the ' +\n",
              "          '<a target=\"_blank\" href=https://colab.research.google.com/notebooks/data_table.ipynb>data table notebook</a>'\n",
              "          + ' to learn more about interactive tables.';\n",
              "        element.innerHTML = '';\n",
              "        dataTable['output_type'] = 'display_data';\n",
              "        await google.colab.output.renderOutput(dataTable, element);\n",
              "        const docLink = document.createElement('div');\n",
              "        docLink.innerHTML = docLinkHtml;\n",
              "        element.appendChild(docLink);\n",
              "      }\n",
              "    </script>\n",
              "  </div>\n",
              "\n",
              "\n",
              "    <div id=\"df-26661b06-ae9b-436d-9723-89659079e010\">\n",
              "      <button class=\"colab-df-quickchart\" onclick=\"quickchart('df-26661b06-ae9b-436d-9723-89659079e010')\"\n",
              "                title=\"Suggest charts\"\n",
              "                style=\"display:none;\">\n",
              "\n",
              "<svg xmlns=\"http://www.w3.org/2000/svg\" height=\"24px\"viewBox=\"0 0 24 24\"\n",
              "     width=\"24px\">\n",
              "    <g>\n",
              "        <path d=\"M19 3H5c-1.1 0-2 .9-2 2v14c0 1.1.9 2 2 2h14c1.1 0 2-.9 2-2V5c0-1.1-.9-2-2-2zM9 17H7v-7h2v7zm4 0h-2V7h2v10zm4 0h-2v-4h2v4z\"/>\n",
              "    </g>\n",
              "</svg>\n",
              "      </button>\n",
              "\n",
              "<style>\n",
              "  .colab-df-quickchart {\n",
              "      --bg-color: #E8F0FE;\n",
              "      --fill-color: #1967D2;\n",
              "      --hover-bg-color: #E2EBFA;\n",
              "      --hover-fill-color: #174EA6;\n",
              "      --disabled-fill-color: #AAA;\n",
              "      --disabled-bg-color: #DDD;\n",
              "  }\n",
              "\n",
              "  [theme=dark] .colab-df-quickchart {\n",
              "      --bg-color: #3B4455;\n",
              "      --fill-color: #D2E3FC;\n",
              "      --hover-bg-color: #434B5C;\n",
              "      --hover-fill-color: #FFFFFF;\n",
              "      --disabled-bg-color: #3B4455;\n",
              "      --disabled-fill-color: #666;\n",
              "  }\n",
              "\n",
              "  .colab-df-quickchart {\n",
              "    background-color: var(--bg-color);\n",
              "    border: none;\n",
              "    border-radius: 50%;\n",
              "    cursor: pointer;\n",
              "    display: none;\n",
              "    fill: var(--fill-color);\n",
              "    height: 32px;\n",
              "    padding: 0;\n",
              "    width: 32px;\n",
              "  }\n",
              "\n",
              "  .colab-df-quickchart:hover {\n",
              "    background-color: var(--hover-bg-color);\n",
              "    box-shadow: 0 1px 2px rgba(60, 64, 67, 0.3), 0 1px 3px 1px rgba(60, 64, 67, 0.15);\n",
              "    fill: var(--button-hover-fill-color);\n",
              "  }\n",
              "\n",
              "  .colab-df-quickchart-complete:disabled,\n",
              "  .colab-df-quickchart-complete:disabled:hover {\n",
              "    background-color: var(--disabled-bg-color);\n",
              "    fill: var(--disabled-fill-color);\n",
              "    box-shadow: none;\n",
              "  }\n",
              "\n",
              "  .colab-df-spinner {\n",
              "    border: 2px solid var(--fill-color);\n",
              "    border-color: transparent;\n",
              "    border-bottom-color: var(--fill-color);\n",
              "    animation:\n",
              "      spin 1s steps(1) infinite;\n",
              "  }\n",
              "\n",
              "  @keyframes spin {\n",
              "    0% {\n",
              "      border-color: transparent;\n",
              "      border-bottom-color: var(--fill-color);\n",
              "      border-left-color: var(--fill-color);\n",
              "    }\n",
              "    20% {\n",
              "      border-color: transparent;\n",
              "      border-left-color: var(--fill-color);\n",
              "      border-top-color: var(--fill-color);\n",
              "    }\n",
              "    30% {\n",
              "      border-color: transparent;\n",
              "      border-left-color: var(--fill-color);\n",
              "      border-top-color: var(--fill-color);\n",
              "      border-right-color: var(--fill-color);\n",
              "    }\n",
              "    40% {\n",
              "      border-color: transparent;\n",
              "      border-right-color: var(--fill-color);\n",
              "      border-top-color: var(--fill-color);\n",
              "    }\n",
              "    60% {\n",
              "      border-color: transparent;\n",
              "      border-right-color: var(--fill-color);\n",
              "    }\n",
              "    80% {\n",
              "      border-color: transparent;\n",
              "      border-right-color: var(--fill-color);\n",
              "      border-bottom-color: var(--fill-color);\n",
              "    }\n",
              "    90% {\n",
              "      border-color: transparent;\n",
              "      border-bottom-color: var(--fill-color);\n",
              "    }\n",
              "  }\n",
              "</style>\n",
              "\n",
              "      <script>\n",
              "        async function quickchart(key) {\n",
              "          const quickchartButtonEl =\n",
              "            document.querySelector('#' + key + ' button');\n",
              "          quickchartButtonEl.disabled = true;  // To prevent multiple clicks.\n",
              "          quickchartButtonEl.classList.add('colab-df-spinner');\n",
              "          try {\n",
              "            const charts = await google.colab.kernel.invokeFunction(\n",
              "                'suggestCharts', [key], {});\n",
              "          } catch (error) {\n",
              "            console.error('Error during call to suggestCharts:', error);\n",
              "          }\n",
              "          quickchartButtonEl.classList.remove('colab-df-spinner');\n",
              "          quickchartButtonEl.classList.add('colab-df-quickchart-complete');\n",
              "        }\n",
              "        (() => {\n",
              "          let quickchartButtonEl =\n",
              "            document.querySelector('#df-26661b06-ae9b-436d-9723-89659079e010 button');\n",
              "          quickchartButtonEl.style.display =\n",
              "            google.colab.kernel.accessAllowed ? 'block' : 'none';\n",
              "        })();\n",
              "      </script>\n",
              "    </div>\n",
              "\n",
              "    </div>\n",
              "  </div>\n"
            ],
            "application/vnd.google.colaboratory.intrinsic+json": {
              "type": "dataframe",
              "summary": "{\n  \"name\": \"log_return\",\n  \"rows\": 4,\n  \"fields\": [\n    {\n      \"column\": \"DB\\ud558\\uc774\\ud14d\",\n      \"properties\": {\n        \"dtype\": \"number\",\n        \"std\": 0.0004958456300882954,\n        \"min\": 0.0003868824413694666,\n        \"max\": 0.0014104978719764762,\n        \"num_unique_values\": 4,\n        \"samples\": [\n          0.0004032115776213993,\n          0.0004752584821825122,\n          0.0014104978719764762\n        ],\n        \"semantic_type\": \"\",\n        \"description\": \"\"\n      }\n    },\n    {\n      \"column\": \"\\uc0bc\\uc131\\uc804\\uc790\",\n      \"properties\": {\n        \"dtype\": \"number\",\n        \"std\": 0.00011504878773344255,\n        \"min\": 0.00018532560123142897,\n        \"max\": 0.0004371379307580763,\n        \"num_unique_values\": 4,\n        \"samples\": [\n          0.0004371379307580763,\n          0.00018532560123142897,\n          0.0004032115776213993\n        ],\n        \"semantic_type\": \"\",\n        \"description\": \"\"\n      }\n    },\n    {\n      \"column\": \"\\uc0bc\\uc131\\uc99d\\uad8c\",\n      \"properties\": {\n        \"dtype\": \"number\",\n        \"std\": 0.0002833965816057935,\n        \"min\": 0.00017861022602107344,\n        \"max\": 0.0008508183264795094,\n        \"num_unique_values\": 4,\n        \"samples\": [\n          0.00039803147553508334,\n          0.00017861022602107344,\n          0.0003868824413694666\n        ],\n        \"semantic_type\": \"\",\n        \"description\": \"\"\n      }\n    },\n    {\n      \"column\": \"\\uce74\\uce74\\uc624\",\n      \"properties\": {\n        \"dtype\": \"number\",\n        \"std\": 0.00023274129230973375,\n        \"min\": 0.00017861022602107344,\n        \"max\": 0.0006541407328429871,\n        \"num_unique_values\": 4,\n        \"samples\": [\n          0.00018532560123142897,\n          0.0006541407328429871,\n          0.0004752584821825122\n        ],\n        \"semantic_type\": \"\",\n        \"description\": \"\"\n      }\n    }\n  ]\n}"
            }
          },
          "metadata": {},
          "execution_count": 16
        }
      ]
    },
    {
      "cell_type": "markdown",
      "id": "2a5d8498",
      "metadata": {
        "id": "2a5d8498"
      },
      "source": [
        "## Method 1 - Monte Carlo Simulation\n",
        "\n",
        "- 가능한 allocation 의 조합을 loop 로 반복하여 최적의 조합 (Highest Sharpe ratio) 을 찾는다.\n",
        "\n",
        "\n",
        "$$Portfolio \\ SR = \\frac{(포트폴리오 \\ 기대수익률 - 무위험수익률)}{포트폴리오\\  기대수익률과 \\ 무위험수익률\\  공분산의 \\ 표준편차}$$\n",
        "\n",
        "$$SR=\\frac{R_p - R_f}{\\sigma_p}$$\n",
        "\n"
      ]
    },
    {
      "cell_type": "markdown",
      "id": "bc5f575a",
      "metadata": {
        "id": "bc5f575a"
      },
      "source": [
        "위의 자산을 1/4 씩 동일 비중으로 포트폴리오 구성한 경우 portfolio 의 샤프 비율 계산"
      ]
    },
    {
      "cell_type": "code",
      "execution_count": 15,
      "id": "4620b07e",
      "metadata": {
        "id": "4620b07e"
      },
      "outputs": [],
      "source": [
        "weights = np.array([0.25, 0.25, 0.25, 0.25])"
      ]
    },
    {
      "cell_type": "markdown",
      "id": "e67c16f6",
      "metadata": {
        "id": "e67c16f6"
      },
      "source": [
        "**포트폴리오의 연간 covariance**\n",
        "\n",
        "공분산(covariance)은 두 주식의 수익률 변동이 어떻게 관련되어 있는지 측정하는 지표입니다. 이 경우, 공분산은 제곱 단위으로 측정되므로 연간화할 때 제곱근을 사용하지 않고 거래일 수(일반적으로 252일)를 곱합니다.  \n",
        "\n",
        "np.dot( ..., weights)는 두 배열의 내적을 계산합니다. 연간 공분산 행렬과 각 주식의 비중(weights)을 곱하여 포트폴리오 전체의 공분산을 계산합니다."
      ]
    },
    {
      "cell_type": "code",
      "execution_count": 17,
      "id": "77dd4adf",
      "metadata": {
        "id": "77dd4adf",
        "colab": {
          "base_uri": "https://localhost:8080/"
        },
        "outputId": "f1031de9-b6e9-4016-f36c-b36d96c3ca64"
      },
      "outputs": [
        {
          "output_type": "execute_result",
          "data": {
            "text/plain": [
              "array([0.16857857, 0.08969351, 0.11430358, 0.09408011])"
            ]
          },
          "metadata": {},
          "execution_count": 17
        }
      ],
      "source": [
        "# 로그 수익률(log_ret) 데이터에서 연간 공분산 행렬을 계산한 후, 포트폴리오 가중치(weights)와 곱하여 전체 포트폴리오의 공분산을 계산합니다.\n",
        "# log_ret.cov()는 로그 수익률의 공분산 행렬을 계산합니다.\n",
        "# * 252는 주식시장이 1년에 252일 거래되기 때문에 연간 공분산을 계산하기 위한 보정입니다.\n",
        "# np.dot()는 두 배열의 내적을 계산하는 함수로, 연간 공분산 행렬과 포트폴리오 가중치(weights)의 내적을 구합니다.\n",
        "\n",
        "cov = np.dot(log_return.cov() * 252, weights)\n",
        "cov"
      ]
    },
    {
      "cell_type": "markdown",
      "id": "cef52317",
      "metadata": {
        "id": "cef52317"
      },
      "source": [
        "**포트폴리오의 연간 수익률 계산**\n",
        "\n",
        "각 주식의 평균 로그 수익률에 그 주식이 포트폴리오에서 차지하는 비중을 곱한 후, 이를 모두 더하여(np.sum) 주식 포트폴리오의 일별 예상 수익률을 얻습니다. 그 후, 이 일별 예상 수익률을 연간화하기 위해 252를 곱합니다."
      ]
    },
    {
      "cell_type": "code",
      "execution_count": 20,
      "id": "9087152d",
      "metadata": {
        "id": "9087152d",
        "colab": {
          "base_uri": "https://localhost:8080/"
        },
        "outputId": "bccfa9a8-f29a-4918-ee45-ff55635de2d4"
      },
      "outputs": [
        {
          "output_type": "execute_result",
          "data": {
            "text/plain": [
              "np.float64(0.5077819881560465)"
            ]
          },
          "metadata": {},
          "execution_count": 20
        }
      ],
      "source": [
        "# 로그 수익률(log_ret)의 평균 수익률과 가중치(weights)를 곱하여 포트폴리오의 기대 수익률을 계산합니다.\n",
        "# log_ret.mean()은 각 자산의 평균 로그 수익률을 계산합니다.\n",
        "# * weights는 각 자산에 할당된 가중치를 반영하여 가중합을 구합니다.\n",
        "# * 252는 주식시장이 1년에 252일 거래되기 때문에, 일간 수익률을 연간 수익률로 변환하기 위한 보정입니다.\n",
        "ret = np.sum(log_return.mean() * weights) * 252\n",
        "ret"
      ]
    },
    {
      "cell_type": "markdown",
      "id": "85cfe914",
      "metadata": {
        "id": "85cfe914"
      },
      "source": [
        "**포트폴리오의 연간 변동성 계산**\n",
        "\n",
        "'np.dot(weights.T, cov)'는 가중치 벡터와 공분산 행렬의 내적을 계산하는 것으로, 이 값은 포트폴리오의 분산을 나타냅니다.\n",
        "\n",
        "이 분산 값에 'np.sqrt' 함수를 적용하여 포트폴리오의 표준편차(또는 변동성)을 계산합니다. 이 값은 포트폴리오의 위험을 나타내며, 값이 클수록 포트폴리오의 위험이 크다는 것을 의미합니다."
      ]
    },
    {
      "cell_type": "code",
      "execution_count": 21,
      "id": "75206fb1",
      "metadata": {
        "id": "75206fb1",
        "colab": {
          "base_uri": "https://localhost:8080/"
        },
        "outputId": "aa377d72-3b5e-4f01-9bda-5a3fe4e94182"
      },
      "outputs": [
        {
          "output_type": "execute_result",
          "data": {
            "text/plain": [
              "np.float64(0.34156103832575646)"
            ]
          },
          "metadata": {},
          "execution_count": 21
        }
      ],
      "source": [
        "# 포트폴리오의 연간 변동성(위험)을 계산합니다.\n",
        "# weights.T는 포트폴리오 가중치 벡터의 전치 행렬(transpose)입니다.\n",
        "# np.dot(weights.T, cov)은 포트폴리오 가중치와 공분산 행렬(cov)의 내적을 계산하여 포트폴리오의 분산을 구합니다.\n",
        "# np.sqrt()는 이 값을 제곱근으로 변환하여 포트폴리오의 변동성(volatility, vol)을 계산합니다.\n",
        "vol = np.sqrt(np.dot(weights.T, cov))\n",
        "vol"
      ]
    },
    {
      "cell_type": "markdown",
      "id": "97c84eba",
      "metadata": {
        "id": "97c84eba"
      },
      "source": [
        "**포트폴리오의 샤프지수**"
      ]
    },
    {
      "cell_type": "code",
      "execution_count": 22,
      "id": "11746646",
      "metadata": {
        "id": "11746646",
        "colab": {
          "base_uri": "https://localhost:8080/"
        },
        "outputId": "d1bf4a9c-f834-4bb1-b8a4-257051c1561d"
      },
      "outputs": [
        {
          "output_type": "execute_result",
          "data": {
            "text/plain": [
              "np.float64(1.4866507920372358)"
            ]
          },
          "metadata": {},
          "execution_count": 22
        }
      ],
      "source": [
        "# 포트폴리오의 수익률 대비 변동성 비율을 계산\n",
        "# ret은 포트폴리오의 연간 기대 수익률을 의미하고, vol은 포트폴리오의 연간 변동성(위험)을 의미\n",
        "# ret / vol은 변동성(위험) 한 단위당 기대 수익률을 나타내며, 이는 포트폴리오의 효율성을 평가하는 지표로 사용됩니다.\n",
        "# 수익률 대비 변동성 비율을 출력합니다.\n",
        "performance_ratio = ret / vol\n",
        "performance_ratio"
      ]
    },
    {
      "cell_type": "markdown",
      "id": "4ea784fe",
      "metadata": {
        "id": "4ea784fe"
      },
      "source": [
        "### 모든 내용을 집합하여 샤프비율 계산 함수 작성\n",
        "    반환값 - 연간 기대 수익률, 연간 covariance, sharp ratio 반환"
      ]
    },
    {
      "cell_type": "code",
      "execution_count": 23,
      "id": "96e59354",
      "metadata": {
        "id": "96e59354"
      },
      "outputs": [],
      "source": [
        "def get_ret_vol_sr(weights, log_return):\n",
        "    # 가중치를 numpy array로 변환\n",
        "    weights = np.array(weights)\n",
        "\n",
        "\n",
        "    # 각 주식의 로그 수익률에 대한 공분산을 계산하고, 가중치를 곱한 후 연간화\n",
        "    cov = np.dot(log_return.cov() * 252, weights)\n",
        "\n",
        "    # 각 주식의 평균 로그 수익률에 가중치를 곱한 후 합산하여 포트폴리오의 일별 예상 수익률을 구하고, 이를 연간화\n",
        "    ret = np.sum(log_return.mean() * weights) * 252\n",
        "\n",
        "    # 포트폴리오의 분산을 계산한 후, 이의 제곱근을 구하여 포트폴리오의 변동성(표준편차)를 계산\n",
        "    vol = np.sqrt(np.dot(weights.T, cov))\n",
        "\n",
        "    # 포트폴리오의 수익률을 변동성으로 나누어 샤프 지수를 계산\n",
        "    sr = ret / vol\n",
        "\n",
        "    # 수익률, 변동성, 샤프 지수를 원소로 하는 numpy array를 반환\n",
        "    return np.array([ret, vol, sr])"
      ]
    },
    {
      "cell_type": "code",
      "execution_count": 24,
      "id": "ce1189b1",
      "metadata": {
        "id": "ce1189b1",
        "colab": {
          "base_uri": "https://localhost:8080/"
        },
        "outputId": "365324aa-1dc3-4691-a77f-9223d65f5f31"
      },
      "outputs": [
        {
          "output_type": "execute_result",
          "data": {
            "text/plain": [
              "array([0.50778199, 0.34156104, 1.48665079])"
            ]
          },
          "metadata": {},
          "execution_count": 24
        }
      ],
      "source": [
        "get_ret_vol_sr(weights, log_return)"
      ]
    },
    {
      "cell_type": "markdown",
      "id": "8b7c93bd",
      "metadata": {
        "id": "8b7c93bd"
      },
      "source": [
        "**MC Simulation - 각 자산의 비중을 무작위로 선택하여 특정 자산 비중에서의 연간 수익률, 변동성, 샤프비율 계산**\n",
        "\n",
        "주어진 주식 포트폴리오에 대해 각각 랜덤한 가중치를 할당하여 해당 가중치에서의 예상 수익률, 변동성, 샤프 지수를 계산하고, 이를 각각의 배열에 저장하는 과정을 반복적으로 수행합니다. 이렇게 하면 랜덤한 가중치 조합에 대한 포트폴리오 성능을 시뮬레이션하여 최적의 포트폴리오를 탐색하는 데 도움이 됩니다."
      ]
    },
    {
      "cell_type": "code",
      "execution_count": 25,
      "id": "edf2d00a",
      "metadata": {
        "id": "edf2d00a"
      },
      "outputs": [],
      "source": [
        "# 랜덤 시드 설정\n",
        "np.random.seed(101)\n",
        "\n",
        "# 주식의 개수를 구합니다.\n",
        "cols = len(log_return.columns)\n",
        "\n",
        "# 반복 횟수 설정\n",
        "iteration = 50_000\n",
        "\n",
        "# 결과를 저장할 배열 초기화\n",
        "all_weights = np.zeros((iteration, cols))\n",
        "ret_arr = np.zeros(iteration)\n",
        "vol_arr = np.zeros(iteration)\n",
        "sharpe_arr = np.zeros(iteration)\n",
        "\n",
        "# 반복 횟수만큼 반복\n",
        "for i in range(iteration):\n",
        "    # 각 주식에 대한 가중치를 랜덤하게 생성\n",
        "    weights = np.random.random(cols)\n",
        "\n",
        "    # 가중치의 합이 1이 되도록 스케일링\n",
        "    weights = weights / np.sum(weights)\n",
        "\n",
        "    # 이번 반복에서의 가중치 저장\n",
        "    all_weights[i, :] = weights\n",
        "\n",
        "    # 주어진 가중치에서의 수익률, 변동성, 샤프 지수 계산\n",
        "    rvs = get_ret_vol_sr(weights, log_return)\n",
        "\n",
        "    # 결과 저장\n",
        "    ret_arr[i] = rvs[0]\n",
        "    vol_arr[i] = rvs[1]\n",
        "    sharpe_arr[i] = rvs[2]"
      ]
    },
    {
      "cell_type": "code",
      "execution_count": 26,
      "id": "b7680eff",
      "metadata": {
        "id": "b7680eff",
        "colab": {
          "base_uri": "https://localhost:8080/"
        },
        "outputId": "b34561f6-8271-4c4f-c0a8-7bfb76c81389"
      },
      "outputs": [
        {
          "output_type": "execute_result",
          "data": {
            "text/plain": [
              "array([1.46645523, 1.76652878, 1.27942786, ..., 1.55566596, 1.40503513,\n",
              "       1.37748793])"
            ]
          },
          "metadata": {},
          "execution_count": 26
        }
      ],
      "source": [
        "sharpe_arr"
      ]
    },
    {
      "cell_type": "markdown",
      "id": "9aab4fa5",
      "metadata": {
        "id": "9aab4fa5"
      },
      "source": [
        "- 최적 샤프 비율 (highest sharpe ratio)을 구하고, 그 때의 최적 자산 배분 비율을 구함"
      ]
    },
    {
      "cell_type": "code",
      "execution_count": 27,
      "id": "66103d24",
      "metadata": {
        "id": "66103d24",
        "colab": {
          "base_uri": "https://localhost:8080/"
        },
        "outputId": "d8709ba5-e71d-4d6f-d30c-45f9fa9d0cc4"
      },
      "outputs": [
        {
          "output_type": "execute_result",
          "data": {
            "text/plain": [
              "np.float64(2.3860838689567987)"
            ]
          },
          "metadata": {},
          "execution_count": 27
        }
      ],
      "source": [
        "# MC method 에 의해 simulation 한 최적 sharpe ratio\n",
        "sharpe_arr.max()"
      ]
    },
    {
      "cell_type": "code",
      "source": [
        "max_idx = sharpe_arr.argmax()"
      ],
      "metadata": {
        "id": "-tyGF4xMpdEh"
      },
      "id": "-tyGF4xMpdEh",
      "execution_count": 31,
      "outputs": []
    },
    {
      "cell_type": "code",
      "source": [
        "sharpe_arr[13988]"
      ],
      "metadata": {
        "colab": {
          "base_uri": "https://localhost:8080/"
        },
        "id": "z-VWu8yapgVP",
        "outputId": "47503a56-e233-4683-9839-a3f82f4c08f6"
      },
      "id": "z-VWu8yapgVP",
      "execution_count": 29,
      "outputs": [
        {
          "output_type": "execute_result",
          "data": {
            "text/plain": [
              "np.float64(2.3860838689567987)"
            ]
          },
          "metadata": {},
          "execution_count": 29
        }
      ]
    },
    {
      "cell_type": "markdown",
      "id": "47e30b02",
      "metadata": {
        "id": "47e30b02"
      },
      "source": [
        "최적 Sharpe ratio 일 때의 daily return 과 volatility, 최적 portfolio 비율"
      ]
    },
    {
      "cell_type": "code",
      "execution_count": 32,
      "id": "7b6f0b24",
      "metadata": {
        "id": "7b6f0b24",
        "colab": {
          "base_uri": "https://localhost:8080/"
        },
        "outputId": "45bcc967-eec8-4046-d596-86ce0dea80d5"
      },
      "outputs": [
        {
          "output_type": "stream",
          "name": "stdout",
          "text": [
            "return = 0.8642663867488267\n",
            "volatility = 0.36221123573778063\n",
            "최적 자산 배분 비율 = ['DB하이텍' '삼성전자' '삼성증권' '카카오'] : [0.00079 0.16159 0.00088 0.83674]\n"
          ]
        }
      ],
      "source": [
        "print('return = {}'.format(ret_arr[max_idx]))\n",
        "print('volatility = {}'.format(vol_arr[max_idx]))\n",
        "\n",
        "with np.printoptions(precision=5, suppress=True):\n",
        "    print('최적 자산 배분 비율 = {} : {}'.format(log_return.columns.values, all_weights[max_idx]))"
      ]
    },
    {
      "cell_type": "markdown",
      "id": "be1b9b9f",
      "metadata": {
        "id": "be1b9b9f"
      },
      "source": [
        "- 포트폴리오 조합 및 최적 포트폴리오 시각화"
      ]
    },
    {
      "cell_type": "code",
      "execution_count": 37,
      "id": "8d3325d1",
      "metadata": {
        "id": "8d3325d1",
        "colab": {
          "base_uri": "https://localhost:8080/",
          "height": 558
        },
        "outputId": "c66f0c5b-a5ff-4f39-8ed6-b768e82a4a54"
      },
      "outputs": [
        {
          "output_type": "execute_result",
          "data": {
            "text/plain": [
              "[<matplotlib.lines.Line2D at 0x7a3526530b50>]"
            ]
          },
          "metadata": {},
          "execution_count": 37
        },
        {
          "output_type": "display_data",
          "data": {
            "text/plain": [
              "<Figure size 800x600 with 2 Axes>"
            ],
            "image/png": "[encoded data removed]"
          },
          "metadata": {}
        }
      ],
      "source": [
        "plt.figure(figsize=(8, 6))\n",
        "\n",
        "# 포트폴리오의 변동성(vol_arr)과 수익률(ret_arr)을 산점도로 시각화합니다.\n",
        "plt.scatter(vol_arr, ret_arr, c=sharpe_arr, marker='.', cmap='plasma')\n",
        "\n",
        "# c=sharpe_arr는 샤프 비율 배열을 색으로 사용하여 각 포트폴리오의 효율성을 시각적으로 나타냅니다.\n",
        "plt.colorbar(label='Sharpe Ratio')\n",
        "# marker='.'는 점으로 표시, cmap='plasma'는 색상 팔레트를 설정합니다.\n",
        "# 색상 바를 추가하여 샤프 비율(Sharpe Ratio)을 시각적으로 표시합니다.\n",
        "# 그리드를 추가하여 그래프를 보기 쉽게 만듭니다.\n",
        "plt.grid()\n",
        "# x축 레이블을 'Volatility'(변동성)으로 설정합니다.\n",
        "plt.xlabel('Volatility')\n",
        "# y축 레이블을 'Return'(수익률)으로 설정합니다.\n",
        "plt.ylabel('Return')\n",
        "# 최적의 포트폴리오를 표시합니다.\n",
        "# 최적 포트폴리오는 샤프 비율이 가장 높은 포트폴리오로, 그 좌표(vol_arr[max_idx], ret_arr[max_idx])를 빨간색 원('ro')으로 표시합니다.\n",
        "# markeredgecolor='k'는 마커의 테두리를 검은색으로 설정, markersize=10은 마커의 크기를 10으로 설정합니다.\n",
        "plt.plot(vol_arr[max_idx], ret_arr[max_idx], 'ro', markeredgecolor = 'k', markersize=10)"
      ]
    },
    {
      "cell_type": "markdown",
      "id": "0c73f4c2",
      "metadata": {
        "id": "0c73f4c2"
      },
      "source": [
        "## Method 2 - Scipy 를 이용한 수학적 최적화 (Mathematical Optimization)\n",
        "\n",
        "수학적 최적화는 주어진 제약 조건 아래에서 목표 함수를 최대화 또는 최소화하는 입력 값(변수)을 찾는 과정입니다. 예를 들어, 포트폴리오 최적화에서 목표 함수는 샤프 지수(포트폴리오의 예상 수익률을 변동성으로 나눈 값)이며, 제약 조건은 포트폴리오의 총 가중치가 1이 되어야 한다는 것입니다.\n",
        "\n",
        "Scipy는 수치 계산을 위한 파이썬 라이브러리로, 여러 종류의 최적화 알고리즘을 제공합니다. `scipy.optimize` 모듈에서 이 알고리즘들을 사용할 수 있습니다. 이 알고리즘들은 목표 함수와 초기 점, 제약 조건 등을 입력으로 받아 최적의 해를 찾아냅니다.\n",
        "\n",
        "포트폴리오 최적화에서는 다음과 같은 과정으로 진행됩니다:\n",
        "\n",
        "1. 목표 함수 정의: 샤프 지수를 최대화하는 것이 목표입니다. 이를 위해 예상 수익률, 변동성 등을 계산하는 함수를 정의합니다.\n",
        "2. 초기 점 설정: 최적화 알고리즘은 초기 점에서 시작해 최적의 해를 찾아냅니다. 주식의 가중치를 동일하게 설정하는 것이 일반적입니다.\n",
        "3. 제약 조건 설정: 포트폴리오의 총 가중치가 1이 되도록 제약 조건을 설정합니다.\n",
        "4. 최적화: Scipy의 최적화 함수를 호출하여 최적의 해를 찾습니다. 이때 목표 함수, 초기 점, 제약 조건 등을 입력으로 제공합니다.\n",
        "\n",
        "이렇게 하면 최적의 포트폴리오, 즉 샤프 지수를 최대화하는 주식의 가중치를 찾을 수 있습니다. 이를 통해 포트폴리오의 수익률을 최대한 높이고 변동성을 최소화하는 투자 전략을 수립할 수 있습니다."
      ]
    },
    {
      "cell_type": "markdown",
      "id": "7cef4887",
      "metadata": {
        "id": "7cef4887"
      },
      "source": [
        "**Sharpe ratio 의 maximize 를 minimize 함수로 하므로 sharpe ratio * (-1) 을 minimize 하는 trick 을 이용한다.**"
      ]
    },
    {
      "cell_type": "code",
      "execution_count": 40,
      "id": "34e16d4c",
      "metadata": {
        "id": "34e16d4c",
        "colab": {
          "base_uri": "https://localhost:8080/"
        },
        "outputId": "64ec4b86-fbce-4947-e4a1-3e78e35729a6"
      },
      "outputs": [
        {
          "output_type": "execute_result",
          "data": {
            "text/plain": [
              " message: Optimization terminated successfully\n",
              " success: True\n",
              "  status: 0\n",
              "     fun: -2.387747822387655\n",
              "       x: [ 1.393e-17  1.853e-01  1.031e-16  8.147e-01]\n",
              "     nit: 6\n",
              "     jac: [ 4.574e-01 -1.583e-03  8.446e-01  3.582e-04]\n",
              "    nfev: 31\n",
              "    njev: 6"
            ]
          },
          "metadata": {},
          "execution_count": 40
        }
      ],
      "source": [
        "from scipy.optimize import minimize\n",
        "\n",
        "# 목적 함수 정의 - 샤프비율 최대화\n",
        "\n",
        "# weights는 각 자산의 비중을 나타냅니다.\n",
        "# get_ret_vol_sr 함수는 수익률, 변동성, 샤프 비율을 반환하는 함수로,\n",
        "# [2]는 샤프 비율을 의미합니다. 샤프 비율을 최대화하기 위해 음수를 반환합니다.\n",
        "# 최적화 과정에서 최소화를 수행하므로 샤프 비율을 최대화하려면 음수로 변환하여 최소화합니다.\n",
        "def neg_sharpe(weights):\n",
        "  return get_ret_vol_sr(weights, log_return)[2] * -1\n",
        "\n",
        "# 제약 조건 함수 정의\n",
        "# 각 자산의 비중(weights)의 합이 1이어야 함을 보장합니다.\n",
        "def check_sum(weights):\n",
        "    # 자산 비중의 합이 1이면 0을 반환하여 제약 조건을 만족시킵니다.\n",
        "    return np.sum(weights) - 1\n",
        "\n",
        "# 제약 조건 설정\n",
        "# 'eq'는 방정식 제약 조건을 의미하며, 자산 비중 합이 1이어야 함을 의미합니다.\n",
        "cons = ({'type': 'eq', 'fun': check_sum})\n",
        "\n",
        "# 각 자산의 비중에 대한 경계 설정\n",
        "# 각 자산의 비중은 최소 0에서 최대 1 사이로 제한됩니다.\n",
        "bounds = tuple((0, 1) for _ in log_return.columns)\n",
        "\n",
        "# 각 자산의 초기 비중을 동일하게 설정\n",
        "x0 = [1/len(log_return.columns) for _ in log_return.columns]\n",
        "\n",
        "# 자산의 초기 비중을 동일하게 설정하여, 각 자산에 대해 1/자산 수만큼의 비중을 할당합니다.\n",
        "# scipy의 minimize 함수를 사용하여 최적화 수행\n",
        "# neg_sharpe 함수는 최소화할 대상 함수이고,\n",
        "# x0는 초기 비중, method는 SLSQP(Sequential Least Squares Programming) 알고리즘을 사용,\n",
        "# bounds는 자산 비중의 경계, constraints는 제약 조건을 나타냅니다.\n",
        "opt_results = minimize(neg_sharpe, x0, method='SLSQP', bounds=bounds, constraints=cons)\n",
        "\n",
        "# 최적화 결과를 출력합니다.\n",
        "opt_results"
      ]
    },
    {
      "cell_type": "markdown",
      "id": "72cc95f4",
      "metadata": {
        "id": "72cc95f4"
      },
      "source": [
        "- x: objective function을 minimize (Sharpe Ratio를 최대화)하는 x 값 (asset weights)\n",
        "- fun : 최적화 알고리즘이 찾은 최적 해에서의 목표 함수(neg_sharpe)의 값. 즉, 최적화된 포트폴리오에서의 샤프 비율의 음수"
      ]
    },
    {
      "cell_type": "markdown",
      "id": "e913677c",
      "metadata": {
        "id": "e913677c"
      },
      "source": [
        "- MC method로 구한 결과와 수학적 optimize 결과가 유사하면 successful result 이다."
      ]
    },
    {
      "cell_type": "code",
      "execution_count": 41,
      "id": "5cd1c52b",
      "metadata": {
        "id": "5cd1c52b",
        "colab": {
          "base_uri": "https://localhost:8080/"
        },
        "outputId": "68bea024-47ea-4696-b15a-56a959d364b2"
      },
      "outputs": [
        {
          "output_type": "stream",
          "name": "stdout",
          "text": [
            "scipy를 이용한 최적 자산 비중 = ['DB하이텍' '삼성전자' '삼성증권' '카카오'] : [0.      0.18533 0.      0.81467]\n",
            "MC를 이용한 최적 자산 비중    = ['DB하이텍' '삼성전자' '삼성증권' '카카오'] : [0.00079 0.16159 0.00088 0.83674]\n"
          ]
        }
      ],
      "source": [
        "with np.printoptions(precision=5, suppress=True):\n",
        "    print('scipy를 이용한 최적 자산 비중 = {} : {}'.format(log_return.columns.values, opt_results.x))\n",
        "    print('MC를 이용한 최적 자산 비중    = {} : {}'.format(log_return.columns.values, all_weights[max_idx]))"
      ]
    },
    {
      "cell_type": "markdown",
      "id": "0f04ba09",
      "metadata": {
        "id": "0f04ba09"
      },
      "source": [
        "- optimum asset weights 일 때의 return, volatility, sharpe ratio 구하기"
      ]
    },
    {
      "cell_type": "code",
      "source": [
        "opt_rvs = get_ret_vol_sr(opt_results.x, log_return)\n",
        "\n",
        "with np.printoptions(precision=3, suppress=True):\n",
        "    print('최적 자산 비중 {}: {} 일 때'.format(log_return.columns.values, opt_results.x))\n",
        "    print('최적 Sharpe Ratio = {:.3f}'.format(opt_rvs[2]))\n",
        "    print('최적 SR일 때의 수익률 = {:.3f}'.format(opt_rvs[0]))\n",
        "    print('최적 SR일 때의 변동성 = {:.3f}'.format(opt_rvs[1]))"
      ],
      "metadata": {
        "colab": {
          "base_uri": "https://localhost:8080/"
        },
        "id": "9vhKtKsnweTn",
        "outputId": "f29a4dec-9e75-4d81-b16d-b202ee2c7a2f"
      },
      "id": "9vhKtKsnweTn",
      "execution_count": 50,
      "outputs": [
        {
          "output_type": "stream",
          "name": "stdout",
          "text": [
            "최적 자산 비중 ['DB하이텍' '삼성전자' '삼성증권' '카카오']: [0.    0.185 0.    0.815] 일 때\n",
            "최적 Sharpe Ratio = 2.388\n",
            "최적 SR일 때의 수익률 = 0.852\n",
            "최적 SR일 때의 변동성 = 0.357\n"
          ]
        }
      ]
    },
    {
      "cell_type": "markdown",
      "id": "ea8c1d86",
      "metadata": {
        "id": "ea8c1d86"
      },
      "source": [
        "## Efficient Frontier (효율적 투자선)\n",
        "\n",
        "- Efficient Frontier 는 정의된 수준의 위험 또는 주어진 기대수익 수준의 가장 낮은 위험에 대해 가장 높은 수익률을 제공하는 최적 포트폴리오 세트이다.\n",
        "\n",
        "- 효율적 전선 아래에 있는 포트폴리오는 동일한 위험 수준에 대해 효율적 전선 상의 포트폴리오 보다 낮은 수익을 제공하므로 최선의 포트폴리오가 아님. 효율적 전선 오른쪽의 포트폴리오는 동일한 수익에 대해 위험 수준이 높으므로 최선의 포트폴리오가 아님.\n",
        "\n",
        "<img src=\"https://i.imgur.com/f5l3zG0.png\" width=450 />"
      ]
    },
    {
      "cell_type": "code",
      "execution_count": 45,
      "id": "a2d9938b",
      "metadata": {
        "id": "a2d9938b"
      },
      "outputs": [],
      "source": [
        "# 목적 함수 설정 - 특정 자산 비중(weights)에서 가장 낮은 변동성을 찾는 함수\n",
        "# weights는 각 자산의 비중을 나타냅니다.\n",
        "# get_ret_vol_sr 함수는 수익률, 변동성, 샤프 비율을 반환하는 함수입니다.\n",
        "# [1]은 변동성(volatility)을 의미하며, 이 변동성을 최소화하는 것이 이 함수의 목적입니다.\n",
        "def minimize_volatility(weights):\n",
        "  return get_ret_vol_sr(weights, log_return)[1]"
      ]
    },
    {
      "cell_type": "code",
      "execution_count": 46,
      "id": "ccb57150",
      "metadata": {
        "id": "ccb57150"
      },
      "outputs": [],
      "source": [
        "# 최적화 함수\n",
        "# possible_return 값에 따라 변동성을 최소화하는 최적의 자산 비중을 찾습니다.\n",
        "def optimized_result(possible_return):\n",
        "    # 제약 조건 설정\n",
        "    # 첫 번째 제약 조건: 자산 비중의 합이 1이 되어야 함 (check_sum 함수 사용)\n",
        "    # 두 번째 제약 조건: 기대 수익률이 가능한 수익률(possible_return)과 같아야 함\n",
        "    cons = ({'type': 'eq', 'fun': check_sum},\n",
        "            {'type': 'eq', 'fun': lambda w: get_ret_vol_sr(w, log_return)[0] - possible_return})\n",
        "\n",
        "    # minimize 함수를 사용하여 변동성을 최소화하는 최적의 자산 비중을 찾습니다.\n",
        "    # minimize_volatility 함수는 변동성을 최소화하는 함수,\n",
        "    # x0는 초기 자산 비중, method='SLSQP'는 Sequential Least Squares Programming 알고리즘 사용,\n",
        "    # bounds는 각 자산 비중의 경계를 설정하며, constraints는 제약 조건을 의미합니다.\n",
        "    results = minimize(minimize_volatility, x0, method='SLSQP', bounds=bounds, constraints=cons)\n",
        "\n",
        "    # 최적화 결과 반환\n",
        "    return results"
      ]
    },
    {
      "cell_type": "markdown",
      "id": "efab3918",
      "metadata": {
        "id": "efab3918"
      },
      "source": [
        "- possible return이 frontier_y일 때의 volatility를 구한다.  \n",
        "- optimized_result 의 fun 이 목적함수의 반환값 $\\rightarrow$ 즉, volatility 값  \n",
        "    - fun : 최적화 알고리즘이 찾은 최적 해에서의 목표 함수(minimize_volatility)의 값\n",
        "    - x : 자산 비중"
      ]
    },
    {
      "cell_type": "code",
      "execution_count": 44,
      "id": "950012b3",
      "metadata": {
        "id": "950012b3"
      },
      "outputs": [],
      "source": [
        "# return 의 시각화 범위 설정\n",
        "frontier_y = np.linspace(0.01, 0.90, 100)"
      ]
    },
    {
      "cell_type": "markdown",
      "id": "7696c897",
      "metadata": {
        "id": "7696c897"
      },
      "source": [
        "- 모든 return (frontier_y)에 대한 volatility 를 구함"
      ]
    },
    {
      "cell_type": "code",
      "execution_count": 47,
      "id": "b7dccd00",
      "metadata": {
        "id": "b7dccd00",
        "colab": {
          "base_uri": "https://localhost:8080/"
        },
        "outputId": "7c9ea3f7-694c-4855-aeed-4365836d5feb"
      },
      "outputs": [
        {
          "output_type": "execute_result",
          "data": {
            "text/plain": [
              "[np.float64(0.46304019077489256),\n",
              " np.float64(0.46304019077488745),\n",
              " np.float64(0.4630401907748899),\n",
              " np.float64(0.463040190774911),\n",
              " np.float64(0.463040190774879)]"
            ]
          },
          "metadata": {},
          "execution_count": 47
        }
      ],
      "source": [
        "# 효율적 투자선의 변동성 값을 저장할 리스트를 초기화합니다.\n",
        "frontier_volatility = []\n",
        "# 주어진 기대 수익률 리스트 frontier_y에 대해 반복하며 변동성을 계산합니다.\n",
        "for possible_return in frontier_y:\n",
        "    result = optimized_result(possible_return)\n",
        "\n",
        "    # 각 기대 수익률(possible_return)에 대해 변동성을 최소화하는 최적의 자산 비중을 찾습니다.\n",
        "    # 최적화 결과에서 변동성 값을 리스트에 추가합니다.\n",
        "    # result.fun은 최적화된 변동성 값(목표 함수의 값)을 의미합니다.\n",
        "    frontier_volatility.append(result['fun'])\n",
        "\n",
        "# 계산된 효율적 투자선의 변동성 값 중 처음 5개의 값을 출력합니다.\n",
        "frontier_volatility[:5]"
      ]
    },
    {
      "cell_type": "markdown",
      "id": "b5a4ba83",
      "metadata": {
        "id": "b5a4ba83"
      },
      "source": [
        "- 모든 possible return 과 volatility를 연결하는 plot 시각화."
      ]
    },
    {
      "cell_type": "code",
      "execution_count": 51,
      "id": "541f7f82",
      "metadata": {
        "id": "541f7f82",
        "colab": {
          "base_uri": "https://localhost:8080/",
          "height": 540
        },
        "outputId": "be0444da-81f6-4460-e2d7-bda54bc0e7ee"
      },
      "outputs": [
        {
          "output_type": "display_data",
          "data": {
            "text/plain": [
              "<Figure size 800x600 with 1 Axes>"
            ],
            "image/png": "[encoded data removed]"
          },
          "metadata": {}
        }
      ],
      "source": [
        "plt.figure(figsize=(8, 6))\n",
        "\n",
        "# 효율적 투자선(Efficient Frontier)을 시각화합니다.\n",
        "# frontier_volatility는 각 기대 수익률에 대응하는 변동성 값의 리스트입니다.\n",
        "# frontier_y는 기대 수익률을 나타냅니다.\n",
        "# 'g--'는 초록색 점선으로 그래프를 그리며, linewidth=3은 선의 굵기를 지정합니다.\n",
        "# label='Efficient Frontier'는 범례에 'Efficient Frontier'로 표시됩니다.\n",
        "plt.plot(frontier_volatility, frontier_y, 'g--', linewidth=3, label='효율적 프론티어')\n",
        "\n",
        "# 최적 포트폴리오를 시각화합니다.\n",
        "# opt_rvs[1]은 최적 포트폴리오의 변동성(Volatility), opt_rvs[0]은 최적 포트폴리오의 수익률(Return)입니다.\n",
        "# 'ro'는 빨간색 원 마커로 최적 포트폴리오를 표시하며, markersize=10은 마커 크기를 지정합니다.\n",
        "# label='Optimum Portfolio'는 범례에 'Optimum Portfolio'로 표시됩니다.\n",
        "plt.plot(opt_rvs[1], opt_rvs[0], 'ro', markersize=10, label='최적 Portfolio')\n",
        "\n",
        "# x축 레이블을 'Volatility'(변동성)으로 설정합니다.\n",
        "plt.xlabel('Volatility')\n",
        "\n",
        "# y축 레이블을 'Return'(수익률)으로 설정합니다.\n",
        "plt.ylabel('Return')\n",
        "\n",
        "# 범례를 그래프에 추가합니다.\n",
        "plt.legend()\n",
        "plt.show()"
      ]
    },
    {
      "cell_type": "markdown",
      "id": "c63af456",
      "metadata": {
        "id": "c63af456"
      },
      "source": [
        "### Method 1, 2 를 함께 시각화하여 결과 비교"
      ]
    },
    {
      "cell_type": "code",
      "execution_count": null,
      "id": "1ad50b44",
      "metadata": {
        "id": "1ad50b44"
      },
      "outputs": [],
      "source": [
        "# 몬테카를로(MC) 시뮬레이션을 사용하여 포트폴리오의 변동성과 수익률을 산점도로 시각화\n",
        "# vol_arr: 각 포트폴리오의 변동성 배열\n",
        "# ret_arr: 각 포트폴리오의 수익률 배열\n",
        "# c=sharpe_arr: 샤프 비율에 따라 색을 지정\n",
        "# 최적의 포트폴리오를 파란색 원으로 표시\n",
        "# vol_arr[max_idx], ret_arr[max_idx]: 최적 포트폴리오의 변동성과 수익률\n",
        "# 색상 막대 추가하여 샤프 비율에 따른 색상 범위를 표시\n",
        "# 수학적 방법으로 계산된 효율적 투자선(Efficient Frontier)을 녹색 점선으로 시각화\n",
        "# frontier_volatility: 효율적 투자선의 변동성\n",
        "# frontier_y: 효율적 투자선의 기대 수익률\n",
        "# 수학적 방법으로 계산된 최적 포트폴리오를 빨간색 원으로 표시\n",
        "# opt_rvs[1]: 최적 포트폴리오의 변동성\n",
        "# opt_rvs[0]: 최적 포트폴리오의 기대 수익률"
      ]
    },
    {
      "cell_type": "code",
      "execution_count": 52,
      "id": "b62da665",
      "metadata": {
        "id": "b62da665",
        "colab": {
          "base_uri": "https://localhost:8080/",
          "height": 540
        },
        "outputId": "d13d6c34-18ec-401f-b396-375e2de71a4d"
      },
      "outputs": [
        {
          "output_type": "display_data",
          "data": {
            "text/plain": [
              "<Figure size 800x600 with 2 Axes>"
            ],
            "image/png": "[encoded data removed]"
          },
          "metadata": {}
        }
      ],
      "source": [
        "plt.figure(figsize=(8, 6))\n",
        "\n",
        "# 몬테카를로(MC) 시뮬레이션을 사용하여 포트폴리오의 변동성과 수익률을 산점도로 시각화\n",
        "# vol_arr: 각 포트폴리오의 변동성 배열\n",
        "# ret_arr: 각 포트폴리오의 수익률 배열\n",
        "# c=sharpe_arr: 샤프 비율에 따라 색을 지정\n",
        "plt.scatter(vol_arr, ret_arr, c=sharpe_arr, marker='.', cmap='plasma')\n",
        "\n",
        "# 최적의 포트폴리오를 파란색 원으로 표시\n",
        "# vol_arr[max_idx], ret_arr[max_idx]: 최적 포트폴리오의 변동성과 수익률\n",
        "plt.plot(vol_arr[max_idx], ret_arr[max_idx], 'bo', markeredgecolor='k', markersize=10, label='MC-최적 Portfolio')\n",
        "\n",
        "# 색상 막대 추가하여 샤프 비율에 따른 색상 범위를 표시\n",
        "plt.colorbar(label='Sharpe Ratio')\n",
        "\n",
        "# 수학적 방법으로 계산된 효율적 투자선(Efficient Frontier)을 녹색 점선으로 시각화\n",
        "# frontier_volatility: 효율적 투자선의 변동성\n",
        "# frontier_y: 효율적 투자선의 기대 수익률\n",
        "plt.plot(frontier_volatility, frontier_y, 'g--', linewidth=3, label='효율적 Frontier')\n",
        "\n",
        "# 수학적 방법으로 계산된 최적 포트폴리오를 빨간색 원으로 표시\n",
        "# opt_rvs[1]: 최적 포트폴리오의 변동성\n",
        "# opt_rvs[0]: 최적 포트폴리오의 기대 수익률\n",
        "plt.plot(opt_rvs[1], opt_rvs[0], 'ro', markersize=10, label='Math-최적 Portfolio')\n",
        "\n",
        "plt.grid(True)\n",
        "\n",
        "plt.xlabel('Volatility')\n",
        "plt.ylabel('Return')\n",
        "plt.legend()\n",
        "plt.show()"
      ]
    },
    {
      "cell_type": "code",
      "source": [],
      "metadata": {
        "id": "gzKbb9AFw3L_"
      },
      "id": "gzKbb9AFw3L_",
      "execution_count": null,
      "outputs": []
    }
  ],
  "metadata": {
    "kernelspec": {
      "display_name": "Python 3 (ipykernel)",
      "language": "python",
      "name": "python3"
    },
    "language_info": {
      "codemirror_mode": {
        "name": "ipython",
        "version": 3
      },
      "file_extension": ".py",
      "mimetype": "text/x-python",
      "name": "python",
      "nbconvert_exporter": "python",
      "pygments_lexer": "ipython3",
      "version": "3.9.16"
    },
    "colab": {
      "provenance": [],
      "include_colab_link": true
    }
  },
  "nbformat": 4,
  "nbformat_minor": 5
}